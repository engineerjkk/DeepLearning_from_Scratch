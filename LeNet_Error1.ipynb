{
  "nbformat": 4,
  "nbformat_minor": 0,
  "metadata": {
    "colab": {
      "name": "LeNet_Error1",
      "provenance": [],
      "collapsed_sections": [],
      "mount_file_id": "1bL3r4iLkM7pEb2sfMyNPj0GrSmkEgyLM",
      "authorship_tag": "ABX9TyOCw1QOsprQYpxgmvIm1U2l",
      "include_colab_link": true
    },
    "kernelspec": {
      "name": "python3",
      "display_name": "Python 3"
    },
    "language_info": {
      "name": "python"
    },
    "accelerator": "GPU"
  },
  "cells": [
    {
      "cell_type": "markdown",
      "metadata": {
        "id": "view-in-github",
        "colab_type": "text"
      },
      "source": [
        "<a href=\"https://colab.research.google.com/github/engineerjkk/DeepLearning_from_Scratch/blob/main/LeNet_Error1.ipynb\" target=\"_parent\"><img src=\"https://colab.research.google.com/assets/colab-badge.svg\" alt=\"Open In Colab\"/></a>"
      ]
    },
    {
      "cell_type": "code",
      "metadata": {
        "colab": {
          "base_uri": "https://localhost:8080/",
          "height": 35
        },
        "id": "c7WG9ASOfoqU",
        "outputId": "02a31099-3ea2-4cf1-f618-a43a5a62054f"
      },
      "source": [
        "pwd"
      ],
      "execution_count": 1,
      "outputs": [
        {
          "output_type": "execute_result",
          "data": {
            "application/vnd.google.colaboratory.intrinsic+json": {
              "type": "string"
            },
            "text/plain": [
              "'/content'"
            ]
          },
          "metadata": {},
          "execution_count": 1
        }
      ]
    },
    {
      "cell_type": "code",
      "metadata": {
        "id": "JGFKEGG1fqeb"
      },
      "source": [
        "from tensorflow.keras import Sequential\n",
        "from tensorflow.keras.layers import Conv2D, AveragePooling2D, Flatten, Dense\n",
        "from tensorflow.keras.losses import CategoricalCrossentropy\n",
        "import numpy as np\n",
        "import matplotlib.pyplot as plt\n",
        "import tensorflow as tf\n",
        "%matplotlib inline"
      ],
      "execution_count": 5,
      "outputs": []
    },
    {
      "cell_type": "code",
      "metadata": {
        "colab": {
          "base_uri": "https://localhost:8080/"
        },
        "id": "aMgp4xZBk7wc",
        "outputId": "bfb073f1-444d-43e1-d8d1-cf338468bd25"
      },
      "source": [
        "(X_train, y_train), (X_test, y_test) = tf.keras.datasets.mnist.load_data()\n",
        "X_val, y_val = X_train[55000:, ..., np.newaxis], y_train[55000:]\n",
        "X_train, y_train = X_train[:55000, ..., np.newaxis], y_train[:55000]\n",
        "X_test =  X_test[..., np.newaxis]\n",
        "\n",
        "print(\"Image Shape: {}\".format(X_train[0].shape), end = '\\n\\n')\n",
        "print(\"Training Set:   {} samples\".format(len(X_train)))\n",
        "print(\"Validation Set:   {} samples\".format(len(X_val)))\n",
        "print(\"Test Set:       {} samples\".format(len(X_test)))"
      ],
      "execution_count": 6,
      "outputs": [
        {
          "output_type": "stream",
          "name": "stdout",
          "text": [
            "Downloading data from https://storage.googleapis.com/tensorflow/tf-keras-datasets/mnist.npz\n",
            "11493376/11490434 [==============================] - 0s 0us/step\n",
            "11501568/11490434 [==============================] - 0s 0us/step\n",
            "Image Shape: (28, 28, 1)\n",
            "\n",
            "Training Set:   55000 samples\n",
            "Validation Set:   5000 samples\n",
            "Test Set:       10000 samples\n"
          ]
        }
      ]
    },
    {
      "cell_type": "code",
      "metadata": {
        "colab": {
          "base_uri": "https://localhost:8080/"
        },
        "id": "Xz7UN4jxpTH8",
        "outputId": "7dd7aa8b-be9d-435c-a424-7154ef8480c7"
      },
      "source": [
        "# Pad images with 0s\n",
        "X_train = np.pad(X_train, ((0,0),(2,2),(2,2),(0,0)), 'constant')\n",
        "X_val = np.pad(X_val, ((0,0),(2,2),(2,2),(0,0)), 'constant')\n",
        "X_test = np.pad(X_test, ((0,0),(2,2),(2,2),(0,0)), 'constant')\n",
        "\n",
        "print(\"Updated Image Shape for: \", end='\\n\\n')\n",
        "print(\"-Training set: {}\".format(X_train.shape))\n",
        "print(\"-Validation set: {}\".format(X_val.shape))\n",
        "print(\"-Test set: {}\".format(X_test.shape))"
      ],
      "execution_count": 7,
      "outputs": [
        {
          "output_type": "stream",
          "name": "stdout",
          "text": [
            "Updated Image Shape for: \n",
            "\n",
            "-Training set: (55000, 32, 32, 1)\n",
            "-Validation set: (5000, 32, 32, 1)\n",
            "-Test set: (10000, 32, 32, 1)\n"
          ]
        }
      ]
    },
    {
      "cell_type": "code",
      "metadata": {
        "id": "K13WOAHbpXke"
      },
      "source": [
        "# Normalization.\n",
        "X_train, X_val, X_test = X_train/float(255), X_val/float(255), X_test/float(255)\n",
        "X_train -= np.mean(X_train)\n",
        "X_val -= np.mean(X_val)\n",
        "X_test -= np.mean(X_test)"
      ],
      "execution_count": 8,
      "outputs": []
    },
    {
      "cell_type": "code",
      "metadata": {
        "id": "Ds4EExqTpZKi"
      },
      "source": [
        "def LeNet_5():\n",
        "    model = Sequential()\n",
        "\n",
        "    # C1: (None,32,32,1) -> (None,28,28,6).\n",
        "    model.add(Conv2D(6, kernel_size=(5, 5), strides=(1, 1), activation='tanh', input_shape=(32,32,1), padding='valid'))\n",
        "\n",
        "    # P1: (None,28,28,6) -> (None,14,14,6).\n",
        "    model.add(AveragePooling2D(pool_size=(2, 2), strides=(2, 2), padding='valid'))\n",
        "\n",
        "    # C2: (None,14,14,6) -> (None,10,10,16).\n",
        "    model.add(Conv2D(16, kernel_size=(5, 5), strides=(1, 1), activation='tanh', padding='valid'))\n",
        "\n",
        "    # P2: (None,10,10,16) -> (None,5,5,16).\n",
        "    model.add(AveragePooling2D(pool_size=(2, 2), strides=(2, 2), padding='valid'))\n",
        "\n",
        "    # Flatten: (None,5,5,16) -> (None, 400).\n",
        "    model.add(Flatten())\n",
        "\n",
        "    # FC1: (None, 400) -> (None,120).\n",
        "    model.add(Dense(120, activation='tanh'))\n",
        "\n",
        "    # FC2: (None,120) -> (None,84).\n",
        "    model.add(Dense(84, activation='tanh'))\n",
        "\n",
        "    # FC3: (None,84) -> (None,10).\n",
        "    model.add(Dense(10, activation='softmax'))\n",
        "\n",
        "    # Compile the model\n",
        "    model.compile(loss='sparse_categorical_crossentropy', optimizer='sgd', metrics=['accuracy']) \n",
        "    \n",
        "    return model"
      ],
      "execution_count": 9,
      "outputs": []
    },
    {
      "cell_type": "code",
      "metadata": {
        "colab": {
          "base_uri": "https://localhost:8080/"
        },
        "id": "-41m2shDpbQc",
        "outputId": "a037af45-ecf4-40d1-f296-e7afa3107b1d"
      },
      "source": [
        "model=LeNet_5()\n",
        "history = model.fit(X_train, y_train, validation_data=(X_val, y_val), epochs=20)\n",
        "# Save the model.\n",
        "model.save(\"lenet5_model.h5\")"
      ],
      "execution_count": 11,
      "outputs": [
        {
          "output_type": "stream",
          "name": "stdout",
          "text": [
            "Epoch 1/20\n",
            "1719/1719 [==============================] - 38s 5ms/step - loss: 0.6340 - accuracy: 0.8281 - val_loss: 0.2490 - val_accuracy: 0.9336\n",
            "Epoch 2/20\n",
            "1719/1719 [==============================] - 8s 5ms/step - loss: 0.2705 - accuracy: 0.9213 - val_loss: 0.1785 - val_accuracy: 0.9524\n",
            "Epoch 3/20\n",
            "1719/1719 [==============================] - 8s 5ms/step - loss: 0.2047 - accuracy: 0.9388 - val_loss: 0.1397 - val_accuracy: 0.9612\n",
            "Epoch 4/20\n",
            "1719/1719 [==============================] - 8s 5ms/step - loss: 0.1619 - accuracy: 0.9519 - val_loss: 0.1133 - val_accuracy: 0.9690\n",
            "Epoch 5/20\n",
            "1719/1719 [==============================] - 8s 5ms/step - loss: 0.1320 - accuracy: 0.9612 - val_loss: 0.0969 - val_accuracy: 0.9716\n",
            "Epoch 6/20\n",
            "1719/1719 [==============================] - 8s 5ms/step - loss: 0.1114 - accuracy: 0.9679 - val_loss: 0.0889 - val_accuracy: 0.9754\n",
            "Epoch 7/20\n",
            "1719/1719 [==============================] - 8s 5ms/step - loss: 0.0961 - accuracy: 0.9724 - val_loss: 0.0789 - val_accuracy: 0.9776\n",
            "Epoch 8/20\n",
            "1719/1719 [==============================] - 8s 5ms/step - loss: 0.0845 - accuracy: 0.9753 - val_loss: 0.0727 - val_accuracy: 0.9786\n",
            "Epoch 9/20\n",
            "1719/1719 [==============================] - 8s 5ms/step - loss: 0.0756 - accuracy: 0.9783 - val_loss: 0.0704 - val_accuracy: 0.9786\n",
            "Epoch 10/20\n",
            "1719/1719 [==============================] - 8s 5ms/step - loss: 0.0686 - accuracy: 0.9801 - val_loss: 0.0631 - val_accuracy: 0.9820\n",
            "Epoch 11/20\n",
            "1719/1719 [==============================] - 8s 5ms/step - loss: 0.0626 - accuracy: 0.9821 - val_loss: 0.0611 - val_accuracy: 0.9814\n",
            "Epoch 12/20\n",
            "1719/1719 [==============================] - 8s 5ms/step - loss: 0.0579 - accuracy: 0.9831 - val_loss: 0.0596 - val_accuracy: 0.9828\n",
            "Epoch 13/20\n",
            "1719/1719 [==============================] - 8s 5ms/step - loss: 0.0538 - accuracy: 0.9845 - val_loss: 0.0562 - val_accuracy: 0.9840\n",
            "Epoch 14/20\n",
            "1719/1719 [==============================] - 8s 5ms/step - loss: 0.0502 - accuracy: 0.9854 - val_loss: 0.0540 - val_accuracy: 0.9846\n",
            "Epoch 15/20\n",
            "1719/1719 [==============================] - 8s 5ms/step - loss: 0.0471 - accuracy: 0.9864 - val_loss: 0.0490 - val_accuracy: 0.9854\n",
            "Epoch 16/20\n",
            "1719/1719 [==============================] - 8s 5ms/step - loss: 0.0443 - accuracy: 0.9872 - val_loss: 0.0499 - val_accuracy: 0.9854\n",
            "Epoch 17/20\n",
            "1719/1719 [==============================] - 8s 5ms/step - loss: 0.0419 - accuracy: 0.9876 - val_loss: 0.0491 - val_accuracy: 0.9860\n",
            "Epoch 18/20\n",
            "1719/1719 [==============================] - 8s 5ms/step - loss: 0.0398 - accuracy: 0.9884 - val_loss: 0.0469 - val_accuracy: 0.9862\n",
            "Epoch 19/20\n",
            "1719/1719 [==============================] - 8s 5ms/step - loss: 0.0378 - accuracy: 0.9891 - val_loss: 0.0453 - val_accuracy: 0.9866\n",
            "Epoch 20/20\n",
            "1719/1719 [==============================] - 8s 5ms/step - loss: 0.0362 - accuracy: 0.9896 - val_loss: 0.0440 - val_accuracy: 0.9866\n"
          ]
        }
      ]
    },
    {
      "cell_type": "code",
      "metadata": {
        "id": "8Yz6IlcXqjIo"
      },
      "source": [
        ""
      ],
      "execution_count": null,
      "outputs": []
    },
    {
      "cell_type": "code",
      "metadata": {
        "colab": {
          "base_uri": "https://localhost:8080/",
          "height": 300
        },
        "id": "X4lz9Flvpc9H",
        "outputId": "d23f3dcc-4fad-4743-9b8b-ca021ff9506b"
      },
      "source": [
        "# Restore the model.\n",
        "model = tf.keras.models.load_model('lenet5_model.h5')\n",
        "\n",
        "# Make prediction.\n",
        "predictions = model.predict(X_test)\n",
        "\n",
        "# Retrieve predictions indexes.\n",
        "y_pred = np.argmax(predictions, axis=1)\n",
        "\n",
        "# Print test set accuracy.\n",
        "print('Test set error rate: {}'.format(np.mean(y_pred == y_test)))\n",
        "\n",
        "# Plot some examples with model predictions.\n",
        "print('\\nSome correct classification:')\n",
        "plot_example(X_test, y_test, y_pred)\n",
        "\n",
        "print('\\nSome incorrect classification:')\n",
        "plot_example_errors(X_test, y_test, y_pred)\n",
        "\n",
        "# Plot training error.\n",
        "print('\\nPlot of training error over 20 epochs:')\n",
        "plt.title('Training error')\n",
        "plt.ylabel('Cost')\n",
        "plt.xlabel('epoch')\n",
        "\n",
        "plt.plot(history.history['loss'])\n",
        "plt.plot(history.history['val_loss'])\n",
        "plt.legend(['train loss', 'val loss'], loc='upper right')\n",
        "plt.show()"
      ],
      "execution_count": 18,
      "outputs": [
        {
          "output_type": "stream",
          "name": "stdout",
          "text": [
            "Test set error rate: 0.9855\n",
            "\n",
            "Some correct classification:\n"
          ]
        },
        {
          "output_type": "error",
          "ename": "NameError",
          "evalue": "ignored",
          "traceback": [
            "\u001b[0;31m---------------------------------------------------------------------------\u001b[0m",
            "\u001b[0;31mNameError\u001b[0m                                 Traceback (most recent call last)",
            "\u001b[0;32m<ipython-input-18-9535e365d092>\u001b[0m in \u001b[0;36m<module>\u001b[0;34m()\u001b[0m\n\u001b[1;32m     13\u001b[0m \u001b[0;31m# Plot some examples with model predictions.\u001b[0m\u001b[0;34m\u001b[0m\u001b[0;34m\u001b[0m\u001b[0;34m\u001b[0m\u001b[0m\n\u001b[1;32m     14\u001b[0m \u001b[0mprint\u001b[0m\u001b[0;34m(\u001b[0m\u001b[0;34m'\\nSome correct classification:'\u001b[0m\u001b[0;34m)\u001b[0m\u001b[0;34m\u001b[0m\u001b[0;34m\u001b[0m\u001b[0m\n\u001b[0;32m---> 15\u001b[0;31m \u001b[0mplot_example\u001b[0m\u001b[0;34m(\u001b[0m\u001b[0mX_test\u001b[0m\u001b[0;34m,\u001b[0m \u001b[0my_test\u001b[0m\u001b[0;34m,\u001b[0m \u001b[0my_pred\u001b[0m\u001b[0;34m)\u001b[0m\u001b[0;34m\u001b[0m\u001b[0;34m\u001b[0m\u001b[0m\n\u001b[0m\u001b[1;32m     16\u001b[0m \u001b[0;34m\u001b[0m\u001b[0m\n\u001b[1;32m     17\u001b[0m \u001b[0mprint\u001b[0m\u001b[0;34m(\u001b[0m\u001b[0;34m'\\nSome incorrect classification:'\u001b[0m\u001b[0;34m)\u001b[0m\u001b[0;34m\u001b[0m\u001b[0;34m\u001b[0m\u001b[0m\n",
            "\u001b[0;31mNameError\u001b[0m: name 'plot_example' is not defined"
          ]
        }
      ]
    },
    {
      "cell_type": "code",
      "metadata": {
        "colab": {
          "base_uri": "https://localhost:8080/"
        },
        "id": "u7nWvfJTqgjs",
        "outputId": "1e919720-2242-49e3-ee14-d8a7448956d3"
      },
      "source": [
        "X_test"
      ],
      "execution_count": 19,
      "outputs": [
        {
          "output_type": "execute_result",
          "data": {
            "text/plain": [
              "array([[[[-0.1014565],\n",
              "         [-0.1014565],\n",
              "         [-0.1014565],\n",
              "         ...,\n",
              "         [-0.1014565],\n",
              "         [-0.1014565],\n",
              "         [-0.1014565]],\n",
              "\n",
              "        [[-0.1014565],\n",
              "         [-0.1014565],\n",
              "         [-0.1014565],\n",
              "         ...,\n",
              "         [-0.1014565],\n",
              "         [-0.1014565],\n",
              "         [-0.1014565]],\n",
              "\n",
              "        [[-0.1014565],\n",
              "         [-0.1014565],\n",
              "         [-0.1014565],\n",
              "         ...,\n",
              "         [-0.1014565],\n",
              "         [-0.1014565],\n",
              "         [-0.1014565]],\n",
              "\n",
              "        ...,\n",
              "\n",
              "        [[-0.1014565],\n",
              "         [-0.1014565],\n",
              "         [-0.1014565],\n",
              "         ...,\n",
              "         [-0.1014565],\n",
              "         [-0.1014565],\n",
              "         [-0.1014565]],\n",
              "\n",
              "        [[-0.1014565],\n",
              "         [-0.1014565],\n",
              "         [-0.1014565],\n",
              "         ...,\n",
              "         [-0.1014565],\n",
              "         [-0.1014565],\n",
              "         [-0.1014565]],\n",
              "\n",
              "        [[-0.1014565],\n",
              "         [-0.1014565],\n",
              "         [-0.1014565],\n",
              "         ...,\n",
              "         [-0.1014565],\n",
              "         [-0.1014565],\n",
              "         [-0.1014565]]],\n",
              "\n",
              "\n",
              "       [[[-0.1014565],\n",
              "         [-0.1014565],\n",
              "         [-0.1014565],\n",
              "         ...,\n",
              "         [-0.1014565],\n",
              "         [-0.1014565],\n",
              "         [-0.1014565]],\n",
              "\n",
              "        [[-0.1014565],\n",
              "         [-0.1014565],\n",
              "         [-0.1014565],\n",
              "         ...,\n",
              "         [-0.1014565],\n",
              "         [-0.1014565],\n",
              "         [-0.1014565]],\n",
              "\n",
              "        [[-0.1014565],\n",
              "         [-0.1014565],\n",
              "         [-0.1014565],\n",
              "         ...,\n",
              "         [-0.1014565],\n",
              "         [-0.1014565],\n",
              "         [-0.1014565]],\n",
              "\n",
              "        ...,\n",
              "\n",
              "        [[-0.1014565],\n",
              "         [-0.1014565],\n",
              "         [-0.1014565],\n",
              "         ...,\n",
              "         [-0.1014565],\n",
              "         [-0.1014565],\n",
              "         [-0.1014565]],\n",
              "\n",
              "        [[-0.1014565],\n",
              "         [-0.1014565],\n",
              "         [-0.1014565],\n",
              "         ...,\n",
              "         [-0.1014565],\n",
              "         [-0.1014565],\n",
              "         [-0.1014565]],\n",
              "\n",
              "        [[-0.1014565],\n",
              "         [-0.1014565],\n",
              "         [-0.1014565],\n",
              "         ...,\n",
              "         [-0.1014565],\n",
              "         [-0.1014565],\n",
              "         [-0.1014565]]],\n",
              "\n",
              "\n",
              "       [[[-0.1014565],\n",
              "         [-0.1014565],\n",
              "         [-0.1014565],\n",
              "         ...,\n",
              "         [-0.1014565],\n",
              "         [-0.1014565],\n",
              "         [-0.1014565]],\n",
              "\n",
              "        [[-0.1014565],\n",
              "         [-0.1014565],\n",
              "         [-0.1014565],\n",
              "         ...,\n",
              "         [-0.1014565],\n",
              "         [-0.1014565],\n",
              "         [-0.1014565]],\n",
              "\n",
              "        [[-0.1014565],\n",
              "         [-0.1014565],\n",
              "         [-0.1014565],\n",
              "         ...,\n",
              "         [-0.1014565],\n",
              "         [-0.1014565],\n",
              "         [-0.1014565]],\n",
              "\n",
              "        ...,\n",
              "\n",
              "        [[-0.1014565],\n",
              "         [-0.1014565],\n",
              "         [-0.1014565],\n",
              "         ...,\n",
              "         [-0.1014565],\n",
              "         [-0.1014565],\n",
              "         [-0.1014565]],\n",
              "\n",
              "        [[-0.1014565],\n",
              "         [-0.1014565],\n",
              "         [-0.1014565],\n",
              "         ...,\n",
              "         [-0.1014565],\n",
              "         [-0.1014565],\n",
              "         [-0.1014565]],\n",
              "\n",
              "        [[-0.1014565],\n",
              "         [-0.1014565],\n",
              "         [-0.1014565],\n",
              "         ...,\n",
              "         [-0.1014565],\n",
              "         [-0.1014565],\n",
              "         [-0.1014565]]],\n",
              "\n",
              "\n",
              "       ...,\n",
              "\n",
              "\n",
              "       [[[-0.1014565],\n",
              "         [-0.1014565],\n",
              "         [-0.1014565],\n",
              "         ...,\n",
              "         [-0.1014565],\n",
              "         [-0.1014565],\n",
              "         [-0.1014565]],\n",
              "\n",
              "        [[-0.1014565],\n",
              "         [-0.1014565],\n",
              "         [-0.1014565],\n",
              "         ...,\n",
              "         [-0.1014565],\n",
              "         [-0.1014565],\n",
              "         [-0.1014565]],\n",
              "\n",
              "        [[-0.1014565],\n",
              "         [-0.1014565],\n",
              "         [-0.1014565],\n",
              "         ...,\n",
              "         [-0.1014565],\n",
              "         [-0.1014565],\n",
              "         [-0.1014565]],\n",
              "\n",
              "        ...,\n",
              "\n",
              "        [[-0.1014565],\n",
              "         [-0.1014565],\n",
              "         [-0.1014565],\n",
              "         ...,\n",
              "         [-0.1014565],\n",
              "         [-0.1014565],\n",
              "         [-0.1014565]],\n",
              "\n",
              "        [[-0.1014565],\n",
              "         [-0.1014565],\n",
              "         [-0.1014565],\n",
              "         ...,\n",
              "         [-0.1014565],\n",
              "         [-0.1014565],\n",
              "         [-0.1014565]],\n",
              "\n",
              "        [[-0.1014565],\n",
              "         [-0.1014565],\n",
              "         [-0.1014565],\n",
              "         ...,\n",
              "         [-0.1014565],\n",
              "         [-0.1014565],\n",
              "         [-0.1014565]]],\n",
              "\n",
              "\n",
              "       [[[-0.1014565],\n",
              "         [-0.1014565],\n",
              "         [-0.1014565],\n",
              "         ...,\n",
              "         [-0.1014565],\n",
              "         [-0.1014565],\n",
              "         [-0.1014565]],\n",
              "\n",
              "        [[-0.1014565],\n",
              "         [-0.1014565],\n",
              "         [-0.1014565],\n",
              "         ...,\n",
              "         [-0.1014565],\n",
              "         [-0.1014565],\n",
              "         [-0.1014565]],\n",
              "\n",
              "        [[-0.1014565],\n",
              "         [-0.1014565],\n",
              "         [-0.1014565],\n",
              "         ...,\n",
              "         [-0.1014565],\n",
              "         [-0.1014565],\n",
              "         [-0.1014565]],\n",
              "\n",
              "        ...,\n",
              "\n",
              "        [[-0.1014565],\n",
              "         [-0.1014565],\n",
              "         [-0.1014565],\n",
              "         ...,\n",
              "         [-0.1014565],\n",
              "         [-0.1014565],\n",
              "         [-0.1014565]],\n",
              "\n",
              "        [[-0.1014565],\n",
              "         [-0.1014565],\n",
              "         [-0.1014565],\n",
              "         ...,\n",
              "         [-0.1014565],\n",
              "         [-0.1014565],\n",
              "         [-0.1014565]],\n",
              "\n",
              "        [[-0.1014565],\n",
              "         [-0.1014565],\n",
              "         [-0.1014565],\n",
              "         ...,\n",
              "         [-0.1014565],\n",
              "         [-0.1014565],\n",
              "         [-0.1014565]]],\n",
              "\n",
              "\n",
              "       [[[-0.1014565],\n",
              "         [-0.1014565],\n",
              "         [-0.1014565],\n",
              "         ...,\n",
              "         [-0.1014565],\n",
              "         [-0.1014565],\n",
              "         [-0.1014565]],\n",
              "\n",
              "        [[-0.1014565],\n",
              "         [-0.1014565],\n",
              "         [-0.1014565],\n",
              "         ...,\n",
              "         [-0.1014565],\n",
              "         [-0.1014565],\n",
              "         [-0.1014565]],\n",
              "\n",
              "        [[-0.1014565],\n",
              "         [-0.1014565],\n",
              "         [-0.1014565],\n",
              "         ...,\n",
              "         [-0.1014565],\n",
              "         [-0.1014565],\n",
              "         [-0.1014565]],\n",
              "\n",
              "        ...,\n",
              "\n",
              "        [[-0.1014565],\n",
              "         [-0.1014565],\n",
              "         [-0.1014565],\n",
              "         ...,\n",
              "         [-0.1014565],\n",
              "         [-0.1014565],\n",
              "         [-0.1014565]],\n",
              "\n",
              "        [[-0.1014565],\n",
              "         [-0.1014565],\n",
              "         [-0.1014565],\n",
              "         ...,\n",
              "         [-0.1014565],\n",
              "         [-0.1014565],\n",
              "         [-0.1014565]],\n",
              "\n",
              "        [[-0.1014565],\n",
              "         [-0.1014565],\n",
              "         [-0.1014565],\n",
              "         ...,\n",
              "         [-0.1014565],\n",
              "         [-0.1014565],\n",
              "         [-0.1014565]]]])"
            ]
          },
          "metadata": {},
          "execution_count": 19
        }
      ]
    },
    {
      "cell_type": "code",
      "metadata": {
        "colab": {
          "base_uri": "https://localhost:8080/"
        },
        "id": "k09QoII6rW98",
        "outputId": "4ad27bda-c4b3-47b6-d038-481cfa730010"
      },
      "source": [
        "y_test"
      ],
      "execution_count": 20,
      "outputs": [
        {
          "output_type": "execute_result",
          "data": {
            "text/plain": [
              "array([7, 2, 1, ..., 4, 5, 6], dtype=uint8)"
            ]
          },
          "metadata": {},
          "execution_count": 20
        }
      ]
    },
    {
      "cell_type": "code",
      "metadata": {
        "id": "jMCGgEc1rYw-"
      },
      "source": [
        ""
      ],
      "execution_count": null,
      "outputs": []
    }
  ]
}