{
  "nbformat": 4,
  "nbformat_minor": 0,
  "metadata": {
    "colab": {
      "name": "StepbyStep_LeNet.ipynb",
      "provenance": [],
      "authorship_tag": "ABX9TyOKYy9ayskO5zdHoOywElbZ",
      "include_colab_link": true
    },
    "kernelspec": {
      "name": "python3",
      "display_name": "Python 3"
    },
    "language_info": {
      "name": "python"
    }
  },
  "cells": [
    {
      "cell_type": "markdown",
      "metadata": {
        "id": "view-in-github",
        "colab_type": "text"
      },
      "source": [
        "<a href=\"https://colab.research.google.com/github/engineerjkk/DeepLearning_from_Scratch/blob/main/StepbyStep_LeNet.ipynb\" target=\"_parent\"><img src=\"https://colab.research.google.com/assets/colab-badge.svg\" alt=\"Open In Colab\"/></a>"
      ]
    },
    {
      "cell_type": "code",
      "metadata": {
        "id": "EXVC9p3Vs7yE"
      },
      "source": [
        "import numpy as np\n",
        "import matplotlib.pyplot as plt\n",
        "\n",
        "import tensorflow as tf\n",
        "\n",
        "%matplotlib inline"
      ],
      "execution_count": 1,
      "outputs": []
    },
    {
      "cell_type": "code",
      "metadata": {
        "id": "FPEQUCqEs9B3"
      },
      "source": [
        "\n",
        "from tensorflow.keras import datasets"
      ],
      "execution_count": 2,
      "outputs": []
    },
    {
      "cell_type": "code",
      "metadata": {
        "id": "dc5ttBqks-D4"
      },
      "source": [
        "mnist=datasets.mnist"
      ],
      "execution_count": 3,
      "outputs": []
    },
    {
      "cell_type": "code",
      "metadata": {
        "colab": {
          "base_uri": "https://localhost:8080/"
        },
        "id": "PNbJdzWjs-9I",
        "outputId": "02f8a1f0-c6bf-43ab-f378-1d22b1920db1"
      },
      "source": [
        "\n",
        "(train_x, train_y), (test_x, test_y) = mnist.load_data()"
      ],
      "execution_count": 4,
      "outputs": [
        {
          "output_type": "stream",
          "name": "stdout",
          "text": [
            "Downloading data from https://storage.googleapis.com/tensorflow/tf-keras-datasets/mnist.npz\n",
            "11493376/11490434 [==============================] - 0s 0us/step\n",
            "11501568/11490434 [==============================] - 0s 0us/step\n"
          ]
        }
      ]
    },
    {
      "cell_type": "code",
      "metadata": {
        "colab": {
          "base_uri": "https://localhost:8080/"
        },
        "id": "Vb95GE9Vs_sg",
        "outputId": "3bb70b36-3c5b-42e4-d47a-255b944cb746"
      },
      "source": [
        "train_x.shape"
      ],
      "execution_count": 6,
      "outputs": [
        {
          "output_type": "execute_result",
          "data": {
            "text/plain": [
              "(60000, 28, 28)"
            ]
          },
          "metadata": {},
          "execution_count": 6
        }
      ]
    },
    {
      "cell_type": "code",
      "metadata": {
        "colab": {
          "base_uri": "https://localhost:8080/"
        },
        "id": "4zZx0p4WtAaJ",
        "outputId": "735e4bde-10ce-486a-cbcf-8a19c50b211e"
      },
      "source": [
        "image = train_x[0]\n",
        "image.shape"
      ],
      "execution_count": 7,
      "outputs": [
        {
          "output_type": "execute_result",
          "data": {
            "text/plain": [
              "(28, 28)"
            ]
          },
          "metadata": {},
          "execution_count": 7
        }
      ]
    },
    {
      "cell_type": "code",
      "metadata": {
        "colab": {
          "base_uri": "https://localhost:8080/",
          "height": 265
        },
        "id": "H5thF3-EtEn9",
        "outputId": "cd20d2b4-8e47-440e-9d87-4e8e0e91972b"
      },
      "source": [
        "plt.imshow(image, 'gray')\n",
        "plt.show()"
      ],
      "execution_count": 8,
      "outputs": [
        {
          "output_type": "display_data",
          "data": {
            "image/png": "[encoded data removed]",
            "text/plain": [
              "<Figure size 432x288 with 1 Axes>"
            ]
          },
          "metadata": {
            "needs_background": "light"
          }
        }
      ]
    },
    {
      "cell_type": "code",
      "metadata": {
        "id": "ssWA1vH1tFxh"
      },
      "source": [
        "import struct\n",
        "import numpy as np\n",
        "from matplotlib import pyplot\n",
        "import matplotlib as mpl"
      ],
      "execution_count": 9,
      "outputs": []
    },
    {
      "cell_type": "code",
      "metadata": {
        "id": "Ad-ph-jKtRSb"
      },
      "source": [
        "\n",
        "def show(image):\n",
        "    fig = pyplot.figure()\n",
        "    ax = fig.add_subplot(1,1,1)\n",
        "    imgplot = ax.imshow(image, cmap=mpl.cm.Greys)\n",
        "    imgplot.set_interpolation('nearest')\n",
        "    ax.xaxis.set_ticks_position('top')\n",
        "    ax.yaxis.set_ticks_position('left')\n",
        "    pyplot.show()\n",
        "\n",
        "def ascii_show(image):\n",
        "    for y in image:\n",
        "        row = \"\"\n",
        "        for x in y:\n",
        "            row += '{:02X}'.format(x)+' '\n",
        "        print(row)"
      ],
      "execution_count": 10,
      "outputs": []
    },
    {
      "cell_type": "code",
      "metadata": {
        "id": "ndlsUy6otS9g"
      },
      "source": [
        "pixel = train_x[0]\n",
        "label = train_y[0]"
      ],
      "execution_count": 11,
      "outputs": []
    },
    {
      "cell_type": "code",
      "metadata": {
        "colab": {
          "base_uri": "https://localhost:8080/",
          "height": 265
        },
        "id": "QemFlXLPtZs5",
        "outputId": "11729d1f-a66c-4d18-ca79-109299bb8800"
      },
      "source": [
        "show(pixel)"
      ],
      "execution_count": 12,
      "outputs": [
        {
          "output_type": "display_data",
          "data": {
            "image/png": "[encoded data removed]",
            "text/plain": [
              "<Figure size 432x288 with 1 Axes>"
            ]
          },
          "metadata": {
            "needs_background": "light"
          }
        }
      ]
    },
    {
      "cell_type": "code",
      "metadata": {
        "colab": {
          "base_uri": "https://localhost:8080/"
        },
        "id": "i8pgtr5Atblb",
        "outputId": "594a603e-12a7-4536-c8d1-bff3062b8c5c"
      },
      "source": [
        "ascii_show(pixel)"
      ],
      "execution_count": 13,
      "outputs": [
        {
          "output_type": "stream",
          "name": "stdout",
          "text": [
            "00 00 00 00 00 00 00 00 00 00 00 00 00 00 00 00 00 00 00 00 00 00 00 00 00 00 00 00 \n",
            "00 00 00 00 00 00 00 00 00 00 00 00 00 00 00 00 00 00 00 00 00 00 00 00 00 00 00 00 \n",
            "00 00 00 00 00 00 00 00 00 00 00 00 00 00 00 00 00 00 00 00 00 00 00 00 00 00 00 00 \n",
            "00 00 00 00 00 00 00 00 00 00 00 00 00 00 00 00 00 00 00 00 00 00 00 00 00 00 00 00 \n",
            "00 00 00 00 00 00 00 00 00 00 00 00 00 00 00 00 00 00 00 00 00 00 00 00 00 00 00 00 \n",
            "00 00 00 00 00 00 00 00 00 00 00 00 03 12 12 12 7E 88 AF 1A A6 FF F7 7F 00 00 00 00 \n",
            "00 00 00 00 00 00 00 00 1E 24 5E 9A AA FD FD FD FD FD E1 AC FD F2 C3 40 00 00 00 00 \n",
            "00 00 00 00 00 00 00 31 EE FD FD FD FD FD FD FD FD FB 5D 52 52 38 27 00 00 00 00 00 \n",
            "00 00 00 00 00 00 00 12 DB FD FD FD FD FD C6 B6 F7 F1 00 00 00 00 00 00 00 00 00 00 \n",
            "00 00 00 00 00 00 00 00 50 9C 6B FD FD CD 0B 00 2B 9A 00 00 00 00 00 00 00 00 00 00 \n",
            "00 00 00 00 00 00 00 00 00 0E 01 9A FD 5A 00 00 00 00 00 00 00 00 00 00 00 00 00 00 \n",
            "00 00 00 00 00 00 00 00 00 00 00 8B FD BE 02 00 00 00 00 00 00 00 00 00 00 00 00 00 \n",
            "00 00 00 00 00 00 00 00 00 00 00 0B BE FD 46 00 00 00 00 00 00 00 00 00 00 00 00 00 \n",
            "00 00 00 00 00 00 00 00 00 00 00 00 23 F1 E1 A0 6C 01 00 00 00 00 00 00 00 00 00 00 \n",
            "00 00 00 00 00 00 00 00 00 00 00 00 00 51 F0 FD FD 77 19 00 00 00 00 00 00 00 00 00 \n",
            "00 00 00 00 00 00 00 00 00 00 00 00 00 00 2D BA FD FD 96 1B 00 00 00 00 00 00 00 00 \n",
            "00 00 00 00 00 00 00 00 00 00 00 00 00 00 00 10 5D FC FD BB 00 00 00 00 00 00 00 00 \n",
            "00 00 00 00 00 00 00 00 00 00 00 00 00 00 00 00 00 F9 FD F9 40 00 00 00 00 00 00 00 \n",
            "00 00 00 00 00 00 00 00 00 00 00 00 00 00 2E 82 B7 FD FD CF 02 00 00 00 00 00 00 00 \n",
            "00 00 00 00 00 00 00 00 00 00 00 00 27 94 E5 FD FD FD FA B6 00 00 00 00 00 00 00 00 \n",
            "00 00 00 00 00 00 00 00 00 00 18 72 DD FD FD FD FD C9 4E 00 00 00 00 00 00 00 00 00 \n",
            "00 00 00 00 00 00 00 00 17 42 D5 FD FD FD FD C6 51 02 00 00 00 00 00 00 00 00 00 00 \n",
            "00 00 00 00 00 00 12 AB DB FD FD FD FD C3 50 09 00 00 00 00 00 00 00 00 00 00 00 00 \n",
            "00 00 00 00 37 AC E2 FD FD FD FD F4 85 0B 00 00 00 00 00 00 00 00 00 00 00 00 00 00 \n",
            "00 00 00 00 88 FD FD FD D4 87 84 10 00 00 00 00 00 00 00 00 00 00 00 00 00 00 00 00 \n",
            "00 00 00 00 00 00 00 00 00 00 00 00 00 00 00 00 00 00 00 00 00 00 00 00 00 00 00 00 \n",
            "00 00 00 00 00 00 00 00 00 00 00 00 00 00 00 00 00 00 00 00 00 00 00 00 00 00 00 00 \n",
            "00 00 00 00 00 00 00 00 00 00 00 00 00 00 00 00 00 00 00 00 00 00 00 00 00 00 00 00 \n"
          ]
        }
      ]
    },
    {
      "cell_type": "code",
      "metadata": {
        "id": "zaLJKAmOtc1b"
      },
      "source": [
        ""
      ],
      "execution_count": null,
      "outputs": []
    },
    {
      "cell_type": "markdown",
      "metadata": {
        "id": "G-BCAg_TtfYE"
      },
      "source": [
        "# 3. Export the average value of first ten images in train-images.idx3-ubyte. The size will be 28x28。"
      ]
    },
    {
      "cell_type": "code",
      "metadata": {
        "id": "smzPUoILtgIE"
      },
      "source": [
        "pixels = np.zeros([28,28])\n",
        "for i in range(10):\n",
        "    pixel = train_x[0]\n",
        "    label = train_y[0]\n",
        "    pixels += pixel\n",
        "pixels = pixels/10"
      ],
      "execution_count": 14,
      "outputs": []
    },
    {
      "cell_type": "code",
      "metadata": {
        "colab": {
          "base_uri": "https://localhost:8080/"
        },
        "id": "jcWHoEbdtj28",
        "outputId": "224f3bee-85b7-4e58-b10f-37fabb31ee3f"
      },
      "source": [
        "ascii_show(pixels.astype(np.uint8))"
      ],
      "execution_count": 15,
      "outputs": [
        {
          "output_type": "stream",
          "name": "stdout",
          "text": [
            "00 00 00 00 00 00 00 00 00 00 00 00 00 00 00 00 00 00 00 00 00 00 00 00 00 00 00 00 \n",
            "00 00 00 00 00 00 00 00 00 00 00 00 00 00 00 00 00 00 00 00 00 00 00 00 00 00 00 00 \n",
            "00 00 00 00 00 00 00 00 00 00 00 00 00 00 00 00 00 00 00 00 00 00 00 00 00 00 00 00 \n",
            "00 00 00 00 00 00 00 00 00 00 00 00 00 00 00 00 00 00 00 00 00 00 00 00 00 00 00 00 \n",
            "00 00 00 00 00 00 00 00 00 00 00 00 00 00 00 00 00 00 00 00 00 00 00 00 00 00 00 00 \n",
            "00 00 00 00 00 00 00 00 00 00 00 00 03 12 12 12 7E 88 AF 1A A6 FF F7 7F 00 00 00 00 \n",
            "00 00 00 00 00 00 00 00 1E 24 5E 9A AA FD FD FD FD FD E1 AC FD F2 C3 40 00 00 00 00 \n",
            "00 00 00 00 00 00 00 31 EE FD FD FD FD FD FD FD FD FB 5D 52 52 38 27 00 00 00 00 00 \n",
            "00 00 00 00 00 00 00 12 DB FD FD FD FD FD C6 B6 F7 F1 00 00 00 00 00 00 00 00 00 00 \n",
            "00 00 00 00 00 00 00 00 50 9C 6B FD FD CD 0B 00 2B 9A 00 00 00 00 00 00 00 00 00 00 \n",
            "00 00 00 00 00 00 00 00 00 0E 01 9A FD 5A 00 00 00 00 00 00 00 00 00 00 00 00 00 00 \n",
            "00 00 00 00 00 00 00 00 00 00 00 8B FD BE 02 00 00 00 00 00 00 00 00 00 00 00 00 00 \n",
            "00 00 00 00 00 00 00 00 00 00 00 0B BE FD 46 00 00 00 00 00 00 00 00 00 00 00 00 00 \n",
            "00 00 00 00 00 00 00 00 00 00 00 00 23 F1 E1 A0 6C 01 00 00 00 00 00 00 00 00 00 00 \n",
            "00 00 00 00 00 00 00 00 00 00 00 00 00 51 F0 FD FD 77 19 00 00 00 00 00 00 00 00 00 \n",
            "00 00 00 00 00 00 00 00 00 00 00 00 00 00 2D BA FD FD 96 1B 00 00 00 00 00 00 00 00 \n",
            "00 00 00 00 00 00 00 00 00 00 00 00 00 00 00 10 5D FC FD BB 00 00 00 00 00 00 00 00 \n",
            "00 00 00 00 00 00 00 00 00 00 00 00 00 00 00 00 00 F9 FD F9 40 00 00 00 00 00 00 00 \n",
            "00 00 00 00 00 00 00 00 00 00 00 00 00 00 2E 82 B7 FD FD CF 02 00 00 00 00 00 00 00 \n",
            "00 00 00 00 00 00 00 00 00 00 00 00 27 94 E5 FD FD FD FA B6 00 00 00 00 00 00 00 00 \n",
            "00 00 00 00 00 00 00 00 00 00 18 72 DD FD FD FD FD C9 4E 00 00 00 00 00 00 00 00 00 \n",
            "00 00 00 00 00 00 00 00 17 42 D5 FD FD FD FD C6 51 02 00 00 00 00 00 00 00 00 00 00 \n",
            "00 00 00 00 00 00 12 AB DB FD FD FD FD C3 50 09 00 00 00 00 00 00 00 00 00 00 00 00 \n",
            "00 00 00 00 37 AC E2 FD FD FD FD F4 85 0B 00 00 00 00 00 00 00 00 00 00 00 00 00 00 \n",
            "00 00 00 00 88 FD FD FD D4 87 84 10 00 00 00 00 00 00 00 00 00 00 00 00 00 00 00 00 \n",
            "00 00 00 00 00 00 00 00 00 00 00 00 00 00 00 00 00 00 00 00 00 00 00 00 00 00 00 00 \n",
            "00 00 00 00 00 00 00 00 00 00 00 00 00 00 00 00 00 00 00 00 00 00 00 00 00 00 00 00 \n",
            "00 00 00 00 00 00 00 00 00 00 00 00 00 00 00 00 00 00 00 00 00 00 00 00 00 00 00 00 \n"
          ]
        }
      ]
    },
    {
      "cell_type": "code",
      "metadata": {
        "colab": {
          "base_uri": "https://localhost:8080/",
          "height": 265
        },
        "id": "b8IOoXNxtlXQ",
        "outputId": "1d175b2e-ac21-49a9-f7cf-85645affc045"
      },
      "source": [
        "show(pixels)"
      ],
      "execution_count": 16,
      "outputs": [
        {
          "output_type": "display_data",
          "data": {
            "image/png": "[encoded data removed]",
            "text/plain": [
              "<Figure size 432x288 with 1 Axes>"
            ]
          },
          "metadata": {
            "needs_background": "light"
          }
        }
      ]
    },
    {
      "cell_type": "markdown",
      "metadata": {
        "id": "DSnlRXOUtnig"
      },
      "source": [
        "# 4. Export the average of first ten labels in train-labels.idx1-ubyte."
      ]
    },
    {
      "cell_type": "code",
      "metadata": {
        "colab": {
          "base_uri": "https://localhost:8080/"
        },
        "id": "swznabPZtmfd",
        "outputId": "9e4a2abc-cf95-496b-dd3b-c4f67584b870"
      },
      "source": [
        "labels = []\n",
        "for i in range(10):\n",
        "    pixel = train_x[0]\n",
        "    label = train_y[0]\n",
        "    labels.append(label)\n",
        "print(labels, 'Mean:{:.2f}'.format(np.mean(labels)))"
      ],
      "execution_count": 17,
      "outputs": [
        {
          "output_type": "stream",
          "name": "stdout",
          "text": [
            "[5, 5, 5, 5, 5, 5, 5, 5, 5, 5] Mean:5.00\n"
          ]
        }
      ]
    },
    {
      "cell_type": "code",
      "metadata": {
        "id": "TAzgJUIItoKz"
      },
      "source": [
        ""
      ],
      "execution_count": null,
      "outputs": []
    },
    {
      "cell_type": "markdown",
      "metadata": {
        "id": "h88VE_oLtueP"
      },
      "source": [
        "# 5. Export the first image in train-images.idx3-ubyte. The size will be 32x32. Add zero padding."
      ]
    },
    {
      "cell_type": "code",
      "metadata": {
        "id": "LcOJFANFtwKK"
      },
      "source": [
        "def padding(img):\n",
        "    result = np.zeros([32,32])\n",
        "    for i in range(28):\n",
        "        for j in range(28):\n",
        "            result[i+2,j+2] = img[i,j]\n",
        "    return result"
      ],
      "execution_count": 18,
      "outputs": []
    },
    {
      "cell_type": "code",
      "metadata": {
        "colab": {
          "base_uri": "https://localhost:8080/"
        },
        "id": "tdTImq-TtyA7",
        "outputId": "b282ed50-48f6-42b6-ec45-78b63332b3f2"
      },
      "source": [
        "pixel = train_x[0]\n",
        "label = train_y[0]\n",
        "img = padding(pixel)\n",
        "ascii_show(img.astype(np.uint8))"
      ],
      "execution_count": 19,
      "outputs": [
        {
          "output_type": "stream",
          "name": "stdout",
          "text": [
            "00 00 00 00 00 00 00 00 00 00 00 00 00 00 00 00 00 00 00 00 00 00 00 00 00 00 00 00 00 00 00 00 \n",
            "00 00 00 00 00 00 00 00 00 00 00 00 00 00 00 00 00 00 00 00 00 00 00 00 00 00 00 00 00 00 00 00 \n",
            "00 00 00 00 00 00 00 00 00 00 00 00 00 00 00 00 00 00 00 00 00 00 00 00 00 00 00 00 00 00 00 00 \n",
            "00 00 00 00 00 00 00 00 00 00 00 00 00 00 00 00 00 00 00 00 00 00 00 00 00 00 00 00 00 00 00 00 \n",
            "00 00 00 00 00 00 00 00 00 00 00 00 00 00 00 00 00 00 00 00 00 00 00 00 00 00 00 00 00 00 00 00 \n",
            "00 00 00 00 00 00 00 00 00 00 00 00 00 00 00 00 00 00 00 00 00 00 00 00 00 00 00 00 00 00 00 00 \n",
            "00 00 00 00 00 00 00 00 00 00 00 00 00 00 00 00 00 00 00 00 00 00 00 00 00 00 00 00 00 00 00 00 \n",
            "00 00 00 00 00 00 00 00 00 00 00 00 00 00 03 12 12 12 7E 88 AF 1A A6 FF F7 7F 00 00 00 00 00 00 \n",
            "00 00 00 00 00 00 00 00 00 00 1E 24 5E 9A AA FD FD FD FD FD E1 AC FD F2 C3 40 00 00 00 00 00 00 \n",
            "00 00 00 00 00 00 00 00 00 31 EE FD FD FD FD FD FD FD FD FB 5D 52 52 38 27 00 00 00 00 00 00 00 \n",
            "00 00 00 00 00 00 00 00 00 12 DB FD FD FD FD FD C6 B6 F7 F1 00 00 00 00 00 00 00 00 00 00 00 00 \n",
            "00 00 00 00 00 00 00 00 00 00 50 9C 6B FD FD CD 0B 00 2B 9A 00 00 00 00 00 00 00 00 00 00 00 00 \n",
            "00 00 00 00 00 00 00 00 00 00 00 0E 01 9A FD 5A 00 00 00 00 00 00 00 00 00 00 00 00 00 00 00 00 \n",
            "00 00 00 00 00 00 00 00 00 00 00 00 00 8B FD BE 02 00 00 00 00 00 00 00 00 00 00 00 00 00 00 00 \n",
            "00 00 00 00 00 00 00 00 00 00 00 00 00 0B BE FD 46 00 00 00 00 00 00 00 00 00 00 00 00 00 00 00 \n",
            "00 00 00 00 00 00 00 00 00 00 00 00 00 00 23 F1 E1 A0 6C 01 00 00 00 00 00 00 00 00 00 00 00 00 \n",
            "00 00 00 00 00 00 00 00 00 00 00 00 00 00 00 51 F0 FD FD 77 19 00 00 00 00 00 00 00 00 00 00 00 \n",
            "00 00 00 00 00 00 00 00 00 00 00 00 00 00 00 00 2D BA FD FD 96 1B 00 00 00 00 00 00 00 00 00 00 \n",
            "00 00 00 00 00 00 00 00 00 00 00 00 00 00 00 00 00 10 5D FC FD BB 00 00 00 00 00 00 00 00 00 00 \n",
            "00 00 00 00 00 00 00 00 00 00 00 00 00 00 00 00 00 00 00 F9 FD F9 40 00 00 00 00 00 00 00 00 00 \n",
            "00 00 00 00 00 00 00 00 00 00 00 00 00 00 00 00 2E 82 B7 FD FD CF 02 00 00 00 00 00 00 00 00 00 \n",
            "00 00 00 00 00 00 00 00 00 00 00 00 00 00 27 94 E5 FD FD FD FA B6 00 00 00 00 00 00 00 00 00 00 \n",
            "00 00 00 00 00 00 00 00 00 00 00 00 18 72 DD FD FD FD FD C9 4E 00 00 00 00 00 00 00 00 00 00 00 \n",
            "00 00 00 00 00 00 00 00 00 00 17 42 D5 FD FD FD FD C6 51 02 00 00 00 00 00 00 00 00 00 00 00 00 \n",
            "00 00 00 00 00 00 00 00 12 AB DB FD FD FD FD C3 50 09 00 00 00 00 00 00 00 00 00 00 00 00 00 00 \n",
            "00 00 00 00 00 00 37 AC E2 FD FD FD FD F4 85 0B 00 00 00 00 00 00 00 00 00 00 00 00 00 00 00 00 \n",
            "00 00 00 00 00 00 88 FD FD FD D4 87 84 10 00 00 00 00 00 00 00 00 00 00 00 00 00 00 00 00 00 00 \n",
            "00 00 00 00 00 00 00 00 00 00 00 00 00 00 00 00 00 00 00 00 00 00 00 00 00 00 00 00 00 00 00 00 \n",
            "00 00 00 00 00 00 00 00 00 00 00 00 00 00 00 00 00 00 00 00 00 00 00 00 00 00 00 00 00 00 00 00 \n",
            "00 00 00 00 00 00 00 00 00 00 00 00 00 00 00 00 00 00 00 00 00 00 00 00 00 00 00 00 00 00 00 00 \n",
            "00 00 00 00 00 00 00 00 00 00 00 00 00 00 00 00 00 00 00 00 00 00 00 00 00 00 00 00 00 00 00 00 \n",
            "00 00 00 00 00 00 00 00 00 00 00 00 00 00 00 00 00 00 00 00 00 00 00 00 00 00 00 00 00 00 00 00 \n"
          ]
        }
      ]
    },
    {
      "cell_type": "markdown",
      "metadata": {
        "id": "p8TGzALBt5uT"
      },
      "source": [
        "# 6. Save the image in the problem 2 as BMP file. (Skip)"
      ]
    },
    {
      "cell_type": "markdown",
      "metadata": {
        "id": "zCip7WIYt_sy"
      },
      "source": [
        "# Edge Detection"
      ]
    },
    {
      "cell_type": "markdown",
      "metadata": {
        "id": "1P0CpVTnuCe3"
      },
      "source": [
        "# 1. Increase the size of first five picture into 30x30. Use Gx and Gy Matrix to generate 10 pictures"
      ]
    },
    {
      "cell_type": "code",
      "metadata": {
        "id": "4ndYBKPKt28t"
      },
      "source": [
        "# Pad out the original image.\n",
        "def padding_30(img):\n",
        "    result = np.zeros([30,30])\n",
        "    for i in range(28):\n",
        "        for j in range(28):\n",
        "            result[i+1,j+1] = img[i,j]\n",
        "    return result"
      ],
      "execution_count": 20,
      "outputs": []
    },
    {
      "cell_type": "code",
      "metadata": {
        "id": "XGPXNWAhuEkh"
      },
      "source": [
        "\n",
        "Gx = np.array([[-1,0,1],[-2,0,2],[-1,0,1]])\n",
        "Gy = np.array([[1,2,1],[0,0,0],[-1,-2,-1]])"
      ],
      "execution_count": 21,
      "outputs": []
    },
    {
      "cell_type": "code",
      "metadata": {
        "id": "fW6XlCUXuFsq"
      },
      "source": [
        "# Filter the image by Gx and Gy\n",
        "def Gx_Fc(number):\n",
        "    New_img_list = []\n",
        "    for i in range(number):\n",
        "        New_img = np.zeros([28,28])\n",
        "        pixel = train_x[0]\n",
        "        label = train_y[0]\n",
        "        img = padding_30(pixel)\n",
        "        for j in range(pixel.shape[0]):\n",
        "            for k in range(pixel.shape[1]):\n",
        "                New_img[j,k] = sum(sum(np.multiply(img[j:j+3,k:k+3],Gx)))/(3*3)\n",
        "        New_img_list.append(New_img)\n",
        "    show_list(New_img_list)\n",
        "\n",
        "def Gy_Fc(number):\n",
        "    New_img_list = []\n",
        "    for i in range(number):\n",
        "        New_img = np.zeros([28,28])\n",
        "        pixel = train_x[0]\n",
        "        label = train_y[0]\n",
        "        img = padding_30(pixel)\n",
        "        for j in range(pixel.shape[0]):\n",
        "            for k in range(pixel.shape[1]):\n",
        "                New_img[j,k] = sum(sum(np.multiply(img[j:j+3,k:k+3],Gy)))/(3*3)\n",
        "        New_img_list.append(New_img)\n",
        "    show_list(New_img_list)\n",
        "        \n",
        "def show_list(image):\n",
        "    fig = pyplot.figure()\n",
        "    L = len(image)\n",
        "    for i in range(L):\n",
        "        ax = fig.add_subplot(1,L,i+1)\n",
        "        imgplot = ax.imshow(image[i], cmap=mpl.cm.Greys)\n",
        "    pyplot.show()"
      ],
      "execution_count": 22,
      "outputs": []
    },
    {
      "cell_type": "code",
      "metadata": {
        "colab": {
          "base_uri": "https://localhost:8080/",
          "height": 201
        },
        "id": "zvG1WEnJuMF-",
        "outputId": "108a48f4-b1ae-4c7f-f44a-a8d09e3ae40a"
      },
      "source": [
        "Gx_Fc(5)\n",
        "Gy_Fc(5)"
      ],
      "execution_count": 23,
      "outputs": [
        {
          "output_type": "display_data",
          "data": {
            "image/png": "[encoded data removed]",
            "text/plain": [
              "<Figure size 432x288 with 5 Axes>"
            ]
          },
          "metadata": {
            "needs_background": "light"
          }
        },
        {
          "output_type": "display_data",
          "data": {
            "image/png": "[encoded data removed]",
            "text/plain": [
              "<Figure size 432x288 with 5 Axes>"
            ]
          },
          "metadata": {
            "needs_background": "light"
          }
        }
      ]
    },
    {
      "cell_type": "markdown",
      "metadata": {
        "id": "P0YsJ_e6uPox"
      },
      "source": [
        "# 2. Increase the size of the first image in the dataset to 32x32, 34x34, 36x36. Then, use 5x5, 7x7 and 9x9 filter to modify it."
      ]
    },
    {
      "cell_type": "code",
      "metadata": {
        "id": "Ox_gB9q0uNY8"
      },
      "source": [
        "\n",
        "# To generate 32x32, 34x34, 36x36 image\n",
        "def padding_32_34_36(img):\n",
        "    result1 = np.zeros([32,32])\n",
        "    result2 = np.zeros([34,34])\n",
        "    result3 = np.zeros([36,36])\n",
        "    \n",
        "    for i in range(28):\n",
        "        for j in range(28):\n",
        "            p = img[i,j]\n",
        "            result1[i+2,j+2] = p\n",
        "            result2[i+3,j+3] = p\n",
        "            result3[i+4,j+4] = p\n",
        "    return result1, result2, result3"
      ],
      "execution_count": 24,
      "outputs": []
    },
    {
      "cell_type": "code",
      "metadata": {
        "id": "o6LvqbzYuSKE"
      },
      "source": [
        "\n",
        "# To make filter\n",
        "def make_filter(size):\n",
        "    Filter = np.zeros([size,size])\n",
        "    half = int(size/2)\n",
        "    for j in range(half):\n",
        "        for i in range(half+1):\n",
        "            Filter[i,j] = half+i-j\n",
        "    count = 1\n",
        "    for i in range(half+1,size):\n",
        "        for j in range(half):\n",
        "            Filter[i,j] = Filter[i-2*count,j]\n",
        "        count+=1\n",
        "    count = 1  \n",
        "    for j in range(half+1,size):\n",
        "        for i in range(size):\n",
        "            Filter[i,j] = -Filter[i,j-2*count]\n",
        "        count+=1\n",
        "    return Filter"
      ],
      "execution_count": 25,
      "outputs": []
    },
    {
      "cell_type": "code",
      "metadata": {
        "id": "8r8MO_bQuTnY"
      },
      "source": [
        "\n",
        "# Use filter on image\n",
        "def Filter_Fc(img,filters):\n",
        "    New_img = np.zeros([28,28])\n",
        "    subsize = filters.shape[0]\n",
        "    for j in range(New_img.shape[0]):\n",
        "        for k in range(New_img.shape[1]):\n",
        "            New_img[j,k] = sum(sum(np.multiply(img[j:j+subsize,k:k+subsize],filters)))/(subsize*subsize)\n",
        "    show(New_img)\n",
        "    ascii_show(New_img.astype(np.uint8))"
      ],
      "execution_count": 26,
      "outputs": []
    },
    {
      "cell_type": "code",
      "metadata": {
        "colab": {
          "base_uri": "https://localhost:8080/",
          "height": 1000
        },
        "id": "bxaoVNgjuWAL",
        "outputId": "0df352fe-1f07-49c0-c1c1-35820d244a1b"
      },
      "source": [
        "pixel = train_x[0]\n",
        "label = train_y[0]\n",
        "img32, img34, img36 = padding_32_34_36(pixel)\n",
        "filter5 = make_filter(5)\n",
        "filter7 = make_filter(7)\n",
        "filter9 = make_filter(9)\n",
        "print('----------5x5 filter on 32x32----------')\n",
        "Filter_Fc(img32,filter5)\n",
        "print('----------7x7 filter on 34x34----------')\n",
        "Filter_Fc(img34,filter7)\n",
        "print('----------9x9 filter on 36x36----------')\n",
        "Filter_Fc(img36,filter9)"
      ],
      "execution_count": 27,
      "outputs": [
        {
          "output_type": "stream",
          "name": "stdout",
          "text": [
            "----------5x5 filter on 32x32----------\n"
          ]
        },
        {
          "output_type": "display_data",
          "data": {
            "image/png": "[encoded data removed]",
            "text/plain": [
              "<Figure size 432x288 with 1 Axes>"
            ]
          },
          "metadata": {
            "needs_background": "light"
          }
        },
        {
          "output_type": "stream",
          "name": "stdout",
          "text": [
            "00 00 00 00 00 00 00 00 00 00 00 00 00 00 00 00 00 00 00 00 00 00 00 00 00 00 00 00 \n",
            "00 00 00 00 00 00 00 00 00 00 00 00 00 00 00 00 00 00 00 00 00 00 00 00 00 00 00 00 \n",
            "00 00 00 00 00 00 00 00 00 00 00 00 00 00 00 00 00 00 00 00 00 00 00 00 00 00 00 00 \n",
            "00 00 00 00 00 00 00 00 00 00 00 FF FE FE F7 F3 EF FE 01 F7 F2 F5 12 1E 18 0A 00 00 \n",
            "00 00 00 00 00 00 FE FC F8 F2 F0 EA EC F2 EB EA E6 02 07 F3 E5 F9 39 4D 39 14 00 00 \n",
            "00 00 00 00 00 FD E8 DC D6 D8 E5 DD E0 E9 E3 E1 E9 18 21 FE DD 00 5F 79 56 1C 00 00 \n",
            "00 00 00 00 00 F9 C9 A9 A1 B2 D7 D2 DC EB E8 E9 09 45 4D 1C EA 12 6A 7A 53 19 00 00 \n",
            "00 00 00 00 00 F6 AF 75 71 92 CE D5 F4 16 0B F3 19 63 71 3F FB 18 52 58 3B 11 00 00 \n",
            "00 00 00 00 00 F8 AF 6E 6A 81 B3 CA 0A 4E 44 07 23 67 7B 51 08 18 29 25 16 05 00 00 \n",
            "00 00 00 00 00 FA C3 8F 8E 87 91 B1 1E 8E 82 1C 0F 42 5E 45 05 08 08 06 03 00 00 00 \n",
            "00 00 00 00 00 FF E5 C8 C8 A1 6F 7E 08 9B A7 3E 08 1B 2E 25 00 00 00 00 00 00 00 00 \n",
            "00 00 00 00 00 00 FA EF F0 C1 72 5A D1 6F A6 68 1B 12 12 0C 00 00 00 00 00 00 00 00 \n",
            "00 00 00 00 00 00 00 FF 00 E2 99 60 92 0B 64 71 49 39 26 0A 02 00 00 00 00 00 00 00 \n",
            "00 00 00 00 00 00 00 00 00 F4 C9 85 7B AE FE 45 59 68 56 2A 10 02 00 00 00 00 00 00 \n",
            "00 00 00 00 00 00 00 00 00 00 ED B8 8D 83 A5 EF 30 66 7E 5E 33 12 00 00 00 00 00 00 \n",
            "00 00 00 00 00 00 00 00 00 00 FE E2 BA 95 87 98 D5 28 7F 98 69 31 05 00 00 00 00 00 \n",
            "00 00 00 00 00 00 00 00 00 00 00 FA E1 BA 93 63 79 D0 68 C6 A3 54 07 00 00 00 00 00 \n",
            "00 00 00 00 00 00 00 00 00 00 FD F3 DF BF A3 64 59 A1 53 DB CA 6F 0A 00 00 00 00 00 \n",
            "00 00 00 00 00 00 00 00 FF F6 E6 CF BA AB A7 87 8E CA 65 D7 C2 69 08 00 00 00 00 00 \n",
            "00 00 00 00 00 00 FF FA EA D5 BD A5 9B 9F BD D1 F1 1E 7A B2 94 4C 05 00 00 00 00 00 \n",
            "00 00 00 00 FF F2 E5 DA C8 B6 9D 96 AC CE FA 1E 3F 5C 7E 7A 55 26 00 00 00 00 00 00 \n",
            "00 00 FC F1 E5 CF C2 BD AF A6 A4 C1 F2 1D 41 58 61 5C 52 3C 24 0E 00 00 00 00 00 00 \n",
            "00 00 EF CE B6 9E A2 B5 BB CF DF 0A 42 5F 66 5A 4C 3A 26 13 06 00 00 00 00 00 00 00 \n",
            "00 00 E7 B5 93 86 A4 CD DE FC 19 46 6B 68 53 3A 26 14 06 00 00 00 00 00 00 00 00 00 \n",
            "00 00 E4 AF 8F 90 BE F0 08 28 3C 50 58 44 2C 14 06 00 00 00 00 00 00 00 00 00 00 00 \n",
            "00 00 EC C7 B5 BE E4 09 15 23 2C 32 2E 1A 0B 00 00 00 00 00 00 00 00 00 00 00 00 00 \n",
            "00 00 F6 E7 E2 E8 FA 0B 0E 16 15 10 0B 01 00 00 00 00 00 00 00 00 00 00 00 00 00 00 \n",
            "00 00 00 00 00 00 00 00 00 00 00 00 00 00 00 00 00 00 00 00 00 00 00 00 00 00 00 00 \n",
            "----------7x7 filter on 34x34----------\n"
          ]
        },
        {
          "output_type": "display_data",
          "data": {
            "image/png": "[encoded data removed]",
            "text/plain": [
              "<Figure size 432x288 with 1 Axes>"
            ]
          },
          "metadata": {
            "needs_background": "light"
          }
        },
        {
          "output_type": "stream",
          "name": "stdout",
          "text": [
            "00 00 00 00 00 00 00 00 00 00 00 00 00 00 00 00 00 00 00 00 00 00 00 00 00 00 00 00 \n",
            "00 00 00 00 00 00 00 00 00 00 00 00 00 00 00 00 00 00 00 00 00 00 00 00 00 00 00 00 \n",
            "00 00 00 00 00 00 00 00 00 00 FF FF FE F8 F3 EF F7 F6 F3 F4 F9 04 0A 19 1C 14 07 00 \n",
            "00 00 00 00 00 FF FD F9 F2 EE E7 E6 E7 E5 E4 E3 F8 F6 F2 F3 FF 18 2A 44 41 2A 0E 00 \n",
            "00 00 00 00 FD ED E2 D7 CF CE CF D9 DD DB DC E4 04 08 05 04 0D 29 46 68 5D 39 12 00 \n",
            "00 00 00 00 FB D9 BC A6 9C A3 B0 CF D8 D5 D5 ED 1E 28 29 21 20 36 5D 87 76 47 16 00 \n",
            "00 00 00 00 FA C9 99 76 61 6C 87 C5 E1 E7 EB 0C 3E 47 4C 42 3E 42 67 8B 75 45 14 00 \n",
            "00 00 00 00 F9 BD 80 54 35 3F 6B C5 F7 0A 15 35 57 62 6A 5D 4F 3F 59 73 60 39 10 00 \n",
            "00 00 00 00 F9 BD 7D 50 24 1E 49 BB 0A 35 4B 64 6B 67 72 66 54 33 42 54 47 2C 0D 00 \n",
            "00 00 00 00 FB C7 8E 6A 36 13 27 A3 12 61 89 9C 7D 5E 6A 63 4F 21 26 29 1F 11 03 00 \n",
            "00 00 00 00 FC D5 AB 97 65 2E 23 8B 01 64 A4 BB 8E 5A 59 4F 35 09 09 08 05 02 00 00 \n",
            "00 00 00 00 FF EC D5 CB 9E 57 2A 65 C9 30 8D B8 9A 60 53 43 23 01 00 00 00 00 00 00 \n",
            "00 00 00 00 00 FC F3 F1 CD 87 48 58 8F E3 4B 8D 91 6C 61 4D 2A 0C 01 00 00 00 00 00 \n",
            "00 00 00 00 00 00 00 00 EA B5 76 61 68 95 ED 3F 72 7E 82 71 4A 27 0D 00 00 00 00 00 \n",
            "00 00 00 00 00 00 00 00 F7 D8 A2 7F 6A 6C 93 DE 2D 6D 98 9F 83 4F 23 03 00 00 00 00 \n",
            "00 00 00 00 00 00 00 00 00 F2 CB A4 7B 5A 49 76 CE 45 A6 D2 C4 7F 3B 05 00 00 00 00 \n",
            "00 00 00 00 00 00 00 00 00 FC DF B2 80 52 22 2F 7F 1E AB FC 02 AF 54 06 00 00 00 00 \n",
            "00 00 00 00 00 00 00 FF F9 EB D2 AB 7D 55 21 28 69 10 AE 13 23 C5 5E 08 00 00 00 00 \n",
            "00 00 00 00 00 FF FC EE DC C5 AB 90 76 6C 4F 5B 95 29 B3 09 17 BF 5B 06 00 00 00 00 \n",
            "00 00 00 FF F5 EA DE CA B4 9C 8A 7E 81 98 9E BB EB 56 B0 E5 E9 A1 4F 05 00 00 00 00 \n",
            "00 FD F4 E9 D5 C4 B6 A5 95 86 87 90 AB DA F8 19 3E 83 AC B6 A5 6E 35 04 00 00 00 00 \n",
            "00 F4 DA C3 A5 93 90 90 95 96 AA C4 EB 1D 40 5E 74 91 93 82 64 3F 1B 00 00 00 00 00 \n",
            "00 F0 CD AC 84 72 76 86 9F B3 DA 00 2F 5F 75 7D 7A 75 63 4B 32 1D 0B 00 00 00 00 00 \n",
            "00 EC C1 96 6C 61 76 98 C0 E0 12 3F 67 83 82 75 60 4A 34 20 0F 04 00 00 00 00 00 00 \n",
            "00 EA BE 93 6D 6C 8B B7 EA 10 40 5F 73 7C 69 4F 34 20 10 05 00 00 00 00 00 00 00 00 \n",
            "00 EE CA A9 8E 8F AD D9 07 27 4B 5B 5E 54 3B 24 10 05 00 00 00 00 00 00 00 00 00 00 \n",
            "00 F2 D7 C1 B6 BE D8 FA 1A 2C 3A 3A 32 27 15 08 00 00 00 00 00 00 00 00 00 00 00 00 \n",
            "00 F8 EB E4 E2 E7 F5 05 15 1A 1A 15 0D 08 00 00 00 00 00 00 00 00 00 00 00 00 00 00 \n",
            "----------9x9 filter on 36x36----------\n"
          ]
        },
        {
          "output_type": "display_data",
          "data": {
            "image/png": "[encoded data removed]",
            "text/plain": [
              "<Figure size 432x288 with 1 Axes>"
            ]
          },
          "metadata": {
            "needs_background": "light"
          }
        },
        {
          "output_type": "stream",
          "name": "stdout",
          "text": [
            "00 00 00 00 00 00 00 00 00 00 00 00 00 00 00 00 00 00 00 00 00 00 00 00 00 00 00 00 \n",
            "00 00 00 00 00 00 00 00 00 FF FF FE F9 F4 F0 F5 F3 EF ED F4 01 09 0F 10 19 18 10 06 \n",
            "00 00 00 00 FF FE FA F4 EF E8 E4 E3 DF DD DE EC ED EC EC FB 13 23 2F 33 3E 35 21 0B \n",
            "00 00 00 FE F1 E6 DB D1 CB C5 C5 CE D3 D2 DD F5 FA FE 00 12 2D 3F 4A 4F 58 47 2B 0D \n",
            "00 00 00 FD E2 CA B4 A2 9B 97 A2 BA CB CB E4 07 15 1D 20 31 4C 5A 5E 66 6D 56 33 0F \n",
            "00 00 00 FC D7 B2 92 71 62 63 7F AB CB CE F1 22 30 38 35 46 64 74 72 7C 83 65 3B 12 \n",
            "00 00 00 FB CF A0 78 45 29 2E 59 97 CB DB 0D 4A 58 5A 52 60 7B 85 7A 81 84 65 3A 11 \n",
            "00 00 00 FA C8 91 63 20 F6 FE 3D 8F DC FA 38 7B 87 7F 6C 74 88 86 6D 71 73 58 33 0E \n",
            "00 00 00 FA C8 90 61 19 DE DB 22 84 E8 18 61 A6 B0 9B 76 78 86 7C 59 5B 5E 49 2B 0C \n",
            "00 00 00 FB CE 9A 72 2A E4 CD 09 6A DE 29 7D C5 CD B0 7C 77 7E 6B 45 45 49 3A 22 0A \n",
            "00 00 00 FC D6 AA 8B 49 FE D7 FD 4D C0 21 89 D8 EA D0 9C 8A 7A 56 29 26 24 1A 0E 03 \n",
            "00 00 00 FD DF BD A9 76 2E FF 15 4C A6 02 6E C6 E9 D6 A5 92 77 48 14 0A 07 04 01 00 \n",
            "00 00 00 00 F0 DD D3 AC 6A 30 31 4A 7F C8 28 87 C2 C2 9D 91 7C 52 1F 0A 00 00 00 00 \n",
            "00 00 00 00 FD F5 F3 D6 9E 64 53 50 61 88 D2 2D 81 A3 9A 9C 90 70 3F 1C 03 00 00 00 \n",
            "00 00 00 00 00 00 00 EF C6 93 74 57 42 44 73 C8 39 89 B1 CA C2 9D 62 2D 04 00 00 00 \n",
            "00 00 00 00 00 00 00 F9 DE AD 84 58 30 10 22 6A F5 74 CA FF 01 D7 89 3F 04 00 00 00 \n",
            "00 00 00 00 00 00 FF F9 E2 B3 82 50 1F F0 F7 3B D0 68 DE 29 31 00 A2 49 05 00 00 00 \n",
            "00 00 00 00 FF FC F1 E2 CC A3 70 3F 1C F8 04 41 CF 6B EF 3E 44 0F AD 4F 06 00 00 00 \n",
            "00 00 00 F7 ED E2 D0 BB A2 87 6A 50 3D 24 35 6F F0 75 EC 36 3C 0A AA 4E 05 00 00 00 \n",
            "FE F6 EC DB CB BB A5 91 82 7A 74 73 75 6D 86 BA 23 86 DE 16 17 EF 9B 47 04 00 00 00 \n",
            "F6 E2 CD B2 9D 90 7F 78 7C 83 89 9D B4 C1 E2 0B 5D 9F CF E5 DB BC 7C 3A 04 00 00 00 \n",
            "F4 DA C0 9C 80 72 63 62 73 87 9E C4 EB 0B 34 55 8A AA B9 B5 A0 82 55 29 03 00 00 00 \n",
            "F2 D2 B2 86 65 57 4E 5A 7C A4 CA FA 22 49 6D 81 9A 9F 9A 89 6F 51 32 15 00 00 00 00 \n",
            "EF CB A5 75 53 4C 4F 69 9B CD FA 2D 53 73 8B 8F 8F 82 70 59 40 2A 17 08 00 00 00 00 \n",
            "EE C9 A3 75 57 58 63 86 BF F7 25 54 70 83 8F 86 72 58 41 2C 1A 0C 03 00 00 00 00 00 \n",
            "F1 D0 B0 8B 74 75 81 A5 DD 13 3D 62 75 7C 78 5F 45 2C 1B 0D 04 00 00 00 00 00 00 00 \n",
            "F3 D8 BE A1 91 96 A8 CC FD 2B 4B 62 63 59 4A 32 1E 0D 04 00 00 00 00 00 00 00 00 00 \n",
            "F5 E0 CC BE BA C3 D3 EF 14 32 3E 3F 38 2C 21 12 06 00 00 00 00 00 00 00 00 00 00 00 \n"
          ]
        }
      ]
    },
    {
      "cell_type": "markdown",
      "metadata": {
        "id": "aeOVOAWfugPS"
      },
      "source": [
        "# 3. Explain why Gx can detect the edge¶\n",
        "# Gx = np.array([[-1,0,1],[-2,0,2],[-1,0,1]])\n",
        "## The digits in middle column of Gx are all zero. The numbers besides zero are inverse number. This makes filters seperate the pixel on the edge more easily. The object can be more well"
      ]
    },
    {
      "cell_type": "markdown",
      "metadata": {
        "id": "Yfygw2CpukTU"
      },
      "source": [
        "# Activation Function"
      ]
    },
    {
      "cell_type": "code",
      "metadata": {
        "id": "foGx_otoufNw"
      },
      "source": [
        "def sigmoid(x):\n",
        "    return 1/(1+np.exp(-x))\n",
        "\n",
        "def D_sigmoid(x):\n",
        "    return sigmoid(x) * (1 - sigmoid(x))"
      ],
      "execution_count": 29,
      "outputs": []
    },
    {
      "cell_type": "markdown",
      "metadata": {
        "id": "UcE5v-eCupMJ"
      },
      "source": [
        "# Sigmoid"
      ]
    },
    {
      "cell_type": "code",
      "metadata": {
        "colab": {
          "base_uri": "https://localhost:8080/",
          "height": 265
        },
        "id": "0bjL0-hWunwA",
        "outputId": "9eb60610-513e-4e32-f891-c05a430d046b"
      },
      "source": [
        "\n",
        "x = np.linspace(-10,10,100)\n",
        "y = sigmoid(x)\n",
        "plt.plot(x,y)\n",
        "plt.show()"
      ],
      "execution_count": 30,
      "outputs": [
        {
          "output_type": "display_data",
          "data": {
            "image/png": "[encoded data removed]",
            "text/plain": [
              "<Figure size 432x288 with 1 Axes>"
            ]
          },
          "metadata": {
            "needs_background": "light"
          }
        }
      ]
    },
    {
      "cell_type": "markdown",
      "metadata": {
        "id": "lFUgUSTru8CH"
      },
      "source": [
        "# Derivative Sigmoid"
      ]
    },
    {
      "cell_type": "code",
      "metadata": {
        "colab": {
          "base_uri": "https://localhost:8080/",
          "height": 265
        },
        "id": "iJ6011AbuqYX",
        "outputId": "ddfd5843-86cd-4a54-a293-41cd61e9c274"
      },
      "source": [
        "x = np.linspace(-10,10,100)\n",
        "y = D_sigmoid(x)\n",
        "plt.plot(x,y)\n",
        "plt.show()"
      ],
      "execution_count": 31,
      "outputs": [
        {
          "output_type": "display_data",
          "data": {
            "image/png": "[encoded data removed]",
            "text/plain": [
              "<Figure size 432x288 with 1 Axes>"
            ]
          },
          "metadata": {
            "needs_background": "light"
          }
        }
      ]
    },
    {
      "cell_type": "code",
      "metadata": {
        "id": "LQFGoIvpu_pG"
      },
      "source": [
        "def tanh(x):\n",
        "    return (np.exp(x/2)-np.exp(-x/2))/(np.exp(x/2)+np.exp(-x/2))\n",
        "\n",
        "def D_tanh(x):\n",
        "    return 1-tanh(x)**2"
      ],
      "execution_count": 32,
      "outputs": []
    },
    {
      "cell_type": "markdown",
      "metadata": {
        "id": "OX3g45XQvBtE"
      },
      "source": [
        "# tanh"
      ]
    },
    {
      "cell_type": "code",
      "metadata": {
        "colab": {
          "base_uri": "https://localhost:8080/",
          "height": 265
        },
        "id": "ntyaWylSvArn",
        "outputId": "2e071b0e-482b-4c6c-e17e-06bafa864de7"
      },
      "source": [
        "\n",
        "x = np.linspace(-10,10,100)\n",
        "y = []\n",
        "for dig in x:\n",
        "    y.append(tanh(dig))\n",
        "plt.plot(x,np.reshape(y,(100,)))\n",
        "plt.show()"
      ],
      "execution_count": 33,
      "outputs": [
        {
          "output_type": "display_data",
          "data": {
            "image/png": "[encoded data removed]",
            "text/plain": [
              "<Figure size 432x288 with 1 Axes>"
            ]
          },
          "metadata": {
            "needs_background": "light"
          }
        }
      ]
    },
    {
      "cell_type": "markdown",
      "metadata": {
        "id": "yFM4mboOvETS"
      },
      "source": [
        "# Derivative tanh"
      ]
    },
    {
      "cell_type": "code",
      "metadata": {
        "colab": {
          "base_uri": "https://localhost:8080/",
          "height": 265
        },
        "id": "KorrpfCvvDXi",
        "outputId": "ffeeaced-46df-4942-98a5-a5f81ca3dea7"
      },
      "source": [
        "x = np.linspace(-10,10,100)\n",
        "y = []\n",
        "for dig in x:\n",
        "    y.append(D_tanh(dig))\n",
        "plt.plot(x,np.reshape(y,(100,)))\n",
        "plt.show()"
      ],
      "execution_count": 34,
      "outputs": [
        {
          "output_type": "display_data",
          "data": {
            "image/png": "[encoded data removed]",
            "text/plain": [
              "<Figure size 432x288 with 1 Axes>"
            ]
          },
          "metadata": {
            "needs_background": "light"
          }
        }
      ]
    },
    {
      "cell_type": "code",
      "metadata": {
        "id": "3Z_CDipwvGWc"
      },
      "source": [
        "def ReLU(x):\n",
        "    return max(0,x)\n",
        "\n",
        "def D_ReLU(x):\n",
        "    return 1 if x >= 0 else 0"
      ],
      "execution_count": 35,
      "outputs": []
    },
    {
      "cell_type": "markdown",
      "metadata": {
        "id": "d5O-QhwuvIZe"
      },
      "source": [
        "ReLU"
      ]
    },
    {
      "cell_type": "code",
      "metadata": {
        "colab": {
          "base_uri": "https://localhost:8080/",
          "height": 265
        },
        "id": "PGD-GPIsvHbs",
        "outputId": "61eca50d-0ffa-4bed-8f1e-d6135ada0335"
      },
      "source": [
        "x = np.linspace(-10,10,100)\n",
        "y = []\n",
        "for dig in x:\n",
        "    y.append(ReLU(dig))\n",
        "plt.plot(x,np.reshape(y,(100,)))\n",
        "plt.show()"
      ],
      "execution_count": 36,
      "outputs": [
        {
          "output_type": "display_data",
          "data": {
            "image/png": "[encoded data removed]",
            "text/plain": [
              "<Figure size 432x288 with 1 Axes>"
            ]
          },
          "metadata": {
            "needs_background": "light"
          }
        }
      ]
    },
    {
      "cell_type": "markdown",
      "metadata": {
        "id": "Wu7TA41EvMCK"
      },
      "source": [
        "# Derivative ReLU"
      ]
    },
    {
      "cell_type": "code",
      "metadata": {
        "colab": {
          "base_uri": "https://localhost:8080/",
          "height": 265
        },
        "id": "FWY5KLxnvK7f",
        "outputId": "535d3ad9-04d7-4883-9b1f-ed5b36da842c"
      },
      "source": [
        "x = np.linspace(-10,10,100)\n",
        "y = []\n",
        "for dig in x:\n",
        "    y.append(D_ReLU(dig))\n",
        "plt.plot(x,np.reshape(y,(100,)))\n",
        "plt.show()"
      ],
      "execution_count": 37,
      "outputs": [
        {
          "output_type": "display_data",
          "data": {
            "image/png": "[encoded data removed]",
            "text/plain": [
              "<Figure size 432x288 with 1 Axes>"
            ]
          },
          "metadata": {
            "needs_background": "light"
          }
        }
      ]
    },
    {
      "cell_type": "code",
      "metadata": {
        "id": "3z5uMxkcvN10"
      },
      "source": [
        "def ELU(x,a):\n",
        "    return x if x > 0 else a*(np.exp(x)-1)\n",
        "\n",
        "def D_ELU(x,a):\n",
        "    return 1 if x >= 0 else ELU(x,a) + a"
      ],
      "execution_count": 38,
      "outputs": []
    },
    {
      "cell_type": "markdown",
      "metadata": {
        "id": "I9k432bnvQZi"
      },
      "source": [
        "# ELU"
      ]
    },
    {
      "cell_type": "code",
      "metadata": {
        "colab": {
          "base_uri": "https://localhost:8080/",
          "height": 265
        },
        "id": "o30OJBa-vPHQ",
        "outputId": "b3c4e1ee-a51c-4af2-b840-2c12d389fdd5"
      },
      "source": [
        "x = np.linspace(-10,10,100)\n",
        "y = []\n",
        "for dig in x:\n",
        "    y.append(ELU(dig,0.5))\n",
        "plt.plot(x,np.reshape(y,(100,)))\n",
        "plt.show()"
      ],
      "execution_count": 39,
      "outputs": [
        {
          "output_type": "display_data",
          "data": {
            "image/png": "[encoded data removed]",
            "text/plain": [
              "<Figure size 432x288 with 1 Axes>"
            ]
          },
          "metadata": {
            "needs_background": "light"
          }
        }
      ]
    },
    {
      "cell_type": "markdown",
      "metadata": {
        "id": "buSIk7lzvTHx"
      },
      "source": [
        "# Derivative ELU"
      ]
    },
    {
      "cell_type": "code",
      "metadata": {
        "colab": {
          "base_uri": "https://localhost:8080/",
          "height": 265
        },
        "id": "CV-cnDHevSDV",
        "outputId": "6317f6e1-24a2-4a6f-8076-ac16d9b5c43e"
      },
      "source": [
        "\n",
        "x = np.linspace(-10,10,100)\n",
        "y = []\n",
        "for dig in x:\n",
        "    y.append(D_ELU(dig,0.5))\n",
        "plt.plot(x,np.reshape(y,(100,)))\n",
        "plt.show()"
      ],
      "execution_count": 40,
      "outputs": [
        {
          "output_type": "display_data",
          "data": {
            "image/png": "[encoded data removed]",
            "text/plain": [
              "<Figure size 432x288 with 1 Axes>"
            ]
          },
          "metadata": {
            "needs_background": "light"
          }
        }
      ]
    },
    {
      "cell_type": "code",
      "metadata": {
        "id": "2oyH5EpJvU0n"
      },
      "source": [
        "def Leaky_ReLU(x,a):\n",
        "    return x if x > 0 else a*x\n",
        "\n",
        "def D_Leaky_ReLU(x,a):\n",
        "    return 1 if x >= 0 else a"
      ],
      "execution_count": 41,
      "outputs": []
    },
    {
      "cell_type": "markdown",
      "metadata": {
        "id": "uoJwbgjJvW3C"
      },
      "source": [
        "# Leaky ReLU"
      ]
    },
    {
      "cell_type": "code",
      "metadata": {
        "colab": {
          "base_uri": "https://localhost:8080/",
          "height": 265
        },
        "id": "U685n9MfvVz0",
        "outputId": "7b6369bf-d54c-49e9-ea9a-7e07a01c431d"
      },
      "source": [
        "x = np.linspace(-10,10,100)\n",
        "y = []\n",
        "for dig in x:\n",
        "    y.append(Leaky_ReLU(dig,0.5))\n",
        "plt.plot(x,np.reshape(y,(100,)))\n",
        "plt.show()"
      ],
      "execution_count": 42,
      "outputs": [
        {
          "output_type": "display_data",
          "data": {
            "image/png": "[encoded data removed]",
            "text/plain": [
              "<Figure size 432x288 with 1 Axes>"
            ]
          },
          "metadata": {
            "needs_background": "light"
          }
        }
      ]
    },
    {
      "cell_type": "markdown",
      "metadata": {
        "id": "Vm63friQvZc9"
      },
      "source": [
        "# Derivative Leaky ReLU"
      ]
    },
    {
      "cell_type": "code",
      "metadata": {
        "colab": {
          "base_uri": "https://localhost:8080/",
          "height": 265
        },
        "id": "5wm96UkGvYbw",
        "outputId": "e1d27df0-4234-431b-b34a-6d95b3e30ea5"
      },
      "source": [
        "x = np.linspace(-10,10,100)\n",
        "y = []\n",
        "for dig in x:\n",
        "    y.append(D_Leaky_ReLU(dig,0.5))\n",
        "plt.plot(x,np.reshape(y,(100,)))\n",
        "plt.show()"
      ],
      "execution_count": 43,
      "outputs": [
        {
          "output_type": "display_data",
          "data": {
            "image/png": "[encoded data removed]",
            "text/plain": [
              "<Figure size 432x288 with 1 Axes>"
            ]
          },
          "metadata": {
            "needs_background": "light"
          }
        }
      ]
    },
    {
      "cell_type": "code",
      "metadata": {
        "colab": {
          "base_uri": "https://localhost:8080/"
        },
        "id": "tRZZMM_vwN74",
        "outputId": "85d8dd91-a318-417f-e206-fb1dabc9f61b"
      },
      "source": [
        "print(pixel.shape[0]/2)"
      ],
      "execution_count": 48,
      "outputs": [
        {
          "output_type": "stream",
          "name": "stdout",
          "text": [
            "14.0\n"
          ]
        }
      ]
    },
    {
      "cell_type": "code",
      "metadata": {
        "colab": {
          "base_uri": "https://localhost:8080/",
          "height": 1000
        },
        "id": "Xqe_clKQva6E",
        "outputId": "5518f876-8397-4a57-b5fe-68deb803c199"
      },
      "source": [
        "for i in range(5):\n",
        "    pixel = train_x[i]\n",
        "    label = train_y[i]\n",
        "    pool2x2 = np.zeros([int(pixel.shape[0]/2),int(pixel.shape[0]/2)])\n",
        "    for i in range(0,pixel.shape[0],2):\n",
        "        for j in range(0,pixel.shape[0],2):\n",
        "            M = np.max(pixel[i:i+2,j:j+2])\n",
        "            pool2x2[int((i/2)),int((j/2))] = M\n",
        "    print('Max Pooling')\n",
        "    show(pool2x2)\n",
        "    \n",
        "    for i in range(0,pixel.shape[0],2):\n",
        "        for j in range(0,pixel.shape[0],2):\n",
        "            M = np.mean(pixel[i:i+2,j:j+2])\n",
        "            pool2x2[int((i/2)),int((j/2))] = M\n",
        "    print('Average Pooling')\n",
        "    show(pool2x2)"
      ],
      "execution_count": 51,
      "outputs": [
        {
          "output_type": "stream",
          "name": "stdout",
          "text": [
            "Max Pooling\n"
          ]
        },
        {
          "output_type": "display_data",
          "data": {
            "image/png": "[encoded data removed]",
            "text/plain": [
              "<Figure size 432x288 with 1 Axes>"
            ]
          },
          "metadata": {
            "needs_background": "light"
          }
        },
        {
          "output_type": "stream",
          "name": "stdout",
          "text": [
            "Average Pooling\n"
          ]
        },
        {
          "output_type": "display_data",
          "data": {
            "image/png": "[encoded data removed]",
            "text/plain": [
              "<Figure size 432x288 with 1 Axes>"
            ]
          },
          "metadata": {
            "needs_background": "light"
          }
        },
        {
          "output_type": "stream",
          "name": "stdout",
          "text": [
            "Max Pooling\n"
          ]
        },
        {
          "output_type": "display_data",
          "data": {
            "image/png": "[encoded data removed]",
            "text/plain": [
              "<Figure size 432x288 with 1 Axes>"
            ]
          },
          "metadata": {
            "needs_background": "light"
          }
        },
        {
          "output_type": "stream",
          "name": "stdout",
          "text": [
            "Average Pooling\n"
          ]
        },
        {
          "output_type": "display_data",
          "data": {
            "image/png": "[encoded data removed]",
            "text/plain": [
              "<Figure size 432x288 with 1 Axes>"
            ]
          },
          "metadata": {
            "needs_background": "light"
          }
        },
        {
          "output_type": "stream",
          "name": "stdout",
          "text": [
            "Max Pooling\n"
          ]
        },
        {
          "output_type": "display_data",
          "data": {
            "image/png": "[encoded data removed]",
            "text/plain": [
              "<Figure size 432x288 with 1 Axes>"
            ]
          },
          "metadata": {
            "needs_background": "light"
          }
        },
        {
          "output_type": "stream",
          "name": "stdout",
          "text": [
            "Average Pooling\n"
          ]
        },
        {
          "output_type": "display_data",
          "data": {
            "image/png": "[encoded data removed]",
            "text/plain": [
              "<Figure size 432x288 with 1 Axes>"
            ]
          },
          "metadata": {
            "needs_background": "light"
          }
        },
        {
          "output_type": "stream",
          "name": "stdout",
          "text": [
            "Max Pooling\n"
          ]
        },
        {
          "output_type": "display_data",
          "data": {
            "image/png": "[encoded data removed]",
            "text/plain": [
              "<Figure size 432x288 with 1 Axes>"
            ]
          },
          "metadata": {
            "needs_background": "light"
          }
        },
        {
          "output_type": "stream",
          "name": "stdout",
          "text": [
            "Average Pooling\n"
          ]
        },
        {
          "output_type": "display_data",
          "data": {
            "image/png": "[encoded data removed]",
            "text/plain": [
              "<Figure size 432x288 with 1 Axes>"
            ]
          },
          "metadata": {
            "needs_background": "light"
          }
        },
        {
          "output_type": "stream",
          "name": "stdout",
          "text": [
            "Max Pooling\n"
          ]
        },
        {
          "output_type": "display_data",
          "data": {
            "image/png": "[encoded data removed]",
            "text/plain": [
              "<Figure size 432x288 with 1 Axes>"
            ]
          },
          "metadata": {
            "needs_background": "light"
          }
        },
        {
          "output_type": "stream",
          "name": "stdout",
          "text": [
            "Average Pooling\n"
          ]
        },
        {
          "output_type": "display_data",
          "data": {
            "image/png": "[encoded data removed]",
            "text/plain": [
              "<Figure size 432x288 with 1 Axes>"
            ]
          },
          "metadata": {
            "needs_background": "light"
          }
        }
      ]
    },
    {
      "cell_type": "code",
      "metadata": {
        "id": "TsLX_Q--vpwh"
      },
      "source": [
        ""
      ],
      "execution_count": null,
      "outputs": []
    }
  ]
}