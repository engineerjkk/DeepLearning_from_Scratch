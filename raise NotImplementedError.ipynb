{
 "cells": [
  {
   "cell_type": "markdown",
   "id": "52163a57",
   "metadata": {},
   "source": [
    "# 예외 발생시키기\n",
    "- 파이썬에서는 사용자가 raise 키워드를 사용하여 예외를 강제로 발생시킬 수 있습니다.\n",
    "- 예를 들어, 부모 클래스를 상속받는 자식 클래스에서 부모 클래스의 어떤 메소드는 반드시 구현하도록 만들고 싶다면, NotImplementedError를 사용하여 이를 강제할 수 있습니다."
   ]
  },
  {
   "cell_type": "code",
   "execution_count": 1,
   "id": "ad851e54",
   "metadata": {},
   "outputs": [
    {
     "ename": "NotImplementedError",
     "evalue": "",
     "output_type": "error",
     "traceback": [
      "\u001b[1;31m---------------------------------------------------------------------------\u001b[0m",
      "\u001b[1;31mNotImplementedError\u001b[0m                       Traceback (most recent call last)",
      "\u001b[1;32m~\\AppData\\Local\\Temp/ipykernel_17904/2924390814.py\u001b[0m in \u001b[0;36m<module>\u001b[1;34m\u001b[0m\n\u001b[0;32m      7\u001b[0m \u001b[1;33m\u001b[0m\u001b[0m\n\u001b[0;32m      8\u001b[0m \u001b[0mmy_chicken\u001b[0m\u001b[1;33m=\u001b[0m\u001b[0mChicken\u001b[0m\u001b[1;33m(\u001b[0m\u001b[1;33m)\u001b[0m\u001b[1;33m\u001b[0m\u001b[1;33m\u001b[0m\u001b[0m\n\u001b[1;32m----> 9\u001b[1;33m \u001b[0mmy_chicken\u001b[0m\u001b[1;33m.\u001b[0m\u001b[0mbirdsong\u001b[0m\u001b[1;33m(\u001b[0m\u001b[1;33m)\u001b[0m\u001b[1;33m\u001b[0m\u001b[1;33m\u001b[0m\u001b[0m\n\u001b[0m",
      "\u001b[1;32m~\\AppData\\Local\\Temp/ipykernel_17904/2924390814.py\u001b[0m in \u001b[0;36mbirdsong\u001b[1;34m(self)\u001b[0m\n\u001b[0;32m      1\u001b[0m \u001b[1;32mclass\u001b[0m \u001b[0mBird\u001b[0m\u001b[1;33m:\u001b[0m\u001b[1;33m\u001b[0m\u001b[1;33m\u001b[0m\u001b[0m\n\u001b[0;32m      2\u001b[0m     \u001b[1;32mdef\u001b[0m \u001b[0mbirdsong\u001b[0m\u001b[1;33m(\u001b[0m\u001b[0mself\u001b[0m\u001b[1;33m)\u001b[0m\u001b[1;33m:\u001b[0m\u001b[1;33m\u001b[0m\u001b[1;33m\u001b[0m\u001b[0m\n\u001b[1;32m----> 3\u001b[1;33m         \u001b[1;32mraise\u001b[0m \u001b[0mNotImplementedError\u001b[0m\u001b[1;33m\u001b[0m\u001b[1;33m\u001b[0m\u001b[0m\n\u001b[0m\u001b[0;32m      4\u001b[0m \u001b[1;33m\u001b[0m\u001b[0m\n\u001b[0;32m      5\u001b[0m \u001b[1;32mclass\u001b[0m \u001b[0mChicken\u001b[0m\u001b[1;33m(\u001b[0m\u001b[0mBird\u001b[0m\u001b[1;33m)\u001b[0m\u001b[1;33m:\u001b[0m\u001b[1;33m\u001b[0m\u001b[1;33m\u001b[0m\u001b[0m\n",
      "\u001b[1;31mNotImplementedError\u001b[0m: "
     ]
    }
   ],
   "source": [
    "class Bird:\n",
    "    def birdsong(self):\n",
    "        raise NotImplementedError\n",
    "\n",
    "class Chicken(Bird):\n",
    "    pass\n",
    "\n",
    "my_chicken=Chicken()\n",
    "my_chicken.birdsong()"
   ]
  },
  {
   "cell_type": "markdown",
   "id": "50ea3d2c",
   "metadata": {},
   "source": [
    "- 위의 예제를 실행하면 NotImeplementedError가 발생하고 프로그램이 강제 종료됩니다.\n",
    "- 이는 자식 클래스인 Chicken 클래스에서 부모 클래스의 birdsong() 메소드를 구현하지 않아서 raise 키워드에 의해 NotImeplementedError가 강제로 발생되었기 때문입니다.\n",
    "- 따라서 다음 예제처럼 부모 클래스의 birdsong() 메소드를 Chicken 클래스에서 오버라이딩해야만 NotImplementedError가 발생하지 않는 것을 확인할 수 있습니다."
   ]
  },
  {
   "cell_type": "code",
   "execution_count": 3,
   "id": "3bdf6f8b",
   "metadata": {},
   "outputs": [
    {
     "name": "stdout",
     "output_type": "stream",
     "text": [
      "짹짹\n"
     ]
    }
   ],
   "source": [
    "class Bird:\n",
    "    def birdsong(self):\n",
    "        print(\"꽥꽥\")\n",
    "        raise NotImplementedError\n",
    "    \n",
    "class Chicken(Bird):\n",
    "    def birdsong(self):\n",
    "        print(\"짹짹\")\n",
    "    \n",
    "my_chicken=Chicken()\n",
    "my_chicken.birdsong()"
   ]
  },
  {
   "cell_type": "code",
   "execution_count": null,
   "id": "4d7e79f1",
   "metadata": {},
   "outputs": [],
   "source": []
  }
 ],
 "metadata": {
  "kernelspec": {
   "display_name": "Python 3 (ipykernel)",
   "language": "python",
   "name": "python3"
  },
  "language_info": {
   "codemirror_mode": {
    "name": "ipython",
    "version": 3
   },
   "file_extension": ".py",
   "mimetype": "text/x-python",
   "name": "python",
   "nbconvert_exporter": "python",
   "pygments_lexer": "ipython3",
   "version": "3.10.0"
  }
 },
 "nbformat": 4,
 "nbformat_minor": 5
}
