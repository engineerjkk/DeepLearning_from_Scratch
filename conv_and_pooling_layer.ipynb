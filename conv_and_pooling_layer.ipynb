{
  "nbformat": 4,
  "nbformat_minor": 0,
  "metadata": {
    "colab": {
      "name": "conv and pooling layer",
      "provenance": [],
      "authorship_tag": "ABX9TyMAWzVKYNoTLz+e+IeFLExG",
      "include_colab_link": true
    },
    "kernelspec": {
      "name": "python3",
      "display_name": "Python 3"
    },
    "language_info": {
      "name": "python"
    }
  },
  "cells": [
    {
      "cell_type": "markdown",
      "metadata": {
        "id": "view-in-github",
        "colab_type": "text"
      },
      "source": [
        "<a href=\"https://colab.research.google.com/github/engineerjkk/DeepLearning_from_Scratch/blob/main/conv_and_pooling_layer.ipynb\" target=\"_parent\"><img src=\"https://colab.research.google.com/assets/colab-badge.svg\" alt=\"Open In Colab\"/></a>"
      ]
    },
    {
      "cell_type": "code",
      "metadata": {
        "id": "xZooRg4Qu6gt"
      },
      "source": [
        "from termcolor import colored"
      ],
      "execution_count": 6,
      "outputs": []
    },
    {
      "cell_type": "code",
      "metadata": {
        "id": "8L9uQQIhvGaL"
      },
      "source": [
        "import tensorflow as tf\n",
        "from tensorflow.keras.layers import Conv2D, MaxPooling2D, AveragePooling2D"
      ],
      "execution_count": 7,
      "outputs": []
    },
    {
      "cell_type": "code",
      "metadata": {
        "id": "PILBYYv4vLKS"
      },
      "source": [
        "def p_color(input_string,input_object):\n",
        "  print(colored(input_string+':','magenta'))\n",
        "  print(colored('shape: ','cyan'),input_object.shape,'\\n')"
      ],
      "execution_count": 8,
      "outputs": []
    },
    {
      "cell_type": "code",
      "metadata": {
        "id": "sTuw6TLhz5BF"
      },
      "source": [
        "import cv2\n",
        "import matplotlib.pyplot as plt\n"
      ],
      "execution_count": 4,
      "outputs": []
    },
    {
      "cell_type": "code",
      "metadata": {
        "id": "4QSjntLWvd4r"
      },
      "source": [
        "test_image=tf.random.normal(mean=0,stddev=1,shape=(1,50,50,1))"
      ],
      "execution_count": 11,
      "outputs": []
    },
    {
      "cell_type": "markdown",
      "metadata": {
        "id": "Hae-B2pMvjkl"
      },
      "source": [
        "50 by 50의 그레이 스케일 이미지를 생성"
      ]
    },
    {
      "cell_type": "code",
      "metadata": {
        "id": "mEL_TgYaz8V1",
        "outputId": "c6fb97c9-9781-4370-80e5-7b460a4f8756",
        "colab": {
          "base_uri": "https://localhost:8080/",
          "height": 285
        }
      },
      "source": [
        "cv2.cvtColor( test_image.numpy().squeeze(), cv2.COLOR_BGR2RGB)\n",
        "plt.imshow( test_image.numpy().squeeze(),cmap='gray')"
      ],
      "execution_count": 13,
      "outputs": [
        {
          "output_type": "execute_result",
          "data": {
            "text/plain": [
              "<matplotlib.image.AxesImage at 0x7fc1f89ca5d0>"
            ]
          },
          "metadata": {},
          "execution_count": 13
        },
        {
          "output_type": "display_data",
          "data": {
            "image/png": "[encoded data removed]",
            "text/plain": [
              "<Figure size 432x288 with 1 Axes>"
            ]
          },
          "metadata": {
            "needs_background": "light"
          }
        }
      ]
    },
    {
      "cell_type": "markdown",
      "metadata": {
        "id": "eUqVYU360hGt"
      },
      "source": [
        "필터는 1개, 패딩은 vaild를 제공합니다. \n",
        "- padding : 경계 처리 방법을 정의합니다.\n",
        "- ‘valid’ : 유효한 영역만 출력이 됩니다. 따라서 출력 이미지 사이즈는 입력 사이즈보다 작습니다."
      ]
    },
    {
      "cell_type": "code",
      "metadata": {
        "colab": {
          "base_uri": "https://localhost:8080/"
        },
        "id": "LCXVEmSWvnWb",
        "outputId": "40f9ccc4-7af1-4680-cbdc-c10d1301d5d9"
      },
      "source": [
        "conv=Conv2D(filters=1,kernel_size=3,strides=1,padding='valid')\n",
        "conved=conv(test_image)\n",
        "\n",
        "p_color('input',test_image)\n",
        "p_color('after conv',conved)"
      ],
      "execution_count": 14,
      "outputs": [
        {
          "output_type": "stream",
          "name": "stdout",
          "text": [
            "\u001b[35minput:\u001b[0m\n",
            "\u001b[36mshape: \u001b[0m (1, 50, 50, 1) \n",
            "\n",
            "\u001b[35mafter conv:\u001b[0m\n",
            "\u001b[36mshape: \u001b[0m (1, 48, 48, 1) \n",
            "\n"
          ]
        }
      ]
    },
    {
      "cell_type": "markdown",
      "metadata": {
        "id": "UH_WIWJo3FDq"
      },
      "source": [
        "컨불루션을 거친 후 사이즈가 48 by 48 이 됐습니다."
      ]
    },
    {
      "cell_type": "code",
      "metadata": {
        "id": "cRq8UeBv2vDR",
        "outputId": "ad1a851a-e887-4c74-98c9-66715719c8dc",
        "colab": {
          "base_uri": "https://localhost:8080/",
          "height": 285
        }
      },
      "source": [
        "cv2.cvtColor( conved.numpy().squeeze(), cv2.COLOR_BGR2RGB)\n",
        "plt.imshow( conved.numpy().squeeze(),cmap='gray')"
      ],
      "execution_count": 16,
      "outputs": [
        {
          "output_type": "execute_result",
          "data": {
            "text/plain": [
              "<matplotlib.image.AxesImage at 0x7fc1f8044ad0>"
            ]
          },
          "metadata": {},
          "execution_count": 16
        },
        {
          "output_type": "display_data",
          "data": {
            "image/png": "[encoded data removed]",
            "text/plain": [
              "<Figure size 432x288 with 1 Axes>"
            ]
          },
          "metadata": {
            "needs_background": "light"
          }
        }
      ]
    },
    {
      "cell_type": "markdown",
      "metadata": {
        "id": "4n7OxcJg3jPa"
      },
      "source": [
        "- 3,3,1,1 에서 3by3을 의미하며, 세번 째 1은 채널 수를, 네 번째 1은 filter의 개수를 말한다. \n",
        "- 즉 만약 3,3,3,1로 바꿔말하면 3by3에 3채널짜리 필터 1개가 있다는 뜻이된다."
      ]
    },
    {
      "cell_type": "code",
      "metadata": {
        "colab": {
          "base_uri": "https://localhost:8080/"
        },
        "id": "QbW4iK6av0R3",
        "outputId": "74238a95-fb77-4b63-81cd-178da02ae104"
      },
      "source": [
        "p_color('conv weight',conv.get_weights()[0])#weight\n",
        "p_color('conv bias',conv.get_weights()[1]) #bias"
      ],
      "execution_count": 17,
      "outputs": [
        {
          "output_type": "stream",
          "name": "stdout",
          "text": [
            "\u001b[35mconv weight:\u001b[0m\n",
            "\u001b[36mshape: \u001b[0m (3, 3, 1, 1) \n",
            "\n",
            "\u001b[35mconv bias:\u001b[0m\n",
            "\u001b[36mshape: \u001b[0m (1,) \n",
            "\n"
          ]
        }
      ]
    },
    {
      "cell_type": "markdown",
      "metadata": {
        "id": "IvfmJ_NK4B8n"
      },
      "source": [
        "이번엔 필터 8개로 구성해보겠습니다. 그 덕분에 bias 역시 8개가 됩니다."
      ]
    },
    {
      "cell_type": "code",
      "metadata": {
        "id": "HflV6Y9K38YA",
        "outputId": "d94d5fb1-cabc-4667-dffe-51b963bc608a",
        "colab": {
          "base_uri": "https://localhost:8080/"
        }
      },
      "source": [
        "conv=Conv2D(filters=8,kernel_size=3,strides=1,padding='valid')\n",
        "conved=conv(test_image)\n",
        "p_color('conv weight',conv.get_weights()[0])#weight\n",
        "p_color('conv bias',conv.get_weights()[1]) #bias"
      ],
      "execution_count": 18,
      "outputs": [
        {
          "output_type": "stream",
          "name": "stdout",
          "text": [
            "\u001b[35mconv weight:\u001b[0m\n",
            "\u001b[36mshape: \u001b[0m (3, 3, 1, 8) \n",
            "\n",
            "\u001b[35mconv bias:\u001b[0m\n",
            "\u001b[36mshape: \u001b[0m (8,) \n",
            "\n"
          ]
        }
      ]
    },
    {
      "cell_type": "markdown",
      "metadata": {
        "id": "tbrNJf7i4xrF"
      },
      "source": [
        "- 8개의 필터를 거쳤으므로 8개의 필터가 생성됨을 볼 수 있습니다.\n",
        "- 여기서 앞의 1은 배치사이즈입니다. 즉, 배치사이즈는 인풋의 개수입니다."
      ]
    },
    {
      "cell_type": "code",
      "metadata": {
        "id": "VDKTksCW4nVN",
        "outputId": "dc01f22a-7c62-4d85-c7a4-6a268f5a34fb",
        "colab": {
          "base_uri": "https://localhost:8080/"
        }
      },
      "source": [
        "p_color('after conv',conved)"
      ],
      "execution_count": 21,
      "outputs": [
        {
          "output_type": "stream",
          "name": "stdout",
          "text": [
            "\u001b[35mafter conv:\u001b[0m\n",
            "\u001b[36mshape: \u001b[0m (1, 48, 48, 8) \n",
            "\n"
          ]
        }
      ]
    },
    {
      "cell_type": "code",
      "metadata": {
        "id": "Hcl4uFaEwE9T"
      },
      "source": [
        "# %%"
      ],
      "execution_count": null,
      "outputs": []
    },
    {
      "cell_type": "markdown",
      "metadata": {
        "id": "PJ6_b-C06N5G"
      },
      "source": [
        "# MAX Pooling 테스트\n",
        "- 먼저 4by4의 테스트 이미지를 랜덤으로 생성합니다."
      ]
    },
    {
      "cell_type": "code",
      "metadata": {
        "colab": {
          "base_uri": "https://localhost:8080/"
        },
        "id": "9KBrzb0-yl5-",
        "outputId": "9db0cbeb-e6f1-4cbd-acd5-840caa359b63"
      },
      "source": [
        "test_image=tf.random.normal(mean=0,stddev=1,shape=(1,4,4,1))\n",
        "maxpool=MaxPooling2D(pool_size=2,strides=2)\n",
        "maxpooled=maxpool(test_image)\n",
        "\n",
        "p_color('input',test_image)\n",
        "p_color('after maxpool',maxpooled)"
      ],
      "execution_count": 22,
      "outputs": [
        {
          "output_type": "stream",
          "name": "stdout",
          "text": [
            "\u001b[35minput:\u001b[0m\n",
            "\u001b[36mshape: \u001b[0m (1, 4, 4, 1) \n",
            "\n",
            "\u001b[35mafter maxpool:\u001b[0m\n",
            "\u001b[36mshape: \u001b[0m (1, 2, 2, 1) \n",
            "\n"
          ]
        }
      ]
    },
    {
      "cell_type": "code",
      "metadata": {
        "id": "EkVKF8HB6wvQ",
        "outputId": "d303b947-40cd-4027-be04-9eb4a01d32a4",
        "colab": {
          "base_uri": "https://localhost:8080/",
          "height": 287
        }
      },
      "source": [
        "cv2.cvtColor( test_image.numpy().squeeze(), cv2.COLOR_BGR2RGB)\n",
        "plt.imshow( test_image.numpy().squeeze(),cmap='gray')"
      ],
      "execution_count": 23,
      "outputs": [
        {
          "output_type": "execute_result",
          "data": {
            "text/plain": [
              "<matplotlib.image.AxesImage at 0x7fc1f7a64c50>"
            ]
          },
          "metadata": {},
          "execution_count": 23
        },
        {
          "output_type": "display_data",
          "data": {
            "image/png": "[encoded data removed]",
            "text/plain": [
              "<Figure size 432x288 with 1 Axes>"
            ]
          },
          "metadata": {
            "needs_background": "light"
          }
        }
      ]
    },
    {
      "cell_type": "code",
      "metadata": {
        "id": "ILGrV44u6u2s",
        "outputId": "01ab5855-9b4c-428a-c672-23914c244fa5",
        "colab": {
          "base_uri": "https://localhost:8080/",
          "height": 287
        }
      },
      "source": [
        "cv2.cvtColor( maxpooled.numpy().squeeze(), cv2.COLOR_BGR2RGB)\n",
        "plt.imshow( maxpooled.numpy().squeeze(),cmap='gray')"
      ],
      "execution_count": 24,
      "outputs": [
        {
          "output_type": "execute_result",
          "data": {
            "text/plain": [
              "<matplotlib.image.AxesImage at 0x7fc1f79df690>"
            ]
          },
          "metadata": {},
          "execution_count": 24
        },
        {
          "output_type": "display_data",
          "data": {
            "image/png": "[encoded data removed]",
            "text/plain": [
              "<Figure size 432x288 with 1 Axes>"
            ]
          },
          "metadata": {
            "needs_background": "light"
          }
        }
      ]
    },
    {
      "cell_type": "markdown",
      "metadata": {
        "id": "q6zN70W-7L3c"
      },
      "source": [
        "# Average Pooling 테스트"
      ]
    },
    {
      "cell_type": "code",
      "metadata": {
        "id": "-fG7VWsr7N2j",
        "outputId": "f6841629-3fe0-4ec8-8254-6f1bf5ee4577",
        "colab": {
          "base_uri": "https://localhost:8080/"
        }
      },
      "source": [
        "avgpool=AveragePooling2D(pool_size=2,strides=2)\n",
        "avgpooled=avgpool(test_image)\n",
        "\n",
        "p_color('input',test_image)\n",
        "p_color('after maxpool',avgpooled)"
      ],
      "execution_count": 25,
      "outputs": [
        {
          "output_type": "stream",
          "name": "stdout",
          "text": [
            "\u001b[35minput:\u001b[0m\n",
            "\u001b[36mshape: \u001b[0m (1, 4, 4, 1) \n",
            "\n",
            "\u001b[35mafter maxpool:\u001b[0m\n",
            "\u001b[36mshape: \u001b[0m (1, 2, 2, 1) \n",
            "\n"
          ]
        }
      ]
    },
    {
      "cell_type": "code",
      "metadata": {
        "id": "RAGLvG8Y7c56",
        "outputId": "115974d5-565c-4a36-f8be-2bc33f29edc6",
        "colab": {
          "base_uri": "https://localhost:8080/",
          "height": 287
        }
      },
      "source": [
        "cv2.cvtColor( test_image.numpy().squeeze(), cv2.COLOR_BGR2RGB)\n",
        "plt.imshow( test_image.numpy().squeeze(),cmap='gray')"
      ],
      "execution_count": 26,
      "outputs": [
        {
          "output_type": "execute_result",
          "data": {
            "text/plain": [
              "<matplotlib.image.AxesImage at 0x7fc1f7912450>"
            ]
          },
          "metadata": {},
          "execution_count": 26
        },
        {
          "output_type": "display_data",
          "data": {
            "image/png": "[encoded data removed]",
            "text/plain": [
              "<Figure size 432x288 with 1 Axes>"
            ]
          },
          "metadata": {
            "needs_background": "light"
          }
        }
      ]
    },
    {
      "cell_type": "code",
      "metadata": {
        "id": "e2y051EN7ZJ-",
        "outputId": "837e090f-0847-4ca2-8239-8446be9b1915",
        "colab": {
          "base_uri": "https://localhost:8080/",
          "height": 287
        }
      },
      "source": [
        "cv2.cvtColor( avgpooled.numpy().squeeze(), cv2.COLOR_BGR2RGB)\n",
        "plt.imshow( avgpooled.numpy().squeeze(),cmap='gray')"
      ],
      "execution_count": 27,
      "outputs": [
        {
          "output_type": "execute_result",
          "data": {
            "text/plain": [
              "<matplotlib.image.AxesImage at 0x7fc1f78f1a10>"
            ]
          },
          "metadata": {},
          "execution_count": 27
        },
        {
          "output_type": "display_data",
          "data": {
            "image/png": "[encoded data removed]",
            "text/plain": [
              "<Figure size 432x288 with 1 Axes>"
            ]
          },
          "metadata": {
            "needs_background": "light"
          }
        }
      ]
    },
    {
      "cell_type": "markdown",
      "metadata": {
        "id": "DBnhW7qV7xZE"
      },
      "source": [
        "# int 형으로 다시 테스트해봄"
      ]
    },
    {
      "cell_type": "code",
      "metadata": {
        "id": "uz6gdc2x8vv5"
      },
      "source": [
        "test_image=tf.random.uniform(minval=0,maxval=10,shape=(1,4,4,1),dtype=tf.int32)\n",
        "maxpool=MaxPooling2D(pool_size=2,strides=1)\n",
        "maxpooled=maxpool(test_image)"
      ],
      "execution_count": 39,
      "outputs": []
    },
    {
      "cell_type": "code",
      "metadata": {
        "id": "u4bBPiRU9K5L",
        "outputId": "7e1b36b6-52e4-4e96-fd1b-6d092d5fc5b7",
        "colab": {
          "base_uri": "https://localhost:8080/"
        }
      },
      "source": [
        "print(test_image.numpy().squeeze(),'\\n')\n",
        "print(maxpooled.numpy().squeeze(),'\\n')"
      ],
      "execution_count": 40,
      "outputs": [
        {
          "output_type": "stream",
          "name": "stdout",
          "text": [
            "[[9 5 8 1]\n",
            " [7 7 3 0]\n",
            " [6 5 8 0]\n",
            " [8 5 3 6]] \n",
            "\n",
            "[[9 8 8]\n",
            " [7 8 8]\n",
            " [8 8 8]] \n",
            "\n"
          ]
        }
      ]
    },
    {
      "cell_type": "code",
      "metadata": {
        "id": "i-mNyPae9Wqm",
        "outputId": "9a4b6b0b-829c-4524-b0f2-5c97e8a2f6c7",
        "colab": {
          "base_uri": "https://localhost:8080/",
          "height": 287
        }
      },
      "source": [
        "#cv2.cvtColor( test_image.numpy().squeeze(), cv2.COLOR_BGR2RGB)\n",
        "plt.imshow( test_image.numpy().squeeze(),cmap='gray')"
      ],
      "execution_count": 41,
      "outputs": [
        {
          "output_type": "execute_result",
          "data": {
            "text/plain": [
              "<matplotlib.image.AxesImage at 0x7fc1f7038e50>"
            ]
          },
          "metadata": {},
          "execution_count": 41
        },
        {
          "output_type": "display_data",
          "data": {
            "image/png": "[encoded data removed]",
            "text/plain": [
              "<Figure size 432x288 with 1 Axes>"
            ]
          },
          "metadata": {
            "needs_background": "light"
          }
        }
      ]
    },
    {
      "cell_type": "markdown",
      "metadata": {
        "id": "net5hqeD999L"
      },
      "source": [
        "3행 1열에 검은색으로 보이는것은 상대적이라 그렇다? "
      ]
    },
    {
      "cell_type": "code",
      "metadata": {
        "id": "2NxDSMeg9U0n",
        "outputId": "1b538566-4e75-447e-dea7-3f617edfccc2",
        "colab": {
          "base_uri": "https://localhost:8080/",
          "height": 287
        }
      },
      "source": [
        "#cv2.cvtColor(maxpooled.numpy().squeeze(), cv2.COLOR_BGR2RGB)\n",
        "plt.imshow(maxpooled.numpy().squeeze(),cmap='gray')"
      ],
      "execution_count": 44,
      "outputs": [
        {
          "output_type": "execute_result",
          "data": {
            "text/plain": [
              "<matplotlib.image.AxesImage at 0x7fc1f6eece50>"
            ]
          },
          "metadata": {},
          "execution_count": 44
        },
        {
          "output_type": "display_data",
          "data": {
            "image/png": "[encoded data removed]",
            "text/plain": [
              "<Figure size 432x288 with 1 Axes>"
            ]
          },
          "metadata": {
            "needs_background": "light"
          }
        }
      ]
    },
    {
      "cell_type": "markdown",
      "metadata": {
        "id": "ynloDmat-mTc"
      },
      "source": [
        "# 이제 3채널로 테스트 이미지 생성후 MAXPOOLING을 해보겠습니다."
      ]
    },
    {
      "cell_type": "code",
      "metadata": {
        "id": "I13PwR7E-l72"
      },
      "source": [
        "test_image=tf.random.uniform(minval=0,maxval=10,shape=(1,4,4,3),dtype=tf.int32)\n",
        "maxpool=MaxPooling2D(pool_size=2,strides=1)\n",
        "maxpooled=maxpool(test_image)"
      ],
      "execution_count": 45,
      "outputs": []
    },
    {
      "cell_type": "markdown",
      "metadata": {
        "id": "z9oBg20e-3da"
      },
      "source": [
        "# 3차원이므로 2D상의 디스플레이에서는 출력이되지 않습니다."
      ]
    },
    {
      "cell_type": "code",
      "metadata": {
        "id": "VcOv78Xa-s4p",
        "outputId": "349e348e-4718-4f38-e0bd-0b9fd957ec87",
        "colab": {
          "base_uri": "https://localhost:8080/",
          "height": 318
        }
      },
      "source": [
        "cv2.cvtColor( test_image.numpy().squeeze(), cv2.COLOR_BGR2RGB)\n",
        "plt.imshow( test_image.numpy().squeeze(),cmap='gray')"
      ],
      "execution_count": 46,
      "outputs": [
        {
          "output_type": "error",
          "ename": "error",
          "evalue": "ignored",
          "traceback": [
            "\u001b[0;31m---------------------------------------------------------------------------\u001b[0m",
            "\u001b[0;31merror\u001b[0m                                     Traceback (most recent call last)",
            "\u001b[0;32m<ipython-input-46-213a9c3e848a>\u001b[0m in \u001b[0;36m<module>\u001b[0;34m()\u001b[0m\n\u001b[0;32m----> 1\u001b[0;31m \u001b[0mcv2\u001b[0m\u001b[0;34m.\u001b[0m\u001b[0mcvtColor\u001b[0m\u001b[0;34m(\u001b[0m \u001b[0mtest_image\u001b[0m\u001b[0;34m.\u001b[0m\u001b[0mnumpy\u001b[0m\u001b[0;34m(\u001b[0m\u001b[0;34m)\u001b[0m\u001b[0;34m.\u001b[0m\u001b[0msqueeze\u001b[0m\u001b[0;34m(\u001b[0m\u001b[0;34m)\u001b[0m\u001b[0;34m,\u001b[0m \u001b[0mcv2\u001b[0m\u001b[0;34m.\u001b[0m\u001b[0mCOLOR_BGR2RGB\u001b[0m\u001b[0;34m)\u001b[0m\u001b[0;34m\u001b[0m\u001b[0;34m\u001b[0m\u001b[0m\n\u001b[0m\u001b[1;32m      2\u001b[0m \u001b[0mplt\u001b[0m\u001b[0;34m.\u001b[0m\u001b[0mimshow\u001b[0m\u001b[0;34m(\u001b[0m \u001b[0mtest_image\u001b[0m\u001b[0;34m.\u001b[0m\u001b[0mnumpy\u001b[0m\u001b[0;34m(\u001b[0m\u001b[0;34m)\u001b[0m\u001b[0;34m.\u001b[0m\u001b[0msqueeze\u001b[0m\u001b[0;34m(\u001b[0m\u001b[0;34m)\u001b[0m\u001b[0;34m,\u001b[0m\u001b[0mcmap\u001b[0m\u001b[0;34m=\u001b[0m\u001b[0;34m'gray'\u001b[0m\u001b[0;34m)\u001b[0m\u001b[0;34m\u001b[0m\u001b[0;34m\u001b[0m\u001b[0m\n",
            "\u001b[0;31merror\u001b[0m: OpenCV(4.1.2) /io/opencv/modules/imgproc/src/color.simd_helpers.hpp:94: error: (-2:Unspecified error) in function 'cv::impl::{anonymous}::CvtHelper<VScn, VDcn, VDepth, sizePolicy>::CvtHelper(cv::InputArray, cv::OutputArray, int) [with VScn = cv::impl::{anonymous}::Set<3, 4>; VDcn = cv::impl::{anonymous}::Set<3, 4>; VDepth = cv::impl::{anonymous}::Set<0, 2, 5>; cv::impl::{anonymous}::SizePolicy sizePolicy = (cv::impl::<unnamed>::SizePolicy)2u; cv::InputArray = const cv::_InputArray&; cv::OutputArray = const cv::_OutputArray&]'\n> Unsupported depth of input image:\n>     'VDepth::contains(depth)'\n> where\n>     'depth' is 4 (CV_32S)\n"
          ]
        }
      ]
    },
    {
      "cell_type": "markdown",
      "metadata": {
        "id": "ljkFRJPp-8qF"
      },
      "source": [
        "# 따라서 채널을 각각 뽑아보겠습니다."
      ]
    },
    {
      "cell_type": "markdown",
      "metadata": {
        "id": "2O_rUvv7BNXm"
      },
      "source": [
        "좌측 : test Image, 우측 : Maxpooled Image"
      ]
    },
    {
      "cell_type": "code",
      "metadata": {
        "id": "gJRCdhQY-7YG",
        "outputId": "ce5259f1-3b48-428c-af8d-d7f399ed8748",
        "colab": {
          "base_uri": "https://localhost:8080/",
          "height": 265
        }
      },
      "source": [
        "i=1\n",
        "for channel_idx in range(3):\n",
        "  #디지털 숫자값을 보고싶으면 주석해제\n",
        "  #print('input_channel {}:\\n'.format(channel_idx),test_image[...,channel_idx].numpy().squeeze())\n",
        "  plt.subplot(3,2,i)\n",
        "  i=i+1\n",
        "  plt.imshow( test_image[...,channel_idx].numpy().squeeze(),cmap='gray')\n",
        "  #print('maxpool_channel {}:\\n'.format(channel_idx),maxpooled[...,channel_idx].numpy().squeeze())\n",
        "  plt.subplot(3,2,i)\n",
        "  plt.imshow( maxpooled[...,channel_idx].numpy().squeeze(),cmap='gray')\n",
        "  i=i+1"
      ],
      "execution_count": 61,
      "outputs": [
        {
          "output_type": "display_data",
          "data": {
            "image/png": "[encoded data removed]",
            "text/plain": [
              "<Figure size 432x288 with 6 Axes>"
            ]
          },
          "metadata": {
            "needs_background": "light"
          }
        }
      ]
    },
    {
      "cell_type": "markdown",
      "metadata": {
        "id": "VbVXfAbFzYk3"
      },
      "source": [
        "# Flatten and Dense Layer"
      ]
    },
    {
      "cell_type": "code",
      "metadata": {
        "id": "F2dF0Pkv2S9f"
      },
      "source": [
        "from tensorflow.keras.layers import Flatten, Dense"
      ],
      "execution_count": 62,
      "outputs": []
    },
    {
      "cell_type": "code",
      "metadata": {
        "id": "RTK0De4IC4zb"
      },
      "source": [
        "feature_map=tf.random.normal(mean=0,stddev=1,shape=(1,11,11,128)) ## 11 by 11 filter가 128개로 구성된 feature map이란 뜻이다. "
      ],
      "execution_count": 63,
      "outputs": []
    },
    {
      "cell_type": "code",
      "metadata": {
        "id": "YbUZcG2mDO4u",
        "outputId": "eb4d2e14-6073-4a54-db85-409ae96a2311",
        "colab": {
          "base_uri": "https://localhost:8080/"
        }
      },
      "source": [
        "flatten=Flatten()\n",
        "flattened=flatten(feature_map)\n",
        "\n",
        "p_color('feature map',feature_map)\n",
        "p_color('after flatten',flattened)# 1은 배치 사이즈이다."
      ],
      "execution_count": 65,
      "outputs": [
        {
          "output_type": "stream",
          "name": "stdout",
          "text": [
            "\u001b[35mfeature map:\u001b[0m\n",
            "\u001b[36mshape: \u001b[0m (1, 11, 11, 128) \n",
            "\n",
            "\u001b[35mafter flatten:\u001b[0m\n",
            "\u001b[36mshape: \u001b[0m (1, 15488) \n",
            "\n"
          ]
        }
      ]
    },
    {
      "cell_type": "markdown",
      "metadata": {
        "id": "WQbwRk9HHAfN"
      },
      "source": [
        "flatten으로 get_weights()값을 확인하면 빈칸으로 되어있음을 확인할 수 있다."
      ]
    },
    {
      "cell_type": "code",
      "metadata": {
        "id": "zp8b195DDuRV",
        "outputId": "222e407e-151f-4fb0-fd1c-9019a8fa5a08",
        "colab": {
          "base_uri": "https://localhost:8080/"
        }
      },
      "source": [
        "print(flatten.get_weights())"
      ],
      "execution_count": 66,
      "outputs": [
        {
          "output_type": "stream",
          "name": "stdout",
          "text": [
            "[]\n"
          ]
        }
      ]
    },
    {
      "cell_type": "code",
      "metadata": {
        "id": "JXrEL40sHEd4"
      },
      "source": [
        "test_feature=tf.random.normal(mean=0,stddev=1,shape=(32,1024))"
      ],
      "execution_count": 67,
      "outputs": []
    },
    {
      "cell_type": "markdown",
      "metadata": {
        "id": "1b_-Dz2RHZ21"
      },
      "source": [
        "1024개의 노드가 있는 Layer가 32개의 인풋으로 들어간다는 뜻입니다.\n",
        "- 하나의 배치가 1024개의 feature를 가지고 있다.\n",
        "\n",
        ">"
      ]
    },
    {
      "cell_type": "code",
      "metadata": {
        "id": "2mUfcrQmHRxx",
        "outputId": "416ff1b8-ce48-4e25-c235-7bf04bbea89a",
        "colab": {
          "base_uri": "https://localhost:8080/",
          "height": 80
        }
      },
      "source": [
        "plt.imshow(test_feature.numpy().squeeze(),cmap='gray')"
      ],
      "execution_count": 68,
      "outputs": [
        {
          "output_type": "execute_result",
          "data": {
            "text/plain": [
              "<matplotlib.image.AxesImage at 0x7fc1f68a0050>"
            ]
          },
          "metadata": {},
          "execution_count": 68
        },
        {
          "output_type": "display_data",
          "data": {
            "image/png": "[encoded data removed]",
            "text/plain": [
              "<Figure size 432x288 with 1 Axes>"
            ]
          },
          "metadata": {
            "needs_background": "light"
          }
        }
      ]
    },
    {
      "cell_type": "code",
      "metadata": {
        "id": "2JO8dQqXHWQV"
      },
      "source": [
        "dense=Dense(units=64,activation='relu')\n",
        "densed=dense(test_feature)"
      ],
      "execution_count": 70,
      "outputs": []
    },
    {
      "cell_type": "code",
      "metadata": {
        "id": "wD8l-OQrHwVW",
        "outputId": "c7612a23-8c10-430c-af00-d2dbd6e78c43",
        "colab": {
          "base_uri": "https://localhost:8080/"
        }
      },
      "source": [
        "p_color('test_feature',test_feature)\n",
        "p_color('after dense',densed)"
      ],
      "execution_count": 71,
      "outputs": [
        {
          "output_type": "stream",
          "name": "stdout",
          "text": [
            "\u001b[35mtest_feature:\u001b[0m\n",
            "\u001b[36mshape: \u001b[0m (32, 1024) \n",
            "\n",
            "\u001b[35mafter dense:\u001b[0m\n",
            "\u001b[36mshape: \u001b[0m (32, 64) \n",
            "\n"
          ]
        }
      ]
    },
    {
      "cell_type": "code",
      "metadata": {
        "id": "azYcvDc8H_yw",
        "outputId": "cfbada22-e2d3-4b5e-f2a9-9aaadcbfa927",
        "colab": {
          "base_uri": "https://localhost:8080/",
          "height": 235
        }
      },
      "source": [
        "plt.imshow(densed.numpy().squeeze(),cmap='gray')"
      ],
      "execution_count": 72,
      "outputs": [
        {
          "output_type": "execute_result",
          "data": {
            "text/plain": [
              "<matplotlib.image.AxesImage at 0x7fc1f68f4ad0>"
            ]
          },
          "metadata": {},
          "execution_count": 72
        },
        {
          "output_type": "display_data",
          "data": {
            "image/png": "[encoded data removed]",
            "text/plain": [
              "<Figure size 432x288 with 1 Axes>"
            ]
          },
          "metadata": {
            "needs_background": "light"
          }
        }
      ]
    },
    {
      "cell_type": "markdown",
      "metadata": {
        "id": "47lO2WXkIkZi"
      },
      "source": [
        "1024개의 weight가 있는 filter를 64개 넣는다."
      ]
    },
    {
      "cell_type": "code",
      "metadata": {
        "id": "8ErwURidIBt9",
        "outputId": "ca6fe0c2-0fae-4a5f-9580-74c9ce3f561d",
        "colab": {
          "base_uri": "https://localhost:8080/"
        }
      },
      "source": [
        "print(dense.get_weights()[0].shape)"
      ],
      "execution_count": 73,
      "outputs": [
        {
          "output_type": "stream",
          "name": "stdout",
          "text": [
            "(1024, 64)\n"
          ]
        }
      ]
    },
    {
      "cell_type": "markdown",
      "metadata": {
        "id": "cLJ8mZcfIwLl"
      },
      "source": [
        "# weight와 bias에 대한 파라미터이므로 2개 가지고 있다."
      ]
    },
    {
      "cell_type": "code",
      "metadata": {
        "id": "GBhsNwfPIiLc",
        "outputId": "373f5294-ff37-4cc5-ce7b-2355c496d1eb",
        "colab": {
          "base_uri": "https://localhost:8080/"
        }
      },
      "source": [
        "print(len(dense.get_weights()))"
      ],
      "execution_count": 74,
      "outputs": [
        {
          "output_type": "stream",
          "name": "stdout",
          "text": [
            "2\n"
          ]
        }
      ]
    },
    {
      "cell_type": "markdown",
      "metadata": {
        "id": "5aTY5b6LI-zj"
      },
      "source": [
        "# 전체 정리"
      ]
    },
    {
      "cell_type": "code",
      "metadata": {
        "id": "KG9R9-uJK1Q8"
      },
      "source": [
        "test_image=tf.random.normal(mean=0,stddev=1,shape=(32,50,50,3))"
      ],
      "execution_count": 94,
      "outputs": []
    },
    {
      "cell_type": "code",
      "metadata": {
        "id": "2zgIA2ZYIvTe"
      },
      "source": [
        "conv=Conv2D(filters=8,kernel_size=(3,3),padding='same',activation='relu')"
      ],
      "execution_count": 95,
      "outputs": []
    },
    {
      "cell_type": "code",
      "metadata": {
        "id": "RByt-t84JN-O"
      },
      "source": [
        "conv_pool=MaxPooling2D(pool_size=2,strides=2)"
      ],
      "execution_count": 96,
      "outputs": []
    },
    {
      "cell_type": "code",
      "metadata": {
        "id": "lC2-YW-VJtsP"
      },
      "source": [
        "flatten=Flatten()"
      ],
      "execution_count": 97,
      "outputs": []
    },
    {
      "cell_type": "code",
      "metadata": {
        "id": "GRhjKNGYJ2Y-"
      },
      "source": [
        "dense=Dense(units=10,activation='softmax')"
      ],
      "execution_count": 98,
      "outputs": []
    },
    {
      "cell_type": "code",
      "metadata": {
        "id": "D-2nZtP2Lc9u",
        "outputId": "d7fcc39e-d924-491b-c80f-91a4ee9b1861",
        "colab": {
          "base_uri": "https://localhost:8080/"
        }
      },
      "source": [
        "p_color('inputs',test_image)\n",
        "x=conv(test_image)\n",
        "p_color('after conv',x)\n",
        "x=conv_pool(x)\n",
        "p_color('after conv_pool',x)"
      ],
      "execution_count": 100,
      "outputs": [
        {
          "output_type": "stream",
          "name": "stdout",
          "text": [
            "\u001b[35minputs:\u001b[0m\n",
            "\u001b[36mshape: \u001b[0m (32, 50, 50, 3) \n",
            "\n",
            "\u001b[35mafter conv:\u001b[0m\n",
            "\u001b[36mshape: \u001b[0m (32, 50, 50, 8) \n",
            "\n",
            "\u001b[35mafter conv_pool:\u001b[0m\n",
            "\u001b[36mshape: \u001b[0m (32, 25, 25, 8) \n",
            "\n"
          ]
        }
      ]
    },
    {
      "cell_type": "code",
      "metadata": {
        "id": "qXazOxgPJ5RL",
        "outputId": "dbf7f57a-96c1-47c7-d23c-969b99549990",
        "colab": {
          "base_uri": "https://localhost:8080/",
          "height": 126
        }
      },
      "source": [
        "x=flatten(x)\n",
        "p_color('after flatten',x)\n",
        "plt.imshow(x.numpy().squeeze(),cmap='gray')"
      ],
      "execution_count": 101,
      "outputs": [
        {
          "output_type": "stream",
          "name": "stdout",
          "text": [
            "\u001b[35mafter flatten:\u001b[0m\n",
            "\u001b[36mshape: \u001b[0m (32, 5000) \n",
            "\n"
          ]
        },
        {
          "output_type": "execute_result",
          "data": {
            "text/plain": [
              "<matplotlib.image.AxesImage at 0x7fc1f6bbb850>"
            ]
          },
          "metadata": {},
          "execution_count": 101
        },
        {
          "output_type": "display_data",
          "data": {
            "image/png": "[encoded data removed]",
            "text/plain": [
              "<Figure size 432x288 with 1 Axes>"
            ]
          },
          "metadata": {
            "needs_background": "light"
          }
        }
      ]
    },
    {
      "cell_type": "code",
      "metadata": {
        "id": "FVeAqIyCLh3x",
        "outputId": "20805c2c-f653-49ec-fda3-fcd0fd5048c6",
        "colab": {
          "base_uri": "https://localhost:8080/",
          "height": 339
        }
      },
      "source": [
        "x=dense(x)\n",
        "p_color('after dense',x)\n",
        "plt.imshow(x.numpy().squeeze(),cmap='gray')"
      ],
      "execution_count": 102,
      "outputs": [
        {
          "output_type": "stream",
          "name": "stdout",
          "text": [
            "\u001b[35mafter dense:\u001b[0m\n",
            "\u001b[36mshape: \u001b[0m (32, 10) \n",
            "\n"
          ]
        },
        {
          "output_type": "execute_result",
          "data": {
            "text/plain": [
              "<matplotlib.image.AxesImage at 0x7fc1f6476a50>"
            ]
          },
          "metadata": {},
          "execution_count": 102
        },
        {
          "output_type": "display_data",
          "data": {
            "image/png": "[encoded data removed]",
            "text/plain": [
              "<Figure size 432x288 with 1 Axes>"
            ]
          },
          "metadata": {
            "needs_background": "light"
          }
        }
      ]
    },
    {
      "cell_type": "markdown",
      "metadata": {
        "id": "e-awJuR9L7gb"
      },
      "source": [
        "# Various Implementations of CNN"
      ]
    },
    {
      "cell_type": "code",
      "metadata": {
        "id": "8JcjbRYuLB9c"
      },
      "source": [
        "import tensorflow as tf\n",
        "from tensorflow.keras.models import Sequential,Model\n",
        "from tensorflow.keras.layers import Layer\n",
        "from tensorflow.keras.layers import Conv2D,MaxPooling2D,Activation\n",
        "from tensorflow.keras.layers import Flatten,Dense"
      ],
      "execution_count": 138,
      "outputs": []
    },
    {
      "cell_type": "code",
      "metadata": {
        "id": "AGqckzKHMeRd"
      },
      "source": [
        "model=Sequential()\n",
        "\n",
        "#feature extractor\n",
        "model.add(Conv2D(filters=8,kernel_size=5,padding='same',activation='relu'))\n",
        "model.add(MaxPooling2D(pool_size=2,strides=2))\n",
        "model.add(Conv2D(filters=32,kernel_size=5,padding='same',activation='relu'))\n",
        "model.add(MaxPooling2D(pool_size=2,strides=2))"
      ],
      "execution_count": 124,
      "outputs": []
    },
    {
      "cell_type": "code",
      "metadata": {
        "id": "mqSha9FTM2Oo"
      },
      "source": [
        "#classifier\n",
        "model.add(Flatten())\n",
        "model.add(Dense(units=64,activation='relu'))\n",
        "model.add(Dense(units=10,activation='softmax'))"
      ],
      "execution_count": 125,
      "outputs": []
    },
    {
      "cell_type": "code",
      "metadata": {
        "id": "L6NOfAosM9yg",
        "outputId": "5ecb4e1f-e56f-4de6-e9d6-6491ac86ee80",
        "colab": {
          "base_uri": "https://localhost:8080/"
        }
      },
      "source": [
        "model.build(input_shape=(None,28,28,1))\n",
        "model.summary()"
      ],
      "execution_count": 126,
      "outputs": [
        {
          "output_type": "stream",
          "name": "stdout",
          "text": [
            "Model: \"sequential_2\"\n",
            "_________________________________________________________________\n",
            "Layer (type)                 Output Shape              Param #   \n",
            "=================================================================\n",
            "conv2d_8 (Conv2D)            (None, 28, 28, 8)         208       \n",
            "_________________________________________________________________\n",
            "max_pooling2d_11 (MaxPooling (None, 14, 14, 8)         0         \n",
            "_________________________________________________________________\n",
            "conv2d_9 (Conv2D)            (None, 14, 14, 32)        6432      \n",
            "_________________________________________________________________\n",
            "max_pooling2d_12 (MaxPooling (None, 7, 7, 32)          0         \n",
            "_________________________________________________________________\n",
            "flatten_6 (Flatten)          (None, 1568)              0         \n",
            "_________________________________________________________________\n",
            "dense_6 (Dense)              (None, 64)                100416    \n",
            "_________________________________________________________________\n",
            "dense_7 (Dense)              (None, 10)                650       \n",
            "=================================================================\n",
            "Total params: 107,706\n",
            "Trainable params: 107,706\n",
            "Non-trainable params: 0\n",
            "_________________________________________________________________\n"
          ]
        }
      ]
    },
    {
      "cell_type": "code",
      "metadata": {
        "id": "iVqtF0Y1NDpi",
        "outputId": "9942f5ab-134f-4e24-b74a-2b7c07766844",
        "colab": {
          "base_uri": "https://localhost:8080/",
          "height": 396
        }
      },
      "source": [
        "# model sub-classing\n",
        "class CNN_Model(Model):\n",
        "  def __init(self):\n",
        "    super(CNN_Model,self).__init__()\n",
        "\n",
        "    #feature extractor\n",
        "    self.conv1=Conv2D(filters=8,kernel_size=5,padding='same',activation='relu',name='conv1')\n",
        "    self.conv1_pool=MaxPooling2D(pool_size=2,strides=2)\n",
        "    self.conv2=Conv2D(filters=32,kernel_size=5,padding='same',activation='relu')\n",
        "    self.conv2_pool=MaxPooling2D(pool_size=2,strides=2)\n",
        "\n",
        "    #classifier\n",
        "    self.flatten=Flatten()\n",
        "    self.dense1=Dense(units=64,activation='relu')\n",
        "    self.dense2=Dense(units=10,activation='softmax')\n",
        "\n",
        "  def call(self,x):\n",
        "    print(x.shape)\n",
        "    x=self.conv1(x)\n",
        "    x=self.conv1_pool(x)\n",
        "    x=self.conv2(x)\n",
        "    x=self.conv_pool(x)\n",
        "\n",
        "    x=self.flatten(x)\n",
        "    x=self.dense1(x)\n",
        "    x=self.dense2(x)\n",
        "    return x\n",
        "model=CNN_Model()\n",
        "model.build(input_shape=(None,28,28,1))\n",
        "model.summary()"
      ],
      "execution_count": 129,
      "outputs": [
        {
          "output_type": "stream",
          "name": "stdout",
          "text": [
            "(None, 28, 28, 1)\n"
          ]
        },
        {
          "output_type": "error",
          "ename": "AttributeError",
          "evalue": "ignored",
          "traceback": [
            "\u001b[0;31m---------------------------------------------------------------------------\u001b[0m",
            "\u001b[0;31mAttributeError\u001b[0m                            Traceback (most recent call last)",
            "\u001b[0;32m<ipython-input-129-e088971f552a>\u001b[0m in \u001b[0;36m<module>\u001b[0;34m()\u001b[0m\n\u001b[1;32m     27\u001b[0m     \u001b[0;32mreturn\u001b[0m \u001b[0mx\u001b[0m\u001b[0;34m\u001b[0m\u001b[0;34m\u001b[0m\u001b[0m\n\u001b[1;32m     28\u001b[0m \u001b[0mmodel\u001b[0m\u001b[0;34m=\u001b[0m\u001b[0mCNN_Model\u001b[0m\u001b[0;34m(\u001b[0m\u001b[0;34m)\u001b[0m\u001b[0;34m\u001b[0m\u001b[0;34m\u001b[0m\u001b[0m\n\u001b[0;32m---> 29\u001b[0;31m \u001b[0mmodel\u001b[0m\u001b[0;34m.\u001b[0m\u001b[0mbuild\u001b[0m\u001b[0;34m(\u001b[0m\u001b[0minput_shape\u001b[0m\u001b[0;34m=\u001b[0m\u001b[0;34m(\u001b[0m\u001b[0;32mNone\u001b[0m\u001b[0;34m,\u001b[0m\u001b[0;36m28\u001b[0m\u001b[0;34m,\u001b[0m\u001b[0;36m28\u001b[0m\u001b[0;34m,\u001b[0m\u001b[0;36m1\u001b[0m\u001b[0;34m)\u001b[0m\u001b[0;34m)\u001b[0m\u001b[0;34m\u001b[0m\u001b[0;34m\u001b[0m\u001b[0m\n\u001b[0m\u001b[1;32m     30\u001b[0m \u001b[0mmodel\u001b[0m\u001b[0;34m.\u001b[0m\u001b[0msummary\u001b[0m\u001b[0;34m(\u001b[0m\u001b[0;34m)\u001b[0m\u001b[0;34m\u001b[0m\u001b[0;34m\u001b[0m\u001b[0m\n",
            "\u001b[0;32m/usr/local/lib/python3.7/dist-packages/keras/engine/training.py\u001b[0m in \u001b[0;36mbuild\u001b[0;34m(self, input_shape)\u001b[0m\n\u001b[1;32m    411\u001b[0m                            'method accepts an `inputs` argument.')\n\u001b[1;32m    412\u001b[0m         \u001b[0;32mtry\u001b[0m\u001b[0;34m:\u001b[0m\u001b[0;34m\u001b[0m\u001b[0;34m\u001b[0m\u001b[0m\n\u001b[0;32m--> 413\u001b[0;31m           \u001b[0mself\u001b[0m\u001b[0;34m.\u001b[0m\u001b[0mcall\u001b[0m\u001b[0;34m(\u001b[0m\u001b[0mx\u001b[0m\u001b[0;34m,\u001b[0m \u001b[0;34m**\u001b[0m\u001b[0mkwargs\u001b[0m\u001b[0;34m)\u001b[0m\u001b[0;34m\u001b[0m\u001b[0;34m\u001b[0m\u001b[0m\n\u001b[0m\u001b[1;32m    414\u001b[0m         \u001b[0;32mexcept\u001b[0m \u001b[0;34m(\u001b[0m\u001b[0mtf\u001b[0m\u001b[0;34m.\u001b[0m\u001b[0merrors\u001b[0m\u001b[0;34m.\u001b[0m\u001b[0mInvalidArgumentError\u001b[0m\u001b[0;34m,\u001b[0m \u001b[0mTypeError\u001b[0m\u001b[0;34m)\u001b[0m\u001b[0;34m:\u001b[0m\u001b[0;34m\u001b[0m\u001b[0;34m\u001b[0m\u001b[0m\n\u001b[1;32m    415\u001b[0m           raise ValueError('You cannot build your model by calling `build` '\n",
            "\u001b[0;32m<ipython-input-129-e088971f552a>\u001b[0m in \u001b[0;36mcall\u001b[0;34m(self, x)\u001b[0m\n\u001b[1;32m     17\u001b[0m   \u001b[0;32mdef\u001b[0m \u001b[0mcall\u001b[0m\u001b[0;34m(\u001b[0m\u001b[0mself\u001b[0m\u001b[0;34m,\u001b[0m\u001b[0mx\u001b[0m\u001b[0;34m)\u001b[0m\u001b[0;34m:\u001b[0m\u001b[0;34m\u001b[0m\u001b[0;34m\u001b[0m\u001b[0m\n\u001b[1;32m     18\u001b[0m     \u001b[0mprint\u001b[0m\u001b[0;34m(\u001b[0m\u001b[0mx\u001b[0m\u001b[0;34m.\u001b[0m\u001b[0mshape\u001b[0m\u001b[0;34m)\u001b[0m\u001b[0;34m\u001b[0m\u001b[0;34m\u001b[0m\u001b[0m\n\u001b[0;32m---> 19\u001b[0;31m     \u001b[0mx\u001b[0m\u001b[0;34m=\u001b[0m\u001b[0mself\u001b[0m\u001b[0;34m.\u001b[0m\u001b[0mconv1\u001b[0m\u001b[0;34m(\u001b[0m\u001b[0mx\u001b[0m\u001b[0;34m)\u001b[0m\u001b[0;34m\u001b[0m\u001b[0;34m\u001b[0m\u001b[0m\n\u001b[0m\u001b[1;32m     20\u001b[0m     \u001b[0mx\u001b[0m\u001b[0;34m=\u001b[0m\u001b[0mself\u001b[0m\u001b[0;34m.\u001b[0m\u001b[0mconv1_pool\u001b[0m\u001b[0;34m(\u001b[0m\u001b[0mx\u001b[0m\u001b[0;34m)\u001b[0m\u001b[0;34m\u001b[0m\u001b[0;34m\u001b[0m\u001b[0m\n\u001b[1;32m     21\u001b[0m     \u001b[0mx\u001b[0m\u001b[0;34m=\u001b[0m\u001b[0mself\u001b[0m\u001b[0;34m.\u001b[0m\u001b[0mconv2\u001b[0m\u001b[0;34m(\u001b[0m\u001b[0mx\u001b[0m\u001b[0;34m)\u001b[0m\u001b[0;34m\u001b[0m\u001b[0;34m\u001b[0m\u001b[0m\n",
            "\u001b[0;31mAttributeError\u001b[0m: 'CNN_Model' object has no attribute 'conv1'"
          ]
        }
      ]
    },
    {
      "cell_type": "code",
      "metadata": {
        "id": "nmczm7PsS_2-",
        "outputId": "6c3b64f5-c903-4beb-b5f4-9fe1e8a523fb",
        "colab": {
          "base_uri": "https://localhost:8080/"
        }
      },
      "source": [
        "model=Sequential()\n",
        "\n",
        "#feature extractor\n",
        "model.add(Conv2D(filters=8,kernel_size=5,padding='same',activation='relu'))\n",
        "model.add(MaxPooling2D(pool_size=2,strides=2))\n",
        "model.add(Conv2D(filters=32,kernel_size=5,padding='same',activation='relu'))\n",
        "model.add(MaxPooling2D(pool_size=2,strides=2))\n",
        "model.add(Flatten())\n",
        "model.add(Dense(units=64,activation='relu'))\n",
        "model.add(Dense(units=10,activation='softmax'))\n",
        "model.build(input_shape=(None,28,28,1))\n",
        "model.summary()"
      ],
      "execution_count": 130,
      "outputs": [
        {
          "output_type": "stream",
          "name": "stdout",
          "text": [
            "Model: \"sequential_3\"\n",
            "_________________________________________________________________\n",
            "Layer (type)                 Output Shape              Param #   \n",
            "=================================================================\n",
            "conv2d_10 (Conv2D)           (None, 28, 28, 8)         208       \n",
            "_________________________________________________________________\n",
            "max_pooling2d_13 (MaxPooling (None, 14, 14, 8)         0         \n",
            "_________________________________________________________________\n",
            "conv2d_11 (Conv2D)           (None, 14, 14, 32)        6432      \n",
            "_________________________________________________________________\n",
            "max_pooling2d_14 (MaxPooling (None, 7, 7, 32)          0         \n",
            "_________________________________________________________________\n",
            "flatten_7 (Flatten)          (None, 1568)              0         \n",
            "_________________________________________________________________\n",
            "dense_8 (Dense)              (None, 64)                100416    \n",
            "_________________________________________________________________\n",
            "dense_9 (Dense)              (None, 10)                650       \n",
            "=================================================================\n",
            "Total params: 107,706\n",
            "Trainable params: 107,706\n",
            "Non-trainable params: 0\n",
            "_________________________________________________________________\n"
          ]
        }
      ]
    },
    {
      "cell_type": "code",
      "metadata": {
        "id": "C3Bpwt0_N9XZ",
        "outputId": "edcfdaaa-da44-4d8b-933b-b1baa7395e9c",
        "colab": {
          "base_uri": "https://localhost:8080/"
        }
      },
      "source": [
        "print(model.layers)"
      ],
      "execution_count": 131,
      "outputs": [
        {
          "output_type": "stream",
          "name": "stdout",
          "text": [
            "[<keras.layers.convolutional.Conv2D object at 0x7fc1f2a42950>, <keras.layers.pooling.MaxPooling2D object at 0x7fc1f2a42bd0>, <keras.layers.convolutional.Conv2D object at 0x7fc1f2a31cd0>, <keras.layers.pooling.MaxPooling2D object at 0x7fc1f2a2bad0>, <keras.layers.core.Flatten object at 0x7fc1f2a2bcd0>, <keras.layers.core.Dense object at 0x7fc1f2a2bc50>, <keras.layers.core.Dense object at 0x7fc1f690d6d0>]\n"
          ]
        }
      ]
    },
    {
      "cell_type": "code",
      "metadata": {
        "id": "vOwOiqpySlKX",
        "outputId": "9418bc17-93cd-4ceb-c443-4fd5fca77294",
        "colab": {
          "base_uri": "https://localhost:8080/"
        }
      },
      "source": [
        "print(len(model.layers))"
      ],
      "execution_count": 132,
      "outputs": [
        {
          "output_type": "stream",
          "name": "stdout",
          "text": [
            "7\n"
          ]
        }
      ]
    },
    {
      "cell_type": "markdown",
      "metadata": {
        "id": "WCYavUBvX5VY"
      },
      "source": [
        "각각 웨이트와 바이어스가 된다."
      ]
    },
    {
      "cell_type": "code",
      "metadata": {
        "id": "7CjhxVtqTgJe",
        "outputId": "2a78c957-f384-47d2-de4e-d87b65d68706",
        "colab": {
          "base_uri": "https://localhost:8080/"
        }
      },
      "source": [
        "for layer in model.layers:\n",
        "  if len(layer.get_weights()) !=0:\n",
        "    w,b=layer.get_weights()\n",
        "    print(w.shape,b.shape,'\\n')"
      ],
      "execution_count": 134,
      "outputs": [
        {
          "output_type": "stream",
          "name": "stdout",
          "text": [
            "(5, 5, 1, 8) (8,) \n",
            "\n",
            "(5, 5, 8, 32) (32,) \n",
            "\n",
            "(1568, 64) (64,) \n",
            "\n",
            "(64, 10) (10,) \n",
            "\n"
          ]
        }
      ]
    },
    {
      "cell_type": "code",
      "metadata": {
        "id": "1X4p_KbZTq_M",
        "outputId": "e9e02710-660f-49f0-812d-3b9b52e4336c",
        "colab": {
          "base_uri": "https://localhost:8080/"
        }
      },
      "source": [
        "class CNN_Model(Model):\n",
        "  def __init__(self):\n",
        "    super(CNN_Model,self).__init__()\n",
        "\n",
        "    #feature extractor\n",
        "    self.fe=Sequential(name='feature_extractor')\n",
        "    self.fe.add(Conv2D(filters=8, kernel_size=5,padding='same',activation='relu'))\n",
        "    self.fe.add(MaxPooling2D(pool_size=2,strides=2))\n",
        "    self.fe.add(Conv2D(filters=32,kernel_size=5,padding='same',activation='relu'))\n",
        "    self.fe.add(MaxPooling2D(pool_size=2,strides=2))\n",
        "    \n",
        "    #classifier\n",
        "    self.classifier=Sequential(name='classifier')\n",
        "    self.classifier.add(Flatten())\n",
        "    self.classifier.add(Dense(units=64,activation='relu'))\n",
        "    self.classifier.add(Dense(units=10,activation='softmax'))\n",
        "  \n",
        "  def call(self,x):\n",
        "    x=self.fe(x)\n",
        "    x=self.classifier(x)\n",
        "    return x \n",
        "\n",
        "model=CNN_Model()\n",
        "model.build(input_shape=(None,28,28,1))\n",
        "model.summary()"
      ],
      "execution_count": 137,
      "outputs": [
        {
          "output_type": "stream",
          "name": "stdout",
          "text": [
            "Model: \"cnn__model_14\"\n",
            "_________________________________________________________________\n",
            "Layer (type)                 Output Shape              Param #   \n",
            "=================================================================\n",
            "sequential_6 (Sequential)    (None, 7, 7, 32)          6640      \n",
            "_________________________________________________________________\n",
            "sequential_7 (Sequential)    (None, 10)                101066    \n",
            "=================================================================\n",
            "Total params: 107,706\n",
            "Trainable params: 107,706\n",
            "Non-trainable params: 0\n",
            "_________________________________________________________________\n"
          ]
        }
      ]
    },
    {
      "cell_type": "code",
      "metadata": {
        "id": "OEpjmUjnYwFc",
        "outputId": "a90c1e0c-edb5-4ff1-b596-037cfb8a953e",
        "colab": {
          "base_uri": "https://localhost:8080/"
        }
      },
      "source": [
        "class ConvLayer(Layer):\n",
        "  def __init__(selffilters):\n",
        "    super(ConvLayer,self).__init__()\n",
        "    self.conv=Conv2D(filters=filters,kernel_size=3,paddoing='same')\n",
        "    self.conv_act=Activation('relu')\n",
        "    self.conv_pool=MaxPooling2D(pool_size=2,strides=2)\n",
        "\n",
        "  def call(self,x):\n",
        "    x=self.conv(x)\n",
        "    x=self.conv_act(x)\n",
        "    x=self.conv_pool(x)\n",
        "    return x\n",
        "\n",
        "class CNN_Mode(Model):\n",
        "  def __init__(self):\n",
        "    super(CNN_Model,self).__init__()\n",
        "    self.conv1=ConvLayer(8)\n",
        "    self.conv2=ConvLayer(16)\n",
        "    self.conv3=ConvLayer(32)\n",
        "  \n",
        "  def call(self,x):\n",
        "    x=self.conv1(x)\n",
        "    x=self.conv2(x)\n",
        "    x=self.conv3(x)\n",
        "\n",
        "    x=self.flatten(x)\n",
        "    x=self.dense1(x)\n",
        "    x=self.dense2(x)\n",
        "    return x\n",
        "  \n",
        "model=CNN_Model()\n",
        "model.build(input_shape=(None,28,28,1))\n",
        "model.summary()"
      ],
      "execution_count": 141,
      "outputs": [
        {
          "output_type": "stream",
          "name": "stdout",
          "text": [
            "Model: \"cnn__model_16\"\n",
            "_________________________________________________________________\n",
            "Layer (type)                 Output Shape              Param #   \n",
            "=================================================================\n",
            "sequential_10 (Sequential)   (None, 7, 7, 32)          6640      \n",
            "_________________________________________________________________\n",
            "sequential_11 (Sequential)   (None, 10)                101066    \n",
            "=================================================================\n",
            "Total params: 107,706\n",
            "Trainable params: 107,706\n",
            "Non-trainable params: 0\n",
            "_________________________________________________________________\n"
          ]
        }
      ]
    },
    {
      "cell_type": "code",
      "metadata": {
        "id": "sRU2g75PcZV2"
      },
      "source": [
        ""
      ],
      "execution_count": null,
      "outputs": []
    }
  ]
}