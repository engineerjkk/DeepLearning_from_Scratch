{
  "nbformat": 4,
  "nbformat_minor": 0,
  "metadata": {
    "colab": {
      "name": "conv and pooling layer",
      "provenance": [],
      "authorship_tag": "ABX9TyPpzhj4mAuZP2l14IcooWsp",
      "include_colab_link": true
    },
    "kernelspec": {
      "name": "python3",
      "display_name": "Python 3"
    },
    "language_info": {
      "name": "python"
    }
  },
  "cells": [
    {
      "cell_type": "markdown",
      "metadata": {
        "id": "view-in-github",
        "colab_type": "text"
      },
      "source": [
        "<a href=\"https://colab.research.google.com/github/engineerjkk/DeepLearning_from_Scratch/blob/main/conv_and_pooling_layer.ipynb\" target=\"_parent\"><img src=\"https://colab.research.google.com/assets/colab-badge.svg\" alt=\"Open In Colab\"/></a>"
      ]
    },
    {
      "cell_type": "code",
      "metadata": {
        "id": "xZooRg4Qu6gt"
      },
      "source": [
        "from termcolor import colored"
      ],
      "execution_count": 1,
      "outputs": []
    },
    {
      "cell_type": "code",
      "metadata": {
        "id": "8L9uQQIhvGaL"
      },
      "source": [
        "import tensorflow as tf\n",
        "from tensorflow.keras.layers import Conv2D, MaxPooling2D, AveragePooling2D"
      ],
      "execution_count": 3,
      "outputs": []
    },
    {
      "cell_type": "code",
      "metadata": {
        "id": "PILBYYv4vLKS"
      },
      "source": [
        "def p_color(input_string,input_object):\n",
        "  print(colored(input_string+':','magenta'))\n",
        "  print(colored('shape: ','cyan'),input_object.shape,'\\n')"
      ],
      "execution_count": 4,
      "outputs": []
    },
    {
      "cell_type": "markdown",
      "metadata": {
        "id": "Hae-B2pMvjkl"
      },
      "source": [
        "50 by 50의 그레이 스케일 이미지를 생성"
      ]
    },
    {
      "cell_type": "code",
      "metadata": {
        "id": "4QSjntLWvd4r"
      },
      "source": [
        "test_image=tf.random.normal(mean=0,stddev=1,shape=(1,50,50,50,1))"
      ],
      "execution_count": 5,
      "outputs": []
    },
    {
      "cell_type": "code",
      "metadata": {
        "colab": {
          "base_uri": "https://localhost:8080/"
        },
        "id": "LCXVEmSWvnWb",
        "outputId": "d7cd83b9-8048-4bb4-c8d9-f4ab3a99b7ff"
      },
      "source": [
        "conv=Conv2D(filters=1,kernel_size=3,strides=1,padding='valid')\n",
        "conved=conv(test_image)\n",
        "\n",
        "p_color('input',test_image)\n",
        "p_color('after conv',conved)"
      ],
      "execution_count": 6,
      "outputs": [
        {
          "output_type": "stream",
          "name": "stdout",
          "text": [
            "\u001b[35minput:\u001b[0m\n",
            "\u001b[36mshape: \u001b[0m (1, 50, 50, 50, 1) \n",
            "\n",
            "\u001b[35mafter conv:\u001b[0m\n",
            "\u001b[36mshape: \u001b[0m (1, 50, 48, 48, 1) \n",
            "\n"
          ]
        }
      ]
    },
    {
      "cell_type": "code",
      "metadata": {
        "colab": {
          "base_uri": "https://localhost:8080/"
        },
        "id": "QbW4iK6av0R3",
        "outputId": "78d31183-3628-422d-b765-e3c02031ca89"
      },
      "source": [
        "p_color('conv weight',conv.get_weights()[0])#weight\n",
        "p_color('conv bias',conv.get_weights()[1]) #bias"
      ],
      "execution_count": 8,
      "outputs": [
        {
          "output_type": "stream",
          "name": "stdout",
          "text": [
            "\u001b[35mconv weight:\u001b[0m\n",
            "\u001b[36mshape: \u001b[0m (3, 3, 1, 1) \n",
            "\n",
            "\u001b[35mconv bias:\u001b[0m\n",
            "\u001b[36mshape: \u001b[0m (1,) \n",
            "\n"
          ]
        }
      ]
    },
    {
      "cell_type": "code",
      "metadata": {
        "id": "Hcl4uFaEwE9T"
      },
      "source": [
        "# %%"
      ],
      "execution_count": 9,
      "outputs": []
    },
    {
      "cell_type": "code",
      "metadata": {
        "colab": {
          "base_uri": "https://localhost:8080/"
        },
        "id": "9KBrzb0-yl5-",
        "outputId": "35a8faf4-a1d6-4bdb-f99a-27957e82ea73"
      },
      "source": [
        "test_image=tf.random.normal(mean=0,stddev=1,shape=(1,4,4,1))\n",
        "maxpool=MaxPooling2D(pool_size=2,strides=2)\n",
        "maxpooled=maxpool(test_image)\n",
        "\n",
        "p_color('input',test_image)\n",
        "p_color('after maxpool',maxpooled)"
      ],
      "execution_count": 10,
      "outputs": [
        {
          "output_type": "stream",
          "name": "stdout",
          "text": [
            "\u001b[35minput:\u001b[0m\n",
            "\u001b[36mshape: \u001b[0m (1, 4, 4, 1) \n",
            "\n",
            "\u001b[35mafter maxpool:\u001b[0m\n",
            "\u001b[36mshape: \u001b[0m (1, 2, 2, 1) \n",
            "\n"
          ]
        }
      ]
    },
    {
      "cell_type": "code",
      "metadata": {
        "id": "Xie8HVAXzKkZ"
      },
      "source": [
        "import cv2\n",
        "import matplotlib.pyplot as plt\n"
      ],
      "execution_count": 15,
      "outputs": []
    },
    {
      "cell_type": "markdown",
      "metadata": {
        "id": "VbVXfAbFzYk3"
      },
      "source": [
        "테스트 이미지"
      ]
    },
    {
      "cell_type": "code",
      "metadata": {
        "colab": {
          "base_uri": "https://localhost:8080/",
          "height": 398
        },
        "id": "yCzkS5VVy2oh",
        "outputId": "853973d9-70c6-4e02-b882-b90df44a3621"
      },
      "source": [
        "test_image.numpy().squeeze()\n",
        "cv2.cvtColor( test_image.numpy().squeeze(), cv2.COLOR_BGR2RGB)\n",
        "plt.imshow( test_image.numpy().squeeze())\n",
        "p_color('input',test_image)\n",
        "print( test_image.numpy().squeeze())"
      ],
      "execution_count": 25,
      "outputs": [
        {
          "output_type": "stream",
          "name": "stdout",
          "text": [
            "\u001b[35minput:\u001b[0m\n",
            "\u001b[36mshape: \u001b[0m (1, 4, 4, 1) \n",
            "\n",
            "[[-0.4126975  -0.22715317  1.1535974  -0.16786109]\n",
            " [-1.8070148   0.6800203   0.20824939 -1.4578717 ]\n",
            " [-1.2257807  -0.4560108   0.509548   -0.16023049]\n",
            " [-1.9775296  -1.3996936   0.0803608  -0.893739  ]]\n"
          ]
        },
        {
          "output_type": "display_data",
          "data": {
            "image/png": "[encoded data removed]",
            "text/plain": [
              "<Figure size 432x288 with 1 Axes>"
            ]
          },
          "metadata": {
            "needs_background": "light"
          }
        }
      ]
    },
    {
      "cell_type": "markdown",
      "metadata": {
        "id": "e3n6o1tzzaFF"
      },
      "source": [
        "맥스풀링 후"
      ]
    },
    {
      "cell_type": "code",
      "metadata": {
        "colab": {
          "base_uri": "https://localhost:8080/",
          "height": 361
        },
        "id": "VM9pXknzzDP8",
        "outputId": "dd86a718-1f2f-4a42-b5ea-ffed13b95fb7"
      },
      "source": [
        "cv2.cvtColor( maxpooled.numpy().squeeze(), cv2.COLOR_BGR2RGB)\n",
        "plt.imshow( maxpooled.numpy().squeeze())\n",
        "p_color('after maxpool',maxpooled)\n",
        "print( maxpooled.numpy().squeeze())"
      ],
      "execution_count": 24,
      "outputs": [
        {
          "output_type": "stream",
          "name": "stdout",
          "text": [
            "\u001b[35mafter maxpool:\u001b[0m\n",
            "\u001b[36mshape: \u001b[0m (1, 2, 2, 1) \n",
            "\n",
            "[[ 0.6800203  1.1535974]\n",
            " [-0.4560108  0.509548 ]]\n"
          ]
        },
        {
          "output_type": "display_data",
          "data": {
            "image/png": "[encoded data removed]",
            "text/plain": [
              "<Figure size 432x288 with 1 Axes>"
            ]
          },
          "metadata": {
            "needs_background": "light"
          }
        }
      ]
    },
    {
      "cell_type": "code",
      "metadata": {
        "id": "vnW33_4GzXGS"
      },
      "source": [
        "avgpool=AveragePooling2D(pool_size=2,strides=2)\n",
        "avgpooled=avgpool(test_image)"
      ],
      "execution_count": 20,
      "outputs": []
    },
    {
      "cell_type": "code",
      "metadata": {
        "colab": {
          "base_uri": "https://localhost:8080/",
          "height": 361
        },
        "id": "PtGExIyV0CRT",
        "outputId": "1bd450c6-d064-492b-ca86-a4da094b06d8"
      },
      "source": [
        "cv2.cvtColor( avgpooled.numpy().squeeze(), cv2.COLOR_BGR2RGB)\n",
        "plt.imshow( avgpooled.numpy().squeeze())\n",
        "p_color('after avgpooled',avgpooled)\n",
        "print(avgpooled.numpy().squeeze())"
      ],
      "execution_count": 23,
      "outputs": [
        {
          "output_type": "stream",
          "name": "stdout",
          "text": [
            "\u001b[35mafter avgpooled:\u001b[0m\n",
            "\u001b[36mshape: \u001b[0m (1, 2, 2, 1) \n",
            "\n",
            "[[-0.4417113  -0.06597149]\n",
            " [-1.2647537  -0.11601517]]\n"
          ]
        },
        {
          "output_type": "display_data",
          "data": {
            "image/png": "[encoded data removed]",
            "text/plain": [
              "<Figure size 432x288 with 1 Axes>"
            ]
          },
          "metadata": {
            "needs_background": "light"
          }
        }
      ]
    },
    {
      "cell_type": "code",
      "metadata": {
        "id": "Xq76Hllp0GML"
      },
      "source": [
        "# %% 인티저로 바꿔보자"
      ],
      "execution_count": 26,
      "outputs": []
    },
    {
      "cell_type": "code",
      "metadata": {
        "colab": {
          "base_uri": "https://localhost:8080/"
        },
        "id": "huuBCxTX0y0w",
        "outputId": "5e15e066-31fd-4367-fee6-808cb4c644a8"
      },
      "source": [
        "test_image=tf.random.uniform(minval=0,maxval=10,shape=(1,4,4,3),dtype=tf.int32)\n",
        "maxpool=MaxPooling2D(pool_size=2,strides=2)\n",
        "maxpooled=maxpool(test_image)\n",
        "\n",
        "print(test_image.numpy().squeeze(),'\\n')\n",
        "print(maxpooled.numpy().squeeze(),'\\n')"
      ],
      "execution_count": 39,
      "outputs": [
        {
          "output_type": "stream",
          "name": "stdout",
          "text": [
            "[[[0 9 5]\n",
            "  [6 8 5]\n",
            "  [5 9 4]\n",
            "  [5 9 7]]\n",
            "\n",
            " [[2 0 4]\n",
            "  [9 7 7]\n",
            "  [5 1 9]\n",
            "  [1 3 2]]\n",
            "\n",
            " [[2 4 8]\n",
            "  [0 9 1]\n",
            "  [0 2 4]\n",
            "  [3 2 6]]\n",
            "\n",
            " [[6 0 8]\n",
            "  [0 3 9]\n",
            "  [3 8 4]\n",
            "  [0 4 2]]] \n",
            "\n",
            "[[[9 9 7]\n",
            "  [5 9 9]]\n",
            "\n",
            " [[6 9 9]\n",
            "  [3 8 6]]] \n",
            "\n"
          ]
        }
      ]
    },
    {
      "cell_type": "code",
      "metadata": {
        "colab": {
          "base_uri": "https://localhost:8080/",
          "height": 710
        },
        "id": "X11kJA3V1Gk4",
        "outputId": "8f61c8b3-d6f1-49c0-e128-ff1200096a05"
      },
      "source": [
        "for channel_idx in range(3):\n",
        "  print('input_channel {}:\\n'.format(channel_idx),test_image[...,channel_idx].numpy().squeeze())\n",
        "  #cv2.cvtColor( test_image.numpy().squeeze(), cv2.COLOR_BGR2RGB)\n",
        "  plt.imshow( test_image[...,channel_idx].numpy().squeeze())\n",
        "  print('maxpool_channel {}:\\n'.format(channel_idx),maxpooled[...,channel_idx].numpy().squeeze())\n",
        "  #cv2.cvtColor( maxpooled.numpy().squeeze(), cv2.COLOR_BGR2RGB)\n",
        "  plt.imshow( maxpooled[...,channel_idx].numpy().squeeze())"
      ],
      "execution_count": 44,
      "outputs": [
        {
          "output_type": "stream",
          "name": "stdout",
          "text": [
            "input_channel 0:\n",
            " [[0 6 5 5]\n",
            " [2 9 5 1]\n",
            " [2 0 0 3]\n",
            " [6 0 3 0]]\n",
            "maxpool_channel 0:\n",
            " [[9 5]\n",
            " [6 3]]\n",
            "input_channel 1:\n",
            " [[9 8 9 9]\n",
            " [0 7 1 3]\n",
            " [4 9 2 2]\n",
            " [0 3 8 4]]\n",
            "maxpool_channel 1:\n",
            " [[9 9]\n",
            " [9 8]]\n",
            "input_channel 2:\n",
            " [[5 5 4 7]\n",
            " [4 7 9 2]\n",
            " [8 1 4 6]\n",
            " [8 9 4 2]]\n",
            "maxpool_channel 2:\n",
            " [[7 9]\n",
            " [9 6]]\n"
          ]
        },
        {
          "output_type": "display_data",
          "data": {
            "image/png": "[encoded data removed]",
            "text/plain": [
              "<Figure size 432x288 with 1 Axes>"
            ]
          },
          "metadata": {
            "needs_background": "light"
          }
        }
      ]
    },
    {
      "cell_type": "code",
      "metadata": {
        "id": "F2dF0Pkv2S9f"
      },
      "source": [
        ""
      ],
      "execution_count": null,
      "outputs": []
    }
  ]
}