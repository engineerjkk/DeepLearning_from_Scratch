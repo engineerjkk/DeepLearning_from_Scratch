{
  "nbformat": 4,
  "nbformat_minor": 0,
  "metadata": {
    "kernelspec": {
      "display_name": "Python 3",
      "language": "python",
      "name": "python3"
    },
    "language_info": {
      "codemirror_mode": {
        "name": "ipython",
        "version": 3
      },
      "file_extension": ".py",
      "mimetype": "text/x-python",
      "name": "python",
      "nbconvert_exporter": "python",
      "pygments_lexer": "ipython3",
      "version": "3.7.3"
    },
    "colab": {
      "name": "Final_LeNet",
      "provenance": [],
      "include_colab_link": true
    }
  },
  "cells": [
    {
      "cell_type": "markdown",
      "metadata": {
        "id": "view-in-github",
        "colab_type": "text"
      },
      "source": [
        "<a href=\"https://colab.research.google.com/github/engineerjkk/DeepLearning_from_Scratch/blob/main/Final_LeNet.ipynb\" target=\"_parent\"><img src=\"https://colab.research.google.com/assets/colab-badge.svg\" alt=\"Open In Colab\"/></a>"
      ]
    },
    {
      "cell_type": "markdown",
      "metadata": {
        "id": "zksuYKq1K33v"
      },
      "source": [
        "# Layer Explaination"
      ]
    },
    {
      "cell_type": "code",
      "metadata": {
        "id": "wmyE3WMyK33x"
      },
      "source": [
        "import tensorflow as tf"
      ],
      "execution_count": 15,
      "outputs": []
    },
    {
      "cell_type": "markdown",
      "metadata": {
        "id": "DSRSn0VfK33y"
      },
      "source": [
        "## Input Image  \n",
        "Input으로 들어갈 DataSet을 들여다보면서 시각화까지"
      ]
    },
    {
      "cell_type": "markdown",
      "metadata": {
        "id": "iH2CnbjoK33y"
      },
      "source": [
        "패키지 로드  \n",
        "- os\n",
        "- glob\n",
        "- matplotlib"
      ]
    },
    {
      "cell_type": "code",
      "metadata": {
        "id": "KRU3-pHxK33y"
      },
      "source": [
        "import os\n",
        "\n",
        "import matplotlib.pyplot as plt\n",
        "%matplotlib inline"
      ],
      "execution_count": 16,
      "outputs": []
    },
    {
      "cell_type": "code",
      "metadata": {
        "id": "c77rJ-G_K33z"
      },
      "source": [
        "from tensorflow.keras import datasets\n",
        "\n",
        "(train_x, train_y), (test_x, test_y) = datasets.mnist.load_data()"
      ],
      "execution_count": 17,
      "outputs": []
    },
    {
      "cell_type": "code",
      "metadata": {
        "id": "L4Zn-kTfK33z"
      },
      "source": [
        "image = train_x[0]"
      ],
      "execution_count": 18,
      "outputs": []
    },
    {
      "cell_type": "code",
      "metadata": {
        "colab": {
          "base_uri": "https://localhost:8080/"
        },
        "id": "6mjE_gmQK330",
        "outputId": "7b21a9ce-a48f-459b-e2f6-83c027f40ad7"
      },
      "source": [
        "# 이미지 shape 확인\n",
        "image.shape"
      ],
      "execution_count": 19,
      "outputs": [
        {
          "output_type": "execute_result",
          "data": {
            "text/plain": [
              "(28, 28)"
            ]
          },
          "metadata": {},
          "execution_count": 19
        }
      ]
    },
    {
      "cell_type": "markdown",
      "metadata": {
        "id": "5NZJDwQLK331"
      },
      "source": [
        "* 차원 수를 확인 \n",
        "* MNIST의 데이터는 [batch size,height,width,channel]=[60000,28,28,1] 이었습니다."
      ]
    },
    {
      "cell_type": "code",
      "metadata": {
        "colab": {
          "base_uri": "https://localhost:8080/",
          "height": 265
        },
        "id": "iUrPFoSYLfDF",
        "outputId": "c6c8f821-26cd-4673-976e-e70566740728"
      },
      "source": [
        "plt.imshow(image,'gray')\n",
        "plt.show()"
      ],
      "execution_count": 20,
      "outputs": [
        {
          "output_type": "display_data",
          "data": {
            "image/png": "[encoded data removed]",
            "text/plain": [
              "<Figure size 432x288 with 1 Axes>"
            ]
          },
          "metadata": {
            "needs_background": "light"
          }
        }
      ]
    },
    {
      "cell_type": "code",
      "metadata": {
        "id": "hQ0VaMrlK331"
      },
      "source": [
        "# 차원 수 높이기 \n",
        "image = image[tf.newaxis, ..., tf.newaxis]"
      ],
      "execution_count": 21,
      "outputs": []
    },
    {
      "cell_type": "code",
      "metadata": {
        "colab": {
          "base_uri": "https://localhost:8080/"
        },
        "id": "LdDI6JkiLs-H",
        "outputId": "38cfb93d-4540-4819-b2d8-f9c67ef065c9"
      },
      "source": [
        "image.shape"
      ],
      "execution_count": 22,
      "outputs": [
        {
          "output_type": "execute_result",
          "data": {
            "text/plain": [
              "(1, 28, 28, 1)"
            ]
          },
          "metadata": {},
          "execution_count": 22
        }
      ]
    },
    {
      "cell_type": "markdown",
      "metadata": {
        "id": "4la9fBdbK331"
      },
      "source": [
        "# Feature Extraction"
      ]
    },
    {
      "cell_type": "markdown",
      "metadata": {
        "id": "4OVdX-EGK331"
      },
      "source": [
        "## Convolution"
      ]
    },
    {
      "cell_type": "markdown",
      "metadata": {
        "id": "Ea8FqA0EK332"
      },
      "source": [
        "filters: layer에서 나갈 때 몇 개의 filter를 만들 것인지 (a.k.a weights, filters, channels)  \n",
        "kernel_size: filter(Weight)의 사이즈  \n",
        "strides: 몇 개의 pixel을 skip 하면서 훑어지나갈 것인지 (사이즈에도 영향을 줌)  \n",
        "padding: zero padding을 만들 것인지. VALID는 Padding이 없고, SAME은 Padding이 있음 (사이즈에도 영향을 줌)  \n",
        "activation: Activation Function을 만들것인지. 당장 설정 안해도 Layer층을 따로 만들 수 있음"
      ]
    },
    {
      "cell_type": "code",
      "metadata": {
        "id": "VlJb76M6M0iz"
      },
      "source": [
        ""
      ],
      "execution_count": 22,
      "outputs": []
    },
    {
      "cell_type": "markdown",
      "metadata": {
        "id": "C60eJZ0FM0_1"
      },
      "source": [
        "# 일부러 제로패딩을 주고 밑에 padding='VALID'로 하자\n",
        "- tf.keras.layers.Conv2D 내부구조를 분석하면 할 수 있을 듯??"
      ]
    },
    {
      "cell_type": "code",
      "metadata": {
        "colab": {
          "base_uri": "https://localhost:8080/"
        },
        "id": "mLf_f6m4K332",
        "outputId": "a6aef0f4-1983-4d96-f047-43cb68dd09ea"
      },
      "source": [
        "tf.keras.layers.Conv2D(filters=3, kernel_size=(3, 3), strides=(1, 1), padding='VALID', activation='relu')"
      ],
      "execution_count": 23,
      "outputs": [
        {
          "output_type": "execute_result",
          "data": {
            "text/plain": [
              "<keras.layers.convolutional.Conv2D at 0x7fc1c813af10>"
            ]
          },
          "metadata": {},
          "execution_count": 23
        }
      ]
    },
    {
      "cell_type": "markdown",
      "metadata": {
        "id": "Q2Zf2GWWK332"
      },
      "source": [
        "(3, 3) 대신에 3으로도 대체 가능"
      ]
    },
    {
      "cell_type": "code",
      "metadata": {
        "id": "ZLoW1CVGK333",
        "outputId": "9b8b5576-16e7-4afe-c905-f2350d75aa5b",
        "colab": {
          "base_uri": "https://localhost:8080/"
        }
      },
      "source": [
        "tf.keras.layers.Conv2D(filters=3, kernel_size=3, strides=(1, 1), padding='VALID', activation='relu')"
      ],
      "execution_count": 24,
      "outputs": [
        {
          "output_type": "execute_result",
          "data": {
            "text/plain": [
              "<keras.layers.convolutional.Conv2D at 0x7fc1c85be550>"
            ]
          },
          "metadata": {},
          "execution_count": 24
        }
      ]
    },
    {
      "cell_type": "markdown",
      "metadata": {
        "id": "4EYU5B3OK333"
      },
      "source": [
        "### Visualization"
      ]
    },
    {
      "cell_type": "markdown",
      "metadata": {
        "id": "_eb6dBdtK333"
      },
      "source": [
        "- tf.keras.layers.Conv2D\n",
        "- integer의 경우 모델에 들어가면 에러가나므로 float32로 변경해준다."
      ]
    },
    {
      "cell_type": "code",
      "metadata": {
        "id": "NGeVVB_xK333"
      },
      "source": [
        "image = tf.cast(image, dtype=tf.float32)"
      ],
      "execution_count": 25,
      "outputs": []
    },
    {
      "cell_type": "code",
      "metadata": {
        "id": "fZV3c-0YK334"
      },
      "source": [
        "layer = tf.keras.layers.Conv2D(5, 3, strides=(1, 1), padding='SAME')\n",
        "output = layer(image)"
      ],
      "execution_count": 26,
      "outputs": []
    },
    {
      "cell_type": "code",
      "metadata": {
        "colab": {
          "base_uri": "https://localhost:8080/"
        },
        "id": "aF9eI5AvNn9A",
        "outputId": "71107e4e-30a3-490e-ad7d-92ca1cd56423"
      },
      "source": [
        "output"
      ],
      "execution_count": 27,
      "outputs": [
        {
          "output_type": "execute_result",
          "data": {
            "text/plain": [
              "<tf.Tensor: shape=(1, 28, 28, 5), dtype=float32, numpy=\n",
              "array([[[[0., 0., 0., 0., 0.],\n",
              "         [0., 0., 0., 0., 0.],\n",
              "         [0., 0., 0., 0., 0.],\n",
              "         ...,\n",
              "         [0., 0., 0., 0., 0.],\n",
              "         [0., 0., 0., 0., 0.],\n",
              "         [0., 0., 0., 0., 0.]],\n",
              "\n",
              "        [[0., 0., 0., 0., 0.],\n",
              "         [0., 0., 0., 0., 0.],\n",
              "         [0., 0., 0., 0., 0.],\n",
              "         ...,\n",
              "         [0., 0., 0., 0., 0.],\n",
              "         [0., 0., 0., 0., 0.],\n",
              "         [0., 0., 0., 0., 0.]],\n",
              "\n",
              "        [[0., 0., 0., 0., 0.],\n",
              "         [0., 0., 0., 0., 0.],\n",
              "         [0., 0., 0., 0., 0.],\n",
              "         ...,\n",
              "         [0., 0., 0., 0., 0.],\n",
              "         [0., 0., 0., 0., 0.],\n",
              "         [0., 0., 0., 0., 0.]],\n",
              "\n",
              "        ...,\n",
              "\n",
              "        [[0., 0., 0., 0., 0.],\n",
              "         [0., 0., 0., 0., 0.],\n",
              "         [0., 0., 0., 0., 0.],\n",
              "         ...,\n",
              "         [0., 0., 0., 0., 0.],\n",
              "         [0., 0., 0., 0., 0.],\n",
              "         [0., 0., 0., 0., 0.]],\n",
              "\n",
              "        [[0., 0., 0., 0., 0.],\n",
              "         [0., 0., 0., 0., 0.],\n",
              "         [0., 0., 0., 0., 0.],\n",
              "         ...,\n",
              "         [0., 0., 0., 0., 0.],\n",
              "         [0., 0., 0., 0., 0.],\n",
              "         [0., 0., 0., 0., 0.]],\n",
              "\n",
              "        [[0., 0., 0., 0., 0.],\n",
              "         [0., 0., 0., 0., 0.],\n",
              "         [0., 0., 0., 0., 0.],\n",
              "         ...,\n",
              "         [0., 0., 0., 0., 0.],\n",
              "         [0., 0., 0., 0., 0.],\n",
              "         [0., 0., 0., 0., 0.]]]], dtype=float32)>"
            ]
          },
          "metadata": {},
          "execution_count": 27
        }
      ]
    },
    {
      "cell_type": "code",
      "metadata": {
        "colab": {
          "base_uri": "https://localhost:8080/"
        },
        "id": "Qnc46BucOIlK",
        "outputId": "3f9e1e55-8468-493e-c4be-841b8d92412e"
      },
      "source": [
        "import numpy as np\n",
        "np.min(image),np.max(image)"
      ],
      "execution_count": 28,
      "outputs": [
        {
          "output_type": "execute_result",
          "data": {
            "text/plain": [
              "(0.0, 255.0)"
            ]
          },
          "metadata": {},
          "execution_count": 28
        }
      ]
    },
    {
      "cell_type": "code",
      "metadata": {
        "colab": {
          "base_uri": "https://localhost:8080/"
        },
        "id": "oopN7j4lOMbr",
        "outputId": "444d9518-b33d-486d-c40b-bc431003b311"
      },
      "source": [
        "np.min(output),np.max(output)"
      ],
      "execution_count": 29,
      "outputs": [
        {
          "output_type": "execute_result",
          "data": {
            "text/plain": [
              "(-298.76895, 234.79303)"
            ]
          },
          "metadata": {},
          "execution_count": 29
        }
      ]
    },
    {
      "cell_type": "code",
      "metadata": {
        "colab": {
          "base_uri": "https://localhost:8080/"
        },
        "id": "T4pJkL6NQWcU",
        "outputId": "d1f540b3-7c0a-4dad-b24c-1ba5f96489c1"
      },
      "source": [
        "output.shape"
      ],
      "execution_count": 30,
      "outputs": [
        {
          "output_type": "execute_result",
          "data": {
            "text/plain": [
              "TensorShape([1, 28, 28, 5])"
            ]
          },
          "metadata": {},
          "execution_count": 30
        }
      ]
    },
    {
      "cell_type": "code",
      "metadata": {
        "colab": {
          "base_uri": "https://localhost:8080/",
          "height": 201
        },
        "id": "jCy049lfNzPw",
        "outputId": "63322072-5227-4d66-ba21-db779ac120ad"
      },
      "source": [
        "plt.subplot(1,2,1)\n",
        "plt.imshow(image[0,:,:,0],'gray')\n",
        "plt.subplot(1,2,2)\n",
        "plt.imshow(output[0,:,:,0],'gray')\n",
        "plt.show()"
      ],
      "execution_count": 31,
      "outputs": [
        {
          "output_type": "display_data",
          "data": {
            "image/png": "[encoded data removed]",
            "text/plain": [
              "<Figure size 432x288 with 2 Axes>"
            ]
          },
          "metadata": {
            "needs_background": "light"
          }
        }
      ]
    },
    {
      "cell_type": "markdown",
      "metadata": {
        "id": "7dWWcwj_K334"
      },
      "source": [
        "weight 불러오기\n",
        "\n",
        "- layer.get_weights()"
      ]
    },
    {
      "cell_type": "markdown",
      "metadata": {
        "id": "42MQWWOJPvRZ"
      },
      "source": [
        "앞에는 weight, 뒤에는 bias이다."
      ]
    },
    {
      "cell_type": "code",
      "metadata": {
        "colab": {
          "base_uri": "https://localhost:8080/"
        },
        "id": "dg-f3V_JPq11",
        "outputId": "573cba3c-3a0d-46dd-b649-e1f478b8eed6"
      },
      "source": [
        "weight=layer.get_weights()\n",
        "len(weight)"
      ],
      "execution_count": 32,
      "outputs": [
        {
          "output_type": "execute_result",
          "data": {
            "text/plain": [
              "2"
            ]
          },
          "metadata": {},
          "execution_count": 32
        }
      ]
    },
    {
      "cell_type": "code",
      "metadata": {
        "colab": {
          "base_uri": "https://localhost:8080/"
        },
        "id": "V4ZDgkzYP1AN",
        "outputId": "d3bf2348-190b-4ee2-a89b-a853b3c4fee0"
      },
      "source": [
        "weight[0].shape,weight[1].shape"
      ],
      "execution_count": 33,
      "outputs": [
        {
          "output_type": "execute_result",
          "data": {
            "text/plain": [
              "((3, 3, 1, 5), (5,))"
            ]
          },
          "metadata": {},
          "execution_count": 33
        }
      ]
    },
    {
      "cell_type": "markdown",
      "metadata": {
        "id": "1ZIQjXhdRFAn"
      },
      "source": [
        "# 필터 시각화하기"
      ]
    },
    {
      "cell_type": "code",
      "metadata": {
        "colab": {
          "base_uri": "https://localhost:8080/"
        },
        "id": "BfrREX3GP5SJ",
        "outputId": "0dd93207-bb51-4f52-86b2-3da83497014a"
      },
      "source": [
        "weight[0].shape"
      ],
      "execution_count": 34,
      "outputs": [
        {
          "output_type": "execute_result",
          "data": {
            "text/plain": [
              "(3, 3, 1, 5)"
            ]
          },
          "metadata": {},
          "execution_count": 34
        }
      ]
    },
    {
      "cell_type": "code",
      "metadata": {
        "colab": {
          "base_uri": "https://localhost:8080/",
          "height": 265
        },
        "id": "OPmMwtuySI17",
        "outputId": "795b1b91-f363-4410-8f9f-558bcc696aa7"
      },
      "source": [
        "plt.imshow(image[0,:,:,0],'gray')\n",
        "plt.show()"
      ],
      "execution_count": 35,
      "outputs": [
        {
          "output_type": "display_data",
          "data": {
            "image/png": "[encoded data removed]",
            "text/plain": [
              "<Figure size 432x288 with 1 Axes>"
            ]
          },
          "metadata": {
            "needs_background": "light"
          }
        }
      ]
    },
    {
      "cell_type": "code",
      "metadata": {
        "colab": {
          "base_uri": "https://localhost:8080/",
          "height": 324
        },
        "id": "-QIRdLqnRL2h",
        "outputId": "b4bc67d5-1c86-482e-9e5c-8aaabecc9ace"
      },
      "source": [
        "plt.figure(figsize=(15,5))\n",
        "plt.subplot(131)\n",
        "plt.hist(output.numpy().ravel(), range=[-2,2])\n",
        "plt.ylim(0, 100)\n",
        "plt.subplot(132)\n",
        "plt.title(weight[0].shape)\n",
        "plt.imshow(weight[0][:,:,0,0], 'gray')\n",
        "plt.subplot(133)\n",
        "plt.title(output.shape)\n",
        "plt.imshow(output[0,:,:,0], 'gray')\n",
        "plt.colorbar()\n",
        "plt.show()"
      ],
      "execution_count": 36,
      "outputs": [
        {
          "output_type": "display_data",
          "data": {
            "image/png": "[encoded data removed]",
            "text/plain": [
              "<Figure size 1080x360 with 4 Axes>"
            ]
          },
          "metadata": {
            "needs_background": "light"
          }
        }
      ]
    },
    {
      "cell_type": "markdown",
      "metadata": {
        "id": "nOjFkYxGK334"
      },
      "source": [
        "## Activation Function"
      ]
    },
    {
      "cell_type": "code",
      "metadata": {
        "colab": {
          "base_uri": "https://localhost:8080/"
        },
        "id": "YeGH-LjqSx3Y",
        "outputId": "38db5783-0d9c-4133-908d-6318d6cb9d59"
      },
      "source": [
        "tf.keras.layers.ReLU()"
      ],
      "execution_count": 37,
      "outputs": [
        {
          "output_type": "execute_result",
          "data": {
            "text/plain": [
              "<keras.layers.advanced_activations.ReLU at 0x7fc1c4043f50>"
            ]
          },
          "metadata": {},
          "execution_count": 37
        }
      ]
    },
    {
      "cell_type": "code",
      "metadata": {
        "id": "ctTYFMCCS0tC"
      },
      "source": [
        "act_layer = tf.keras.layers.ReLU()\n",
        "act_output = act_layer(output)"
      ],
      "execution_count": 38,
      "outputs": []
    },
    {
      "cell_type": "code",
      "metadata": {
        "colab": {
          "base_uri": "https://localhost:8080/"
        },
        "id": "xkRFCvs-S2dU",
        "outputId": "2c156ca4-1cef-41d0-a054-5857e52e166f"
      },
      "source": [
        "output.shape"
      ],
      "execution_count": 39,
      "outputs": [
        {
          "output_type": "execute_result",
          "data": {
            "text/plain": [
              "TensorShape([1, 28, 28, 5])"
            ]
          },
          "metadata": {},
          "execution_count": 39
        }
      ]
    },
    {
      "cell_type": "code",
      "metadata": {
        "colab": {
          "base_uri": "https://localhost:8080/"
        },
        "id": "PtpjS7KsS364",
        "outputId": "6de90694-4f57-4311-fc00-0c39b8a80a09"
      },
      "source": [
        "act_output.shape"
      ],
      "execution_count": 40,
      "outputs": [
        {
          "output_type": "execute_result",
          "data": {
            "text/plain": [
              "TensorShape([1, 28, 28, 5])"
            ]
          },
          "metadata": {},
          "execution_count": 40
        }
      ]
    },
    {
      "cell_type": "code",
      "metadata": {
        "colab": {
          "base_uri": "https://localhost:8080/"
        },
        "id": "Yapj0Y5CS49k",
        "outputId": "8c6a7190-8b63-48f7-e9ca-c4d904e625ba"
      },
      "source": [
        "np.min(output), np.max(output)"
      ],
      "execution_count": 41,
      "outputs": [
        {
          "output_type": "execute_result",
          "data": {
            "text/plain": [
              "(-298.76895, 234.79303)"
            ]
          },
          "metadata": {},
          "execution_count": 41
        }
      ]
    },
    {
      "cell_type": "code",
      "metadata": {
        "colab": {
          "base_uri": "https://localhost:8080/"
        },
        "id": "kdHehYddS6eE",
        "outputId": "50885b5c-210b-4e9b-bb6a-8a37699121ff"
      },
      "source": [
        "np.min(act_output), np.max(act_output)"
      ],
      "execution_count": 42,
      "outputs": [
        {
          "output_type": "execute_result",
          "data": {
            "text/plain": [
              "(0.0, 234.79303)"
            ]
          },
          "metadata": {},
          "execution_count": 42
        }
      ]
    },
    {
      "cell_type": "markdown",
      "metadata": {
        "id": "JuXexPivTJFN"
      },
      "source": [
        "activation을 ReLU를 썼기 때문에 텐서를 받으면 0 미만값은 다 죽여버린다."
      ]
    },
    {
      "cell_type": "markdown",
      "metadata": {
        "id": "aGepSov6Tx00"
      },
      "source": [
        "# 따라서 각 필터연산된 feature map을 모두 연산한 뒤에 다음레이어에 들어갈때 그 matrix에 activation function을 각 픽셀마다 곱해 연산해주는 것이다.\n",
        "![image.png](data:image/png;base64,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)"
      ]
    },
    {
      "cell_type": "code",
      "metadata": {
        "colab": {
          "base_uri": "https://localhost:8080/",
          "height": 336
        },
        "id": "cwaVIXFES8AX",
        "outputId": "206fb144-da43-4022-bc23-fd6c47e9a0e2"
      },
      "source": [
        "plt.figure(figsize=(15,5))\n",
        "plt.subplot(121)\n",
        "plt.hist(act_output.numpy().ravel(), range=[-2,2])\n",
        "plt.ylim(0,100)\n",
        "\n",
        "plt.subplot(122)\n",
        "plt.title(act_output.shape)\n",
        "plt.imshow(act_output[0, :, :, 0], 'gray')\n",
        "plt.show()"
      ],
      "execution_count": 43,
      "outputs": [
        {
          "output_type": "display_data",
          "data": {
            "image/png": "[encoded data removed]",
            "text/plain": [
              "<Figure size 1080x360 with 2 Axes>"
            ]
          },
          "metadata": {
            "needs_background": "light"
          }
        }
      ]
    },
    {
      "cell_type": "code",
      "metadata": {
        "id": "K7T6S62yK335"
      },
      "source": [
        "# out = tf.keras.layers.Conv2D(3, 3, strides=(1, 1), padding='SAME')(out)\n",
        "layer = tf.keras.layers.ReLU()\n",
        "output = layer(output)"
      ],
      "execution_count": 44,
      "outputs": []
    },
    {
      "cell_type": "code",
      "metadata": {
        "scrolled": true,
        "colab": {
          "base_uri": "https://localhost:8080/",
          "height": 324
        },
        "id": "reTIaoZYK335",
        "outputId": "946efdb1-fd7e-454d-f33a-10cacf1f8f3a"
      },
      "source": [
        "plt.figure(figsize=(15, 5))\n",
        "plt.subplot(131)\n",
        "plt.hist(output.numpy().ravel(), range=[-2,2])\n",
        "plt.ylim(0, 500)\n",
        "plt.subplot(132)\n",
        "plt.title(output.shape)\n",
        "plt.imshow(output[0, :, :, 0], 'gray')\n",
        "plt.colorbar()\n",
        "plt.show()"
      ],
      "execution_count": 45,
      "outputs": [
        {
          "output_type": "display_data",
          "data": {
            "image/png": "[encoded data removed]",
            "text/plain": [
              "<Figure size 1080x360 with 3 Axes>"
            ]
          },
          "metadata": {
            "needs_background": "light"
          }
        }
      ]
    },
    {
      "cell_type": "markdown",
      "metadata": {
        "id": "4dHVTy-wK335"
      },
      "source": [
        "## Pooling"
      ]
    },
    {
      "cell_type": "markdown",
      "metadata": {
        "id": "pC1aiBfOK335"
      },
      "source": [
        "![image.png](attachment:image.png)"
      ]
    },
    {
      "cell_type": "markdown",
      "metadata": {
        "id": "DSTo0nzsK335"
      },
      "source": [
        "- tf.keras.layers.MaxPool2D"
      ]
    },
    {
      "cell_type": "code",
      "metadata": {
        "id": "SU-aO1bxK336",
        "outputId": "2b7b4b39-31fe-4137-a3bd-e4493850ff81",
        "colab": {
          "base_uri": "https://localhost:8080/"
        }
      },
      "source": [
        "tf.keras.layers.MaxPool2D(pool_size=(2, 2), strides=(2, 2), padding='SAME')"
      ],
      "execution_count": 46,
      "outputs": [
        {
          "output_type": "execute_result",
          "data": {
            "text/plain": [
              "<keras.layers.pooling.MaxPooling2D at 0x7fc1c3df5450>"
            ]
          },
          "metadata": {},
          "execution_count": 46
        }
      ]
    },
    {
      "cell_type": "code",
      "metadata": {
        "id": "vpcUPjOWK336"
      },
      "source": [
        "layer = tf.keras.layers.MaxPool2D(pool_size=(2, 2), strides=(2, 2), padding='SAME')\n",
        "output = layer(output)"
      ],
      "execution_count": 47,
      "outputs": []
    },
    {
      "cell_type": "code",
      "metadata": {
        "id": "Ia17OWGEK336",
        "outputId": "0861de94-ec1f-48b8-8d89-9a33c0375e53",
        "colab": {
          "base_uri": "https://localhost:8080/",
          "height": 324
        }
      },
      "source": [
        "plt.figure(figsize=(15, 5))\n",
        "plt.subplot(131)\n",
        "plt.hist(output.numpy().ravel(), range=[-2,2])\n",
        "plt.ylim(0, 500)\n",
        "plt.subplot(132)\n",
        "plt.title(output.shape)\n",
        "plt.imshow(output[0, :, :, 0], 'gray')\n",
        "plt.colorbar()\n",
        "plt.show()"
      ],
      "execution_count": 48,
      "outputs": [
        {
          "output_type": "display_data",
          "data": {
            "image/png": "[encoded data removed]",
            "text/plain": [
              "<Figure size 1080x360 with 3 Axes>"
            ]
          },
          "metadata": {
            "needs_background": "light"
          }
        }
      ]
    },
    {
      "cell_type": "markdown",
      "metadata": {
        "id": "D29SFlfXfy7s"
      },
      "source": [
        "# 여기에 테이블 구조 CONVOLUTION 넣기!!!"
      ]
    },
    {
      "cell_type": "code",
      "metadata": {
        "id": "XJDxX3eOK336"
      },
      "source": [
        "layer = tf.keras.layers.MaxPool2D(pool_size=(2, 2), strides=(2, 2), padding='SAME')\n",
        "output = layer(output)"
      ],
      "execution_count": 49,
      "outputs": []
    },
    {
      "cell_type": "code",
      "metadata": {
        "id": "CsVR8SIeK337",
        "outputId": "9cb1de95-252c-49f8-fc2e-ba2d5c112bfb",
        "colab": {
          "base_uri": "https://localhost:8080/",
          "height": 324
        }
      },
      "source": [
        "plt.figure(figsize=(15, 5))\n",
        "plt.subplot(131)\n",
        "plt.hist(output.numpy().ravel(), range=[-2,2])\n",
        "plt.ylim(0, 100)\n",
        "plt.subplot(132)\n",
        "plt.title(output.shape)\n",
        "plt.imshow(output[0, :, :, 0], 'gray')\n",
        "plt.colorbar()\n",
        "plt.show()"
      ],
      "execution_count": 50,
      "outputs": [
        {
          "output_type": "display_data",
          "data": {
            "image/png": "[encoded data removed]",
            "text/plain": [
              "<Figure size 1080x360 with 3 Axes>"
            ]
          },
          "metadata": {
            "needs_background": "light"
          }
        }
      ]
    },
    {
      "cell_type": "markdown",
      "metadata": {
        "id": "7ixTUyQJK337"
      },
      "source": [
        "# Fully Connected"
      ]
    },
    {
      "cell_type": "markdown",
      "metadata": {
        "id": "gZTRZx3vK337"
      },
      "source": [
        "![image.png](attachment:image.png)"
      ]
    },
    {
      "cell_type": "markdown",
      "metadata": {
        "id": "o23JLh6IK337"
      },
      "source": [
        "## Flatten"
      ]
    },
    {
      "cell_type": "markdown",
      "metadata": {
        "id": "ZF95RYc8K337"
      },
      "source": [
        "![image.png](attachment:image.png)"
      ]
    },
    {
      "cell_type": "markdown",
      "metadata": {
        "id": "B3eom3_JK337"
      },
      "source": [
        "- tf.keras.layers.Flatten()"
      ]
    },
    {
      "cell_type": "code",
      "metadata": {
        "id": "hka_JA35K337",
        "outputId": "db012a82-ec17-420e-a3ca-3d5f009bd95b",
        "colab": {
          "base_uri": "https://localhost:8080/"
        }
      },
      "source": [
        "tf.keras.layers.Flatten()"
      ],
      "execution_count": 51,
      "outputs": [
        {
          "output_type": "execute_result",
          "data": {
            "text/plain": [
              "<keras.layers.core.Flatten at 0x7fc1c3d0bf90>"
            ]
          },
          "metadata": {},
          "execution_count": 51
        }
      ]
    },
    {
      "cell_type": "code",
      "metadata": {
        "id": "AdMfe_qyK338"
      },
      "source": [
        "layer = tf.keras.layers.Flatten()\n",
        "output = layer(output)"
      ],
      "execution_count": 52,
      "outputs": []
    },
    {
      "cell_type": "code",
      "metadata": {
        "id": "1akNO4O4K338",
        "outputId": "6b62828a-2d1f-4b60-b58a-0665e7346811",
        "colab": {
          "base_uri": "https://localhost:8080/",
          "height": 261
        }
      },
      "source": [
        "plt.figure(figsize=(10, 5))\n",
        "plt.subplot(211)\n",
        "plt.hist(output.numpy().ravel())\n",
        "plt.subplot(212)\n",
        "plt.imshow(output[:,:100])\n",
        "plt.show()"
      ],
      "execution_count": 53,
      "outputs": [
        {
          "output_type": "display_data",
          "data": {
            "image/png": "[encoded data removed]",
            "text/plain": [
              "<Figure size 720x360 with 2 Axes>"
            ]
          },
          "metadata": {
            "needs_background": "light"
          }
        }
      ]
    },
    {
      "cell_type": "markdown",
      "metadata": {
        "id": "0z3mJIMzbZVC"
      },
      "source": [
        "# 지금까지 input에 넣기 위해 펼치기만 했을 뿐"
      ]
    },
    {
      "cell_type": "markdown",
      "metadata": {
        "id": "_N5tptAaK339"
      },
      "source": [
        "## Dense"
      ]
    },
    {
      "cell_type": "markdown",
      "metadata": {
        "id": "LM82mOQ9K339"
      },
      "source": [
        "- tf.keras.layers.Dense"
      ]
    },
    {
      "cell_type": "markdown",
      "metadata": {
        "id": "JOseLV3ubmZN"
      },
      "source": [
        "# 내보낼 유닛 개수를 32개로 설정하고 이 32개와 모두 연결한다는 뜻이된다."
      ]
    },
    {
      "cell_type": "code",
      "metadata": {
        "id": "LBmTM1WsK339",
        "outputId": "dd7454c7-79ab-434c-ecbe-41d08f103d11",
        "colab": {
          "base_uri": "https://localhost:8080/"
        }
      },
      "source": [
        "tf.keras.layers.Dense(32, activation='relu')"
      ],
      "execution_count": 54,
      "outputs": [
        {
          "output_type": "execute_result",
          "data": {
            "text/plain": [
              "<keras.layers.core.Dense at 0x7fc1c3b13250>"
            ]
          },
          "metadata": {},
          "execution_count": 54
        }
      ]
    },
    {
      "cell_type": "code",
      "metadata": {
        "id": "cI9rkahlK339"
      },
      "source": [
        "layer = tf.keras.layers.Dense(32, activation='relu')\n",
        "output = layer(output)"
      ],
      "execution_count": 55,
      "outputs": []
    },
    {
      "cell_type": "code",
      "metadata": {
        "id": "k48aOss5b4BE"
      },
      "source": [
        "layer = tf.keras.layers.Dense(10, activation='relu')\n",
        "output = layer(output)"
      ],
      "execution_count": 57,
      "outputs": []
    },
    {
      "cell_type": "code",
      "metadata": {
        "id": "6zNOis59K339",
        "outputId": "d527f180-97ad-49c7-ea5a-30122640432d",
        "colab": {
          "base_uri": "https://localhost:8080/",
          "height": 286
        }
      },
      "source": [
        "plt.figure(figsize=(10, 5))\n",
        "plt.subplot(211)\n",
        "plt.hist(output.numpy().ravel())\n",
        "plt.subplot(212)\n",
        "plt.imshow(output[:,:100])\n",
        "plt.show()"
      ],
      "execution_count": 58,
      "outputs": [
        {
          "output_type": "display_data",
          "data": {
            "image/png": "[encoded data removed]",
            "text/plain": [
              "<Figure size 720x360 with 2 Axes>"
            ]
          },
          "metadata": {
            "needs_background": "light"
          }
        }
      ]
    },
    {
      "cell_type": "markdown",
      "metadata": {
        "id": "R5l-O9fVK33-"
      },
      "source": [
        "## DropOut"
      ]
    },
    {
      "cell_type": "markdown",
      "metadata": {
        "id": "eAxSiF8RK33-"
      },
      "source": [
        "![image.png](attachment:image.png)"
      ]
    },
    {
      "cell_type": "markdown",
      "metadata": {
        "id": "9ginGQoWK33-"
      },
      "source": [
        "- tf.keras.layers.Dropout"
      ]
    },
    {
      "cell_type": "code",
      "metadata": {
        "id": "-JR_kYOtK33-"
      },
      "source": [
        "layer = tf.keras.layers.Dropout(0.7)\n",
        "output = layer(output)"
      ],
      "execution_count": 59,
      "outputs": []
    },
    {
      "cell_type": "code",
      "metadata": {
        "id": "o8MGsFaPcRcf",
        "outputId": "7bd0492d-59f1-4434-9d67-4288fd084c55",
        "colab": {
          "base_uri": "https://localhost:8080/"
        }
      },
      "source": [
        "output.shape"
      ],
      "execution_count": 61,
      "outputs": [
        {
          "output_type": "execute_result",
          "data": {
            "text/plain": [
              "TensorShape([1, 10])"
            ]
          },
          "metadata": {},
          "execution_count": 61
        }
      ]
    },
    {
      "cell_type": "code",
      "metadata": {
        "id": "yIctIhDeK33-",
        "outputId": "a432141d-088d-4217-8f56-0997654e667d",
        "colab": {
          "base_uri": "https://localhost:8080/",
          "height": 286
        }
      },
      "source": [
        "plt.figure(figsize=(10, 5))\n",
        "plt.subplot(211)\n",
        "plt.hist(output.numpy().ravel())\n",
        "plt.subplot(212)\n",
        "plt.imshow(output[:,:100])\n",
        "plt.show()"
      ],
      "execution_count": 60,
      "outputs": [
        {
          "output_type": "display_data",
          "data": {
            "image/png": "[encoded data removed]",
            "text/plain": [
              "<Figure size 720x360 with 2 Axes>"
            ]
          },
          "metadata": {
            "needs_background": "light"
          }
        }
      ]
    },
    {
      "cell_type": "markdown",
      "metadata": {
        "id": "lo2m8knKK33-"
      },
      "source": [
        "# Build Model"
      ]
    },
    {
      "cell_type": "markdown",
      "metadata": {
        "id": "2AtZy_GYK33_"
      },
      "source": [
        "![image.png](attachment:image.png)"
      ]
    },
    {
      "cell_type": "code",
      "metadata": {
        "id": "Aq9SkyL9K33_"
      },
      "source": [
        "from tensorflow.keras import layers"
      ],
      "execution_count": 62,
      "outputs": []
    },
    {
      "cell_type": "code",
      "metadata": {
        "id": "T3_geBCUK33_"
      },
      "source": [
        "input_shape = (28, 28, 1)\n",
        "num_classes = 10"
      ],
      "execution_count": 63,
      "outputs": []
    },
    {
      "cell_type": "code",
      "metadata": {
        "id": "qiCnC2oSK33_"
      },
      "source": [
        "inputs = layers.Input(input_shape)\n",
        "#32는 필터개수 \n",
        "#feature extraction이며, 여기서는 전부 연결헀고 끝에 Dropout을 설정해줬다.\n",
        "net = layers.Conv2D(32, (3, 3), padding='SAME')(inputs)\n",
        "net = layers.Activation('relu')(net)\n",
        "net = layers.Conv2D(32, (3, 3), padding='SAME')(net)\n",
        "net = layers.Activation('relu')(net)\n",
        "net = layers.MaxPooling2D(pool_size=(2, 2))(net)\n",
        "net = layers.Dropout(0.25)(net)\n",
        "\n",
        "net = layers.Conv2D(64, (3, 3), padding='SAME')(net)\n",
        "net = layers.Activation('relu')(net)\n",
        "net = layers.Conv2D(64, (3, 3), padding='SAME')(net)\n",
        "net = layers.Activation('relu')(net)\n",
        "net = layers.MaxPooling2D(pool_size=(2, 2))(net)\n",
        "net = layers.Dropout(0.25)(net)\n",
        "\n",
        "net = layers.Flatten()(net)\n",
        "net = layers.Dense(512)(net)\n",
        "net = layers.Activation('relu')(net)\n",
        "net = layers.Dropout(0.5)(net)\n",
        "net = layers.Dense(num_classes)(net)\n",
        "net = layers.Activation('softmax')(net)\n",
        "\n",
        "model = tf.keras.Model(inputs=inputs, outputs=net, name='CVandAR')"
      ],
      "execution_count": 65,
      "outputs": []
    },
    {
      "cell_type": "markdown",
      "metadata": {
        "id": "nUYJBr2IK34A"
      },
      "source": [
        "## Summary"
      ]
    },
    {
      "cell_type": "code",
      "metadata": {
        "scrolled": false,
        "id": "ioq73d8TK34A",
        "outputId": "da6c755c-8a08-47ac-8de2-e30441be3840",
        "colab": {
          "base_uri": "https://localhost:8080/"
        }
      },
      "source": [
        "model.summary()"
      ],
      "execution_count": 66,
      "outputs": [
        {
          "output_type": "stream",
          "name": "stdout",
          "text": [
            "Model: \"CVandAR\"\n",
            "_________________________________________________________________\n",
            "Layer (type)                 Output Shape              Param #   \n",
            "=================================================================\n",
            "input_2 (InputLayer)         [(None, 28, 28, 1)]       0         \n",
            "_________________________________________________________________\n",
            "conv2d_7 (Conv2D)            (None, 28, 28, 32)        320       \n",
            "_________________________________________________________________\n",
            "activation_6 (Activation)    (None, 28, 28, 32)        0         \n",
            "_________________________________________________________________\n",
            "conv2d_8 (Conv2D)            (None, 28, 28, 32)        9248      \n",
            "_________________________________________________________________\n",
            "activation_7 (Activation)    (None, 28, 28, 32)        0         \n",
            "_________________________________________________________________\n",
            "max_pooling2d_5 (MaxPooling2 (None, 14, 14, 32)        0         \n",
            "_________________________________________________________________\n",
            "dropout_4 (Dropout)          (None, 14, 14, 32)        0         \n",
            "_________________________________________________________________\n",
            "conv2d_9 (Conv2D)            (None, 14, 14, 64)        18496     \n",
            "_________________________________________________________________\n",
            "activation_8 (Activation)    (None, 14, 14, 64)        0         \n",
            "_________________________________________________________________\n",
            "conv2d_10 (Conv2D)           (None, 14, 14, 64)        36928     \n",
            "_________________________________________________________________\n",
            "activation_9 (Activation)    (None, 14, 14, 64)        0         \n",
            "_________________________________________________________________\n",
            "max_pooling2d_6 (MaxPooling2 (None, 7, 7, 64)          0         \n",
            "_________________________________________________________________\n",
            "dropout_5 (Dropout)          (None, 7, 7, 64)          0         \n",
            "_________________________________________________________________\n",
            "flatten_3 (Flatten)          (None, 3136)              0         \n",
            "_________________________________________________________________\n",
            "dense_5 (Dense)              (None, 512)               1606144   \n",
            "_________________________________________________________________\n",
            "activation_10 (Activation)   (None, 512)               0         \n",
            "_________________________________________________________________\n",
            "dropout_6 (Dropout)          (None, 512)               0         \n",
            "_________________________________________________________________\n",
            "dense_6 (Dense)              (None, 10)                5130      \n",
            "_________________________________________________________________\n",
            "activation_11 (Activation)   (None, 10)                0         \n",
            "=================================================================\n",
            "Total params: 1,676,266\n",
            "Trainable params: 1,676,266\n",
            "Non-trainable params: 0\n",
            "_________________________________________________________________\n"
          ]
        }
      ]
    },
    {
      "cell_type": "code",
      "metadata": {
        "id": "4v0hO7tOequE"
      },
      "source": [
        ""
      ],
      "execution_count": null,
      "outputs": []
    }
  ]
}