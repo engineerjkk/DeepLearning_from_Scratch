{
  "nbformat": 4,
  "nbformat_minor": 0,
  "metadata": {
    "colab": {
      "name": "Flatten and Dense Layer",
      "provenance": [],
      "collapsed_sections": [],
      "authorship_tag": "ABX9TyOYeebfFHIJ0X1wLdCnkmZA",
      "include_colab_link": true
    },
    "kernelspec": {
      "name": "python3",
      "display_name": "Python 3"
    },
    "language_info": {
      "name": "python"
    }
  },
  "cells": [
    {
      "cell_type": "markdown",
      "metadata": {
        "id": "view-in-github",
        "colab_type": "text"
      },
      "source": [
        "<a href=\"https://colab.research.google.com/github/engineerjkk/DeepLearning_from_Scratch/blob/main/Flatten_and_Dense_Layer.ipynb\" target=\"_parent\"><img src=\"https://colab.research.google.com/assets/colab-badge.svg\" alt=\"Open In Colab\"/></a>"
      ]
    },
    {
      "cell_type": "code",
      "metadata": {
        "id": "QKEf57J16ooo"
      },
      "source": [
        "from termcolor import colored\n",
        "\n",
        "import tensorflow as tf\n",
        "from tensorflow.keras.layers import Flatten, Dense"
      ],
      "execution_count": 4,
      "outputs": []
    },
    {
      "cell_type": "code",
      "metadata": {
        "id": "EcBVFXBXA65a"
      },
      "source": [
        "import cv2\n",
        "import matplotlib.pyplot as plt"
      ],
      "execution_count": 18,
      "outputs": []
    },
    {
      "cell_type": "code",
      "metadata": {
        "id": "Nnnld5LS80Fn"
      },
      "source": [
        "def p_color(input_string,input_object):\n",
        "  print(colored(input_string+':','magenta'))\n",
        "  print(colored('shape: ','cyan'),input_object.shape,'\\n')"
      ],
      "execution_count": 6,
      "outputs": []
    },
    {
      "cell_type": "code",
      "metadata": {
        "id": "XSiQvPtx8RRc"
      },
      "source": [
        "feature_map=tf.random.normal(mean=0,stddev=1,shape=(1,11,11,128))"
      ],
      "execution_count": 7,
      "outputs": []
    },
    {
      "cell_type": "code",
      "metadata": {
        "id": "Qd8Nu-ee9vVt"
      },
      "source": [
        "flatten=Flatten()"
      ],
      "execution_count": 8,
      "outputs": []
    },
    {
      "cell_type": "code",
      "metadata": {
        "id": "maybNvYQ9wWN"
      },
      "source": [
        "flattened=flatten(feature_map)"
      ],
      "execution_count": 9,
      "outputs": []
    },
    {
      "cell_type": "code",
      "metadata": {
        "colab": {
          "base_uri": "https://localhost:8080/"
        },
        "id": "3oY1DI1L9ze9",
        "outputId": "73d76fcd-45cf-4fe0-e8f1-b0ecf75b4a05"
      },
      "source": [
        "p_color('feature map',feature_map)\n",
        "p_color('after flatten',flattened)"
      ],
      "execution_count": 11,
      "outputs": [
        {
          "output_type": "stream",
          "name": "stdout",
          "text": [
            "\u001b[35mfeature map:\u001b[0m\n",
            "\u001b[36mshape: \u001b[0m (1, 11, 11, 128) \n",
            "\n",
            "\u001b[35mafter flatten:\u001b[0m\n",
            "\u001b[36mshape: \u001b[0m (1, 15488) \n",
            "\n"
          ]
        }
      ]
    },
    {
      "cell_type": "code",
      "metadata": {
        "colab": {
          "base_uri": "https://localhost:8080/"
        },
        "id": "8VYxn7GmBHN8",
        "outputId": "2cf7e895-0167-4018-d322-e110db9abb1d"
      },
      "source": [
        "#cv2.cvtColor(flattened, cv2.COLOR_BGR2RGB)\n",
        "print(flattened)"
      ],
      "execution_count": 24,
      "outputs": [
        {
          "output_type": "stream",
          "name": "stdout",
          "text": [
            "tf.Tensor(\n",
            "[[ 1.5152524   1.2862004   1.0044637  ...  0.6620656  -0.31843555\n",
            "  -0.709769  ]], shape=(1, 15488), dtype=float32)\n"
          ]
        }
      ]
    },
    {
      "cell_type": "code",
      "metadata": {
        "colab": {
          "base_uri": "https://localhost:8080/"
        },
        "id": "jFbHuiP5988G",
        "outputId": "4c40d141-c785-4363-ee11-0992c0947357"
      },
      "source": [
        "print(flatten.get_weights())"
      ],
      "execution_count": 12,
      "outputs": [
        {
          "output_type": "stream",
          "name": "stdout",
          "text": [
            "[]\n"
          ]
        }
      ]
    },
    {
      "cell_type": "code",
      "metadata": {
        "id": "3zzCroWV_Ew-"
      },
      "source": [
        "# %%"
      ],
      "execution_count": 13,
      "outputs": []
    },
    {
      "cell_type": "code",
      "metadata": {
        "id": "ohXUV23n_JqV"
      },
      "source": [
        "test_feature=tf.random.normal(mean=0,stddev=1,shape=(32,1024))"
      ],
      "execution_count": 15,
      "outputs": []
    },
    {
      "cell_type": "code",
      "metadata": {
        "colab": {
          "base_uri": "https://localhost:8080/"
        },
        "id": "Ya-ZAOku_NHd",
        "outputId": "1995f07e-f49c-4b9c-8b67-6d7aa462bcde"
      },
      "source": [
        "dense=Dense(units=64, activation='relu')\n",
        "densed=dense(test_feature)\n",
        "\n",
        "p_color('test_feature map',test_feature)\n",
        "p_color('after dense',densed)"
      ],
      "execution_count": 17,
      "outputs": [
        {
          "output_type": "stream",
          "name": "stdout",
          "text": [
            "\u001b[35mtest_feature map:\u001b[0m\n",
            "\u001b[36mshape: \u001b[0m (32, 1024) \n",
            "\n",
            "\u001b[35mafter dense:\u001b[0m\n",
            "\u001b[36mshape: \u001b[0m (32, 64) \n",
            "\n"
          ]
        }
      ]
    },
    {
      "cell_type": "code",
      "metadata": {
        "colab": {
          "base_uri": "https://localhost:8080/"
        },
        "id": "QtV_RhXm_5ho",
        "outputId": "3e01f753-a48a-4f88-91b7-2ba768d68a92"
      },
      "source": [
        "print(dense.get_weights()[0].shape)"
      ],
      "execution_count": 25,
      "outputs": [
        {
          "output_type": "stream",
          "name": "stdout",
          "text": [
            "(1024, 64)\n"
          ]
        }
      ]
    },
    {
      "cell_type": "markdown",
      "metadata": {
        "id": "KtFJI301BzWI"
      },
      "source": [
        "weight와 bias에 대한 파라미터를 가지고 있다."
      ]
    },
    {
      "cell_type": "code",
      "metadata": {
        "colab": {
          "base_uri": "https://localhost:8080/"
        },
        "id": "jTCGOW6bBtaO",
        "outputId": "e568eebd-8694-46d9-f4ff-8ae95a1da986"
      },
      "source": [
        "print(dense.get_weights())"
      ],
      "execution_count": 26,
      "outputs": [
        {
          "output_type": "stream",
          "name": "stdout",
          "text": [
            "[array([[ 6.89835399e-02, -4.55398224e-02,  1.25545040e-02, ...,\n",
            "         7.41326511e-02,  5.20199537e-05,  1.13728195e-02],\n",
            "       [-1.34729445e-02,  2.37608477e-02, -4.80480343e-02, ...,\n",
            "         7.35430568e-02,  3.35934907e-02,  4.94586602e-02],\n",
            "       [-2.09530480e-02,  3.01041156e-02, -3.04312259e-03, ...,\n",
            "         6.75551593e-03,  4.22557890e-02,  8.07559490e-03],\n",
            "       ...,\n",
            "       [ 1.15897655e-02,  6.28528595e-02,  5.45614660e-02, ...,\n",
            "         2.14729235e-02, -6.21330813e-02, -9.35680419e-03],\n",
            "       [ 4.22986597e-03,  3.59653533e-02,  5.52398711e-02, ...,\n",
            "         6.66879117e-02, -7.31804818e-02,  6.02425188e-02],\n",
            "       [ 7.33351558e-02,  4.93469238e-02, -5.59762716e-02, ...,\n",
            "        -7.41475597e-02, -9.93751734e-03, -3.13457809e-02]], dtype=float32), array([0., 0., 0., 0., 0., 0., 0., 0., 0., 0., 0., 0., 0., 0., 0., 0., 0.,\n",
            "       0., 0., 0., 0., 0., 0., 0., 0., 0., 0., 0., 0., 0., 0., 0., 0., 0.,\n",
            "       0., 0., 0., 0., 0., 0., 0., 0., 0., 0., 0., 0., 0., 0., 0., 0., 0.,\n",
            "       0., 0., 0., 0., 0., 0., 0., 0., 0., 0., 0., 0., 0.], dtype=float32)]\n"
          ]
        }
      ]
    },
    {
      "cell_type": "code",
      "metadata": {
        "id": "0Gguijb6Bxe0"
      },
      "source": [
        "from tensorflow.keras.layers import Conv2D, MaxPooling2D"
      ],
      "execution_count": 27,
      "outputs": []
    },
    {
      "cell_type": "code",
      "metadata": {
        "id": "4UfSZw10CFVM"
      },
      "source": [
        "# %"
      ],
      "execution_count": 28,
      "outputs": []
    },
    {
      "cell_type": "code",
      "metadata": {
        "id": "VnQBEcfeCvLl"
      },
      "source": [
        "import numpy as np"
      ],
      "execution_count": 29,
      "outputs": []
    },
    {
      "cell_type": "code",
      "metadata": {
        "colab": {
          "base_uri": "https://localhost:8080/"
        },
        "id": "ALJqCSw-CGxE",
        "outputId": "63494cb7-d933-4ba6-85a2-f5c94d7acfba"
      },
      "source": [
        "test_image=tf.random.normal(mean=0,stddev=1,shape=(32,50,50,3))\n",
        "conv=Conv2D(filters=8,kernel_size=(3,3),padding='same',activation='relu')\n",
        "conv_pool=MaxPooling2D(pool_size=2,strides=2)\n",
        "flatten=Flatten()\n",
        "dense=Dense(units=10,activation='softmax')\n",
        "\n",
        "p_color('inputs',test_image)\n",
        "x=conv(test_image)\n",
        "p_color('after conv',x)\n",
        "x=conv_pool(x)\n",
        "p_color('after conv_pool',x)\n",
        "x=flatten(x)\n",
        "p_color('after flatten',x)\n",
        "x=dense(x)\n",
        "p_color('after dense',x)"
      ],
      "execution_count": 33,
      "outputs": [
        {
          "output_type": "stream",
          "name": "stdout",
          "text": [
            "\u001b[35minputs:\u001b[0m\n",
            "\u001b[36mshape: \u001b[0m (32, 50, 50, 3) \n",
            "\n",
            "\u001b[35mafter conv:\u001b[0m\n",
            "\u001b[36mshape: \u001b[0m (32, 50, 50, 8) \n",
            "\n",
            "\u001b[35mafter conv_pool:\u001b[0m\n",
            "\u001b[36mshape: \u001b[0m (32, 25, 25, 8) \n",
            "\n",
            "\u001b[35mafter flatten:\u001b[0m\n",
            "\u001b[36mshape: \u001b[0m (32, 5000) \n",
            "\n",
            "\u001b[35mafter dense:\u001b[0m\n",
            "\u001b[36mshape: \u001b[0m (32, 10) \n",
            "\n"
          ]
        }
      ]
    },
    {
      "cell_type": "code",
      "metadata": {
        "id": "scbZuwP1CySu"
      },
      "source": [
        ""
      ],
      "execution_count": null,
      "outputs": []
    }
  ]
}